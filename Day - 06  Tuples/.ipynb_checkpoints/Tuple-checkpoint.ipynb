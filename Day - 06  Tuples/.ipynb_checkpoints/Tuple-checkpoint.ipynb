{
 "cells": [
  {
   "cell_type": "markdown",
   "id": "081a899a",
   "metadata": {},
   "source": [
    "## Tuples"
   ]
  },
  {
   "cell_type": "markdown",
   "id": "336401af",
   "metadata": {},
   "source": [
    "A built-in data type that create immutable sequences of values."
   ]
  },
  {
   "cell_type": "code",
   "execution_count": 7,
   "id": "e28bb4cc",
   "metadata": {},
   "outputs": [],
   "source": [
    "tup1 = (87,64,33,95,76)\n",
    "\n",
    "#tup[0]= 54  # not allowed"
   ]
  },
  {
   "cell_type": "code",
   "execution_count": 4,
   "id": "37234284",
   "metadata": {},
   "outputs": [
    {
     "name": "stdout",
     "output_type": "stream",
     "text": [
      "<class 'tuple'>\n"
     ]
    }
   ],
   "source": [
    "print(type(tup))"
   ]
  },
  {
   "cell_type": "code",
   "execution_count": 3,
   "id": "29bb863d",
   "metadata": {},
   "outputs": [
    {
     "data": {
      "text/plain": [
       "64"
      ]
     },
     "execution_count": 3,
     "metadata": {},
     "output_type": "execute_result"
    }
   ],
   "source": [
    "tup[1]"
   ]
  },
  {
   "cell_type": "markdown",
   "id": "99b0c6b0",
   "metadata": {},
   "source": [
    "## Empty tuple"
   ]
  },
  {
   "cell_type": "code",
   "execution_count": 5,
   "id": "fca63102",
   "metadata": {},
   "outputs": [
    {
     "name": "stdout",
     "output_type": "stream",
     "text": [
      "()\n"
     ]
    }
   ],
   "source": [
    "tup = ()\n",
    "print(tup)"
   ]
  },
  {
   "cell_type": "markdown",
   "id": "2e790238",
   "metadata": {},
   "source": [
    "## Single tuple"
   ]
  },
  {
   "cell_type": "code",
   "execution_count": 6,
   "id": "01ae7d0e",
   "metadata": {},
   "outputs": [
    {
     "name": "stdout",
     "output_type": "stream",
     "text": [
      "(1,)\n"
     ]
    }
   ],
   "source": [
    "tup = (1,)\n",
    "print(tup)"
   ]
  },
  {
   "cell_type": "markdown",
   "id": "a43c28e7",
   "metadata": {},
   "source": [
    "## Slicing"
   ]
  },
  {
   "cell_type": "code",
   "execution_count": 8,
   "id": "4033a0ff",
   "metadata": {},
   "outputs": [
    {
     "name": "stdout",
     "output_type": "stream",
     "text": [
      "(64, 33)\n"
     ]
    }
   ],
   "source": [
    "print(tup1[1:3])"
   ]
  },
  {
   "cell_type": "markdown",
   "id": "b3037f7b",
   "metadata": {},
   "source": [
    "## Tuple methodes"
   ]
  },
  {
   "cell_type": "code",
   "execution_count": 11,
   "id": "374785d9",
   "metadata": {},
   "outputs": [
    {
     "name": "stdout",
     "output_type": "stream",
     "text": [
      "1\n",
      "1\n"
     ]
    }
   ],
   "source": [
    "tup = (2, 1, 3, 1)\n",
    "\n",
    "print(tup.index(1)) #returns index of first occurrence tup.index(1) is 1\n",
    "\n",
    "print(tup.count(2)) #counts total occurrences tup.count(1) is 2\n",
    "\n"
   ]
  },
  {
   "cell_type": "markdown",
   "id": "408072b9",
   "metadata": {},
   "source": [
    "## Excercise"
   ]
  },
  {
   "cell_type": "code",
   "execution_count": 12,
   "id": "ac107c03",
   "metadata": {},
   "outputs": [
    {
     "name": "stdout",
     "output_type": "stream",
     "text": [
      "enter movie 1st:sita ramam\n",
      "enter movie 2nd:dj\n",
      "enter movie 3rd:maharshi\n",
      "['sita ramam', 'dj', 'maharshi']\n"
     ]
    }
   ],
   "source": [
    "\n",
    "list = []\n",
    "mov1 = input(\"enter movie 1st:\")\n",
    "list.append(mov1)\n",
    "mov2 = input(\"enter movie 2nd:\")\n",
    "list.append(mov2)\n",
    "mov3 = input(\"enter movie 3rd:\")\n",
    "list.append(mov3)\n",
    "\n",
    "\n",
    "print(list)"
   ]
  },
  {
   "cell_type": "markdown",
   "id": "d2ab9218",
   "metadata": {},
   "source": [
    "## Palindrom program"
   ]
  },
  {
   "cell_type": "code",
   "execution_count": 14,
   "id": "28872111",
   "metadata": {},
   "outputs": [
    {
     "name": "stdout",
     "output_type": "stream",
     "text": [
      "palindrome\n"
     ]
    }
   ],
   "source": [
    "list = [1,2,3,2,1]\n",
    "\n",
    "copy_list  = list.copy()\n",
    "copy_list.reverse()\n",
    "\n",
    "if(copy_list == list):\n",
    "    print(\"palindrome\")\n",
    "else:\n",
    "    print(\"not palindrome\")\n"
   ]
  },
  {
   "cell_type": "code",
   "execution_count": null,
   "id": "6848b060",
   "metadata": {},
   "outputs": [],
   "source": []
  }
 ],
 "metadata": {
  "kernelspec": {
   "display_name": "Python 3 (ipykernel)",
   "language": "python",
   "name": "python3"
  },
  "language_info": {
   "codemirror_mode": {
    "name": "ipython",
    "version": 3
   },
   "file_extension": ".py",
   "mimetype": "text/x-python",
   "name": "python",
   "nbconvert_exporter": "python",
   "pygments_lexer": "ipython3",
   "version": "3.11.3"
  }
 },
 "nbformat": 4,
 "nbformat_minor": 5
}
