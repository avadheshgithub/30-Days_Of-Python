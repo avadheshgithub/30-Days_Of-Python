{
 "cells": [
  {
   "cell_type": "markdown",
   "id": "72fd2fa3",
   "metadata": {},
   "source": [
    "## File Handling"
   ]
  },
  {
   "cell_type": "markdown",
   "id": "389b4163",
   "metadata": {},
   "source": [
    "Python can be used to perform operations on a file. (read & write data)\n",
    "\n",
    "\n",
    "#### Memory \n",
    "\n",
    "Ram - Non Volatile\n",
    "\n",
    "    - not permanent saved\n",
    "    \n",
    "so file is needed\n",
    "\n",
    "\n",
    "\n",
    "."
   ]
  },
  {
   "cell_type": "markdown",
   "id": "4d3a64c3",
   "metadata": {},
   "source": [
    "Types of all files\n",
    "\n",
    "1. Text Files : .txt, .docx , .log etc\n",
    "\n",
    "2. Binary files: .mp4, .mov, .png, .jpeg etc."
   ]
  },
  {
   "cell_type": "markdown",
   "id": "f73c30c9",
   "metadata": {},
   "source": [
    "## Open, read & close File"
   ]
  },
  {
   "cell_type": "markdown",
   "id": "6e1c18c8",
   "metadata": {},
   "source": [
    "\n",
    "We have to open a file before reading or writing.\n",
    "\n",
    "\n",
    "f = open( “file_name”,\"mode\")\n",
    "\n",
    "\n",
    "file_name like sample.txt, demo.docx\n",
    "\n",
    "\n",
    "mode like r : read mode , w : write mode"
   ]
  },
  {
   "cell_type": "markdown",
   "id": "be27c495",
   "metadata": {},
   "source": [
    "### Example"
   ]
  },
  {
   "cell_type": "code",
   "execution_count": null,
   "id": "efeac364",
   "metadata": {},
   "outputs": [],
   "source": [
    "Data = f.read()\n",
    "f.close()"
   ]
  },
  {
   "cell_type": "markdown",
   "id": "dbcb3ad6",
   "metadata": {},
   "source": [
    "### Open & Read file"
   ]
  },
  {
   "cell_type": "code",
   "execution_count": null,
   "id": "b875104d",
   "metadata": {},
   "outputs": [],
   "source": [
    "f = open(\"demo.txt\",\"r\")\n",
    "data = f.read()\n",
    "print(data)\n",
    "print(type(data))\n",
    "f.close()"
   ]
  },
  {
   "cell_type": "markdown",
   "id": "e526f4c1",
   "metadata": {},
   "source": [
    "## Character & meaning\n",
    "\n",
    "'r'  - open for reading (default)\n",
    "\n",
    "'w'  - open for writing , truncating the file first\n",
    "\n",
    "'x'  - create a new file and open it for writing\n",
    "\n",
    "'a' - open fir writing, apending to the end of the file if it exiest\n",
    "\n",
    "'b' - binary mode\n",
    "\n",
    "'t' - text mode (default)\n",
    "\n",
    "'+' - open as disk file for updating (reading and writing)"
   ]
  },
  {
   "cell_type": "markdown",
   "id": "7d412dd7",
   "metadata": {},
   "source": [
    "## Reading a file"
   ]
  },
  {
   "cell_type": "code",
   "execution_count": null,
   "id": "9b018d0b",
   "metadata": {},
   "outputs": [],
   "source": [
    "data = f.read()  #reads entire file\n",
    "\n",
    "data = f.readline() # #reads one line at a time"
   ]
  },
  {
   "cell_type": "markdown",
   "id": "66b88d66",
   "metadata": {},
   "source": [
    "#### Ex"
   ]
  },
  {
   "cell_type": "code",
   "execution_count": null,
   "id": "49099df8",
   "metadata": {},
   "outputs": [],
   "source": [
    "f = open(\"demo.txt\",\"r\")\n",
    "\n",
    "line1 = f.readline() \n",
    "print(line1)\n",
    "\n",
    "line2 = f.readline() \n",
    "print(line2)\n",
    "\n",
    "f.close()"
   ]
  },
  {
   "cell_type": "markdown",
   "id": "a2ac3e49",
   "metadata": {},
   "source": [
    "## Writting to a file"
   ]
  },
  {
   "cell_type": "markdown",
   "id": "11fa84f8",
   "metadata": {},
   "source": [
    "Note - when we have no file exiest, then compiler create new file"
   ]
  },
  {
   "cell_type": "code",
   "execution_count": null,
   "id": "27672cda",
   "metadata": {},
   "outputs": [],
   "source": [
    "f = open(\"demo.txt,\"w\")\n",
    "        \n",
    "f.write(\"this is a new line\") # Overwrite to the entire file"
   ]
  },
  {
   "cell_type": "code",
   "execution_count": null,
   "id": "1bdbbeca",
   "metadata": {},
   "outputs": [],
   "source": [
    "f = open(\"demo.txt,\"a\")\n",
    "        \n",
    "f.write(\"\\n this is a new line\") # Adds to the file"
   ]
  },
  {
   "cell_type": "markdown",
   "id": "e4818687",
   "metadata": {},
   "source": [
    "## with Syntax"
   ]
  },
  {
   "cell_type": "code",
   "execution_count": null,
   "id": "950a5644",
   "metadata": {},
   "outputs": [],
   "source": [
    "with open(\"demo.txt\",\"r\") as f:\n",
    "    data = f.read()\n",
    "    print (data)\n",
    "    \n",
    "# Note - here it is not neccessary to close the file becasue in with syntax it happens autoatically"
   ]
  },
  {
   "cell_type": "code",
   "execution_count": null,
   "id": "d9dd0869",
   "metadata": {},
   "outputs": [],
   "source": [
    "with open(\"demo.txt\",\"w\") as f:\n",
    "    data = f.write(\"new data\")\n",
    "    print (data)"
   ]
  },
  {
   "cell_type": "markdown",
   "id": "4a5d6db6",
   "metadata": {},
   "source": [
    "## Deleting a file"
   ]
  },
  {
   "cell_type": "code",
   "execution_count": null,
   "id": "3629091c",
   "metadata": {},
   "outputs": [],
   "source": [
    "import os\n",
    "os.remove(\"demo.txt\")"
   ]
  },
  {
   "cell_type": "markdown",
   "id": "eedc7739",
   "metadata": {},
   "source": [
    "## Excercise"
   ]
  },
  {
   "cell_type": "code",
   "execution_count": null,
   "id": "7d8937a4",
   "metadata": {},
   "outputs": [],
   "source": []
  }
 ],
 "metadata": {
  "kernelspec": {
   "display_name": "Python 3 (ipykernel)",
   "language": "python",
   "name": "python3"
  },
  "language_info": {
   "codemirror_mode": {
    "name": "ipython",
    "version": 3
   },
   "file_extension": ".py",
   "mimetype": "text/x-python",
   "name": "python",
   "nbconvert_exporter": "python",
   "pygments_lexer": "ipython3",
   "version": "3.11.3"
  }
 },
 "nbformat": 4,
 "nbformat_minor": 5
}
