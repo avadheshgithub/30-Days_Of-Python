{
 "cells": [
  {
   "cell_type": "markdown",
   "id": "f97a6a22",
   "metadata": {},
   "source": [
    "# API"
   ]
  },
  {
   "cell_type": "markdown",
   "id": "62739fa7",
   "metadata": {},
   "source": [
    "Application Programming Interface (API)\n",
    "\n",
    "API stands for Application Programming Interface. The kind of API we will cover in this section is going to be Web APIs. Web APIs are the defined interfaces through which interactions happen between an enterprise and applications that use its assets, whichalso is a Service Level Agreement (SLA) to specify the functional provider and expose the service path or URL for its API users"
   ]
  },
  {
   "cell_type": "markdown",
   "id": "644fa5ef",
   "metadata": {},
   "source": [
    "    To create a RESTful API using Python Flask and MongoDB, we can follow  these steps to implement the basic CRUD (Create, Read, Update, Delete) "
   ]
  },
  {
   "cell_type": "markdown",
   "id": "cda668b6",
   "metadata": {},
   "source": [
    "### Setting Up the Environment"
   ]
  },
  {
   "cell_type": "code",
   "execution_count": null,
   "id": "32a23baa",
   "metadata": {},
   "outputs": [],
   "source": [
    "# Install Required Packages:\n",
    "pip install flask pymongo dnspython\n",
    "\n",
    "# Create the Flask Application:\n",
    "app.py"
   ]
  },
  {
   "cell_type": "markdown",
   "id": "894da2e2",
   "metadata": {},
   "source": [
    "### Building the API\n"
   ]
  },
  {
   "cell_type": "markdown",
   "id": "06544f87",
   "metadata": {},
   "source": [
    "#### 1. Set Up the Flask App and MongoDB Connection:"
   ]
  },
  {
   "cell_type": "code",
   "execution_count": null,
   "id": "afaa3660",
   "metadata": {},
   "outputs": [],
   "source": [
    "from flask import Flask, request, jsonify\n",
    "from pymongo import MongoClient\n",
    "import os\n",
    "\n",
    "app = Flask(__name__)\n",
    "\n",
    "# Replace the following URI with your actual MongoDB URI\n",
    "MONGODB_URI = 'mongodb+srv://<username>:<password>@cluster0.mongodb.net/test?retryWrites=true&w=majority'\n",
    "\n",
    "client = MongoClient(MONGODB_URI)\n",
    "db = client['thirty_days_of_python']\n",
    "students_collection = db['students']\n",
    "\n",
    "@app.route('/')\n",
    "def home():\n",
    "    return \"Welcome to the Flask API\"\n"
   ]
  },
  {
   "cell_type": "markdown",
   "id": "9a690ed2",
   "metadata": {},
   "source": [
    "#### 2. Define the CRUD Routes:"
   ]
  },
  {
   "cell_type": "code",
   "execution_count": null,
   "id": "3911929a",
   "metadata": {},
   "outputs": [],
   "source": [
    "# Create a Student (POST):\n",
    "@app.route('/students', methods=['POST'])\n",
    "def add_student():\n",
    "    student = request.json\n",
    "    students_collection.insert_one(student)\n",
    "    return jsonify({'msg': 'Student added successfully!'}), 201\n"
   ]
  },
  {
   "cell_type": "code",
   "execution_count": null,
   "id": "6b264230",
   "metadata": {},
   "outputs": [],
   "source": [
    "# Read Students (GET):\n",
    "\n",
    "@app.route('/students', methods=['GET'])\n",
    "def get_students():\n",
    "    students = list(students_collection.find())\n",
    "    for student in students:\n",
    "        student['_id'] = str(student['_id'])\n",
    "    return jsonify(students)"
   ]
  },
  {
   "cell_type": "code",
   "execution_count": null,
   "id": "a6b25f55",
   "metadata": {},
   "outputs": [],
   "source": [
    "# Update a Student (PUT):\n",
    "\n",
    "python\n",
    "Copy code\n",
    "@app.route('/students/<id>', methods=['PUT'])\n",
    "def update_student(id):\n",
    "    student = request.json\n",
    "    students_collection.update_one({'_id': ObjectId(id)}, {'$set': student})\n",
    "    return jsonify({'msg': 'Student updated successfully!'}"
   ]
  },
  {
   "cell_type": "code",
   "execution_count": null,
   "id": "6387cbcc",
   "metadata": {},
   "outputs": [],
   "source": [
    "# Delete a Student (DELETE):\n",
    "\n",
    "python\n",
    "Copy code\n",
    "@app.route('/students/<id>', methods=['DELETE'])\n",
    "def delete_student(id):\n",
    "    students_collection.delete_one({'_id': ObjectId(id)})\n",
    "    return jsonify({'msg': 'Student deleted successfully!'})"
   ]
  },
  {
   "cell_type": "markdown",
   "id": "1944a5cc",
   "metadata": {},
   "source": [
    "### Run the Flask App"
   ]
  },
  {
   "cell_type": "code",
   "execution_count": null,
   "id": "d8d82ed1",
   "metadata": {},
   "outputs": [],
   "source": [
    "if __name__ == '__main__':\n",
    "    port = int(os.environ.get(\"PORT\", 5000))\n",
    "    app.run(debug=True, host='0.0.0.0', port=port)\n"
   ]
  },
  {
   "cell_type": "markdown",
   "id": "201859c8",
   "metadata": {},
   "source": [
    "### Testing the API"
   ]
  },
  {
   "cell_type": "code",
   "execution_count": null,
   "id": "3de304b1",
   "metadata": {},
   "outputs": [],
   "source": [
    "{\n",
    "  \"name\": \"John Doe\",\n",
    "  \"age\": 25,\n",
    "  \"course\": \"Computer Science\"\n",
    "}\n"
   ]
  }
 ],
 "metadata": {
  "kernelspec": {
   "display_name": "Python 3 (ipykernel)",
   "language": "python",
   "name": "python3"
  },
  "language_info": {
   "codemirror_mode": {
    "name": "ipython",
    "version": 3
   },
   "file_extension": ".py",
   "mimetype": "text/x-python",
   "name": "python",
   "nbconvert_exporter": "python",
   "pygments_lexer": "ipython3",
   "version": "3.11.3"
  }
 },
 "nbformat": 4,
 "nbformat_minor": 5
}
