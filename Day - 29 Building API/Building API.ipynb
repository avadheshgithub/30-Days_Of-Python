{
 "cells": [
  {
   "cell_type": "markdown",
   "id": "9e3fa492",
   "metadata": {},
   "source": [
    "# Building API"
   ]
  },
  {
   "cell_type": "markdown",
   "id": "efa3280c",
   "metadata": {},
   "source": [
    "### Building a RESTful API with Flask and MongoDB"
   ]
  },
  {
   "cell_type": "code",
   "execution_count": null,
   "id": "b6e5e999",
   "metadata": {},
   "outputs": [],
   "source": []
  },
  {
   "cell_type": "code",
   "execution_count": null,
   "id": "86a87331",
   "metadata": {},
   "outputs": [],
   "source": []
  },
  {
   "cell_type": "code",
   "execution_count": null,
   "id": "5927227c",
   "metadata": {},
   "outputs": [],
   "source": []
  },
  {
   "cell_type": "markdown",
   "id": "66378482",
   "metadata": {},
   "source": [
    "#### Note - Follow Second document for further learning"
   ]
  },
  {
   "cell_type": "code",
   "execution_count": null,
   "id": "276b12df",
   "metadata": {},
   "outputs": [],
   "source": []
  }
 ],
 "metadata": {
  "kernelspec": {
   "display_name": "Python 3 (ipykernel)",
   "language": "python",
   "name": "python3"
  },
  "language_info": {
   "codemirror_mode": {
    "name": "ipython",
    "version": 3
   },
   "file_extension": ".py",
   "mimetype": "text/x-python",
   "name": "python",
   "nbconvert_exporter": "python",
   "pygments_lexer": "ipython3",
   "version": "3.11.3"
  }
 },
 "nbformat": 4,
 "nbformat_minor": 5
}
