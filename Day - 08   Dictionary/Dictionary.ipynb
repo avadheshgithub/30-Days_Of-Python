{
 "cells": [
  {
   "cell_type": "markdown",
   "id": "eef96277",
   "metadata": {},
   "source": [
    "## Dictionary"
   ]
  },
  {
   "cell_type": "markdown",
   "id": "c5eb595e",
   "metadata": {},
   "source": [
    "Dictionaries are used to store data values in key:value pairs\n",
    "\n",
    "“key” : value\n",
    "\n",
    "They are unordered, mutable(changeable) & don’t allow duplicate keys"
   ]
  },
  {
   "cell_type": "code",
   "execution_count": 1,
   "id": "fa7427d8",
   "metadata": {},
   "outputs": [
    {
     "name": "stdout",
     "output_type": "stream",
     "text": [
      "{'key': 'value', 'name': 'avadhesh', 'age': 19, 'marks': 98, 'subjects': ['python', 'c', 'java']}\n"
     ]
    }
   ],
   "source": [
    "info = {\n",
    "    \"key\" : \"value\",\n",
    "    \"name\" : \"avadhesh\",\n",
    "    \"age\" : 19,\n",
    "    \"marks\" : 98,\n",
    "    \"subjects\" : [\"python\",\"c\",\"java\"]\n",
    "}\n",
    "\n",
    "print(info)"
   ]
  },
  {
   "cell_type": "markdown",
   "id": "ca41413e",
   "metadata": {},
   "source": [
    "#### Note :- in key section can't be store in the form of list or dictionary ( because of mutable)"
   ]
  },
  {
   "cell_type": "code",
   "execution_count": 2,
   "id": "976efae6",
   "metadata": {},
   "outputs": [
    {
     "name": "stdout",
     "output_type": "stream",
     "text": [
      "<class 'dict'>\n"
     ]
    }
   ],
   "source": [
    "print(type(info))"
   ]
  },
  {
   "cell_type": "markdown",
   "id": "5202d8dd",
   "metadata": {},
   "source": [
    "## Value Access"
   ]
  },
  {
   "cell_type": "code",
   "execution_count": 4,
   "id": "65fedb11",
   "metadata": {},
   "outputs": [
    {
     "name": "stdout",
     "output_type": "stream",
     "text": [
      "avadhesh\n"
     ]
    }
   ],
   "source": [
    "print(info[\"name\"])"
   ]
  },
  {
   "cell_type": "code",
   "execution_count": 5,
   "id": "21702622",
   "metadata": {},
   "outputs": [
    {
     "name": "stdout",
     "output_type": "stream",
     "text": [
      "98\n"
     ]
    }
   ],
   "source": [
    "print(info[\"marks\"])"
   ]
  },
  {
   "cell_type": "markdown",
   "id": "1e38cffd",
   "metadata": {},
   "source": [
    "## Mutable"
   ]
  },
  {
   "cell_type": "code",
   "execution_count": 6,
   "id": "3e6bd06a",
   "metadata": {},
   "outputs": [
    {
     "name": "stdout",
     "output_type": "stream",
     "text": [
      "amit\n"
     ]
    }
   ],
   "source": [
    "info[\"name\"] = \"amit\"\n",
    "print(info[\"name\"])"
   ]
  },
  {
   "cell_type": "markdown",
   "id": "9c9eb72d",
   "metadata": {},
   "source": [
    "## Empty/ null Dictionary"
   ]
  },
  {
   "cell_type": "code",
   "execution_count": 7,
   "id": "622895f6",
   "metadata": {},
   "outputs": [
    {
     "name": "stdout",
     "output_type": "stream",
     "text": [
      "{'name': 'avadhesh'}\n"
     ]
    }
   ],
   "source": [
    "null_dict = {}\n",
    "\n",
    "# Assign the value\n",
    "null_dict[\"name\"] = \"avadhesh\"\n",
    "print(null_dict)"
   ]
  },
  {
   "cell_type": "markdown",
   "id": "6eb100af",
   "metadata": {},
   "source": [
    "## Nested Dictionary"
   ]
  },
  {
   "cell_type": "code",
   "execution_count": 3,
   "id": "a80b336a",
   "metadata": {},
   "outputs": [
    {
     "name": "stdout",
     "output_type": "stream",
     "text": [
      "{'name': 'avadhesh', 'marks': {'chem': 98, 'phy': 89, 'math': 95}}\n"
     ]
    }
   ],
   "source": [
    "student = {\n",
    "    \"name\" : \"avadhesh\",\n",
    "    \"marks\" : {\n",
    "        \"chem\" : 98,\n",
    "        \"phy\" : 89,\n",
    "        \"math\": 95\n",
    "    }\n",
    "}\n",
    "\n",
    "print(student)"
   ]
  },
  {
   "cell_type": "code",
   "execution_count": 4,
   "id": "2537fc39",
   "metadata": {},
   "outputs": [
    {
     "name": "stdout",
     "output_type": "stream",
     "text": [
      "98\n"
     ]
    }
   ],
   "source": [
    "print(student[\"marks\"][\"chem\"])"
   ]
  },
  {
   "cell_type": "markdown",
   "id": "368da564",
   "metadata": {},
   "source": [
    "## Dictionary methods"
   ]
  },
  {
   "cell_type": "code",
   "execution_count": null,
   "id": "0bb26b0b",
   "metadata": {},
   "outputs": [],
   "source": [
    "myDict.keys( ) #returns all keys\n",
    "\n",
    "myDict.items( ) #returns all (key, val) pairs as tuples\n",
    "\n",
    "myDict.update( newDict ) #inserts the specified items to the dictionary\n",
    "\n",
    "myDict.values( ) #returns all values\n",
    "\n",
    "myDict.get( “key““ ) #reaturn ps then key according to value\n",
    "\n",
    "myDict.values( ) #returns all values"
   ]
  },
  {
   "cell_type": "markdown",
   "id": "42bbc42a",
   "metadata": {},
   "source": [
    "## Typecast into List"
   ]
  },
  {
   "cell_type": "code",
   "execution_count": 6,
   "id": "d74d9960",
   "metadata": {},
   "outputs": [
    {
     "name": "stdout",
     "output_type": "stream",
     "text": [
      "['name', 'marks']\n"
     ]
    }
   ],
   "source": [
    "print(list(student.keys()))"
   ]
  },
  {
   "cell_type": "code",
   "execution_count": 7,
   "id": "ac2be95e",
   "metadata": {},
   "outputs": [
    {
     "name": "stdout",
     "output_type": "stream",
     "text": [
      "2\n"
     ]
    }
   ],
   "source": [
    "print(len(student.keys()))"
   ]
  },
  {
   "cell_type": "code",
   "execution_count": null,
   "id": "fa1e106e",
   "metadata": {},
   "outputs": [],
   "source": []
  }
 ],
 "metadata": {
  "kernelspec": {
   "display_name": "Python 3 (ipykernel)",
   "language": "python",
   "name": "python3"
  },
  "language_info": {
   "codemirror_mode": {
    "name": "ipython",
    "version": 3
   },
   "file_extension": ".py",
   "mimetype": "text/x-python",
   "name": "python",
   "nbconvert_exporter": "python",
   "pygments_lexer": "ipython3",
   "version": "3.11.3"
  }
 },
 "nbformat": 4,
 "nbformat_minor": 5
}
