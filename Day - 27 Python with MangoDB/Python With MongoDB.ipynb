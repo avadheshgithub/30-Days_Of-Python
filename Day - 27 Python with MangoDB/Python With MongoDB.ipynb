{
 "cells": [
  {
   "cell_type": "markdown",
   "id": "12f0962d",
   "metadata": {},
   "source": [
    "## Python With MongoDB"
   ]
  },
  {
   "cell_type": "markdown",
   "id": "06a72b00",
   "metadata": {},
   "source": [
    "Python is a backend technology and it can be connected with different data base \n",
    "applications. It can be connected to both SQL and noSQL databases. In this section, we connect Python with MongoDB database which is noSQL database."
   ]
  },
  {
   "cell_type": "markdown",
   "id": "8dc56bb8",
   "metadata": {},
   "source": [
    "### MongoDB"
   ]
  },
  {
   "cell_type": "markdown",
   "id": "0f435f1b",
   "metadata": {},
   "source": [
    "MongoDB is a NoSQL database. MongoDB stores data in a JSON like document which \n",
    "make MongoDB very flexible and scalable. Let us see the different terminologies of SQL and NoSQL databases. The following table will make the difference between SQL versus NoSQL databases"
   ]
  },
  {
   "cell_type": "code",
   "execution_count": null,
   "id": "a1281ca4",
   "metadata": {},
   "outputs": [],
   "source": [
    "SQl vs NoSQl\n",
    "\n",
    "\n",
    "      SQL                  NoSQL\n",
    "\n",
    "1.   DataBase              Database\n",
    "2.   Tables                Collections\n",
    "3.   Rows                  Documents\n",
    "4.   Columns               Fields\n",
    "5.   Index                 Index\n",
    "6.   join                  Embedding and linking\n",
    "7.   Group by              Aggression\n",
    "8.   Primary key           _id Field"
   ]
  },
  {
   "cell_type": "markdown",
   "id": "ced69628",
   "metadata": {},
   "source": [
    "### 1. Conecting  Python( Notebook) to mongoDB "
   ]
  },
  {
   "cell_type": "code",
   "execution_count": 2,
   "id": "7dd4a96e",
   "metadata": {},
   "outputs": [
    {
     "name": "stdout",
     "output_type": "stream",
     "text": [
      "Collecting pymongo\n",
      "  Downloading pymongo-4.7.3-cp311-cp311-win_amd64.whl (483 kB)\n",
      "                                              0.0/483.8 kB ? eta -:--:--\n",
      "                                              10.2/483.8 kB ? eta -:--:--\n",
      "     ----                                  61.4/483.8 kB 656.4 kB/s eta 0:00:01\n",
      "     -----                                 71.7/483.8 kB 563.7 kB/s eta 0:00:01\n",
      "     ----------                           143.4/483.8 kB 774.0 kB/s eta 0:00:01\n",
      "     -----------------                      225.3/483.8 kB 1.1 MB/s eta 0:00:01\n",
      "     -----------------                      225.3/483.8 kB 1.1 MB/s eta 0:00:01\n",
      "     --------------------------------       419.8/483.8 kB 1.4 MB/s eta 0:00:01\n",
      "     --------------------------------       419.8/483.8 kB 1.4 MB/s eta 0:00:01\n",
      "     --------------------------------       419.8/483.8 kB 1.4 MB/s eta 0:00:01\n",
      "     --------------------------------       419.8/483.8 kB 1.4 MB/s eta 0:00:01\n",
      "     --------------------------------       419.8/483.8 kB 1.4 MB/s eta 0:00:01\n",
      "     --------------------------------       419.8/483.8 kB 1.4 MB/s eta 0:00:01\n",
      "     --------------------------------       419.8/483.8 kB 1.4 MB/s eta 0:00:01\n",
      "     --------------------------------       419.8/483.8 kB 1.4 MB/s eta 0:00:01\n",
      "     --------------------------------       419.8/483.8 kB 1.4 MB/s eta 0:00:01\n",
      "     --------------------------------       419.8/483.8 kB 1.4 MB/s eta 0:00:01\n",
      "     --------------------------------       419.8/483.8 kB 1.4 MB/s eta 0:00:01\n",
      "     --------------------------------       419.8/483.8 kB 1.4 MB/s eta 0:00:01\n",
      "     --------------------------------       419.8/483.8 kB 1.4 MB/s eta 0:00:01\n",
      "     --------------------------------       419.8/483.8 kB 1.4 MB/s eta 0:00:01\n",
      "     --------------------------------       419.8/483.8 kB 1.4 MB/s eta 0:00:01\n",
      "     --------------------------------       419.8/483.8 kB 1.4 MB/s eta 0:00:01\n",
      "     --------------------------------       419.8/483.8 kB 1.4 MB/s eta 0:00:01\n",
      "     --------------------------------       419.8/483.8 kB 1.4 MB/s eta 0:00:01\n",
      "     --------------------------------     440.3/483.8 kB 382.3 kB/s eta 0:00:01\n",
      "     --------------------------------     440.3/483.8 kB 382.3 kB/s eta 0:00:01\n",
      "     ---------------------------------    450.6/483.8 kB 366.0 kB/s eta 0:00:01\n",
      "     ---------------------------------    450.6/483.8 kB 366.0 kB/s eta 0:00:01\n",
      "     ------------------------------------ 483.8/483.8 kB 360.9 kB/s eta 0:00:00\n",
      "Collecting dnspython\n",
      "  Downloading dnspython-2.6.1-py3-none-any.whl (307 kB)\n",
      "                                              0.0/307.7 kB ? eta -:--:--\n",
      "     ---------------                        122.9/307.7 kB 3.5 MB/s eta 0:00:01\n",
      "     ---------------                        122.9/307.7 kB 3.5 MB/s eta 0:00:01\n",
      "     -------------------------------------- 307.7/307.7 kB 2.1 MB/s eta 0:00:00\n",
      "Requirement already satisfied: Flask in c:\\users\\avadhesh ku. shah\\anaconda3\\lib\\site-packages (2.2.2)\n",
      "Requirement already satisfied: Werkzeug>=2.2.2 in c:\\users\\avadhesh ku. shah\\anaconda3\\lib\\site-packages (from Flask) (2.2.3)\n",
      "Requirement already satisfied: Jinja2>=3.0 in c:\\users\\avadhesh ku. shah\\anaconda3\\lib\\site-packages (from Flask) (3.1.2)\n",
      "Requirement already satisfied: itsdangerous>=2.0 in c:\\users\\avadhesh ku. shah\\anaconda3\\lib\\site-packages (from Flask) (2.0.1)\n",
      "Requirement already satisfied: click>=8.0 in c:\\users\\avadhesh ku. shah\\anaconda3\\lib\\site-packages (from Flask) (8.0.4)\n",
      "Requirement already satisfied: colorama in c:\\users\\avadhesh ku. shah\\anaconda3\\lib\\site-packages (from click>=8.0->Flask) (0.4.6)\n",
      "Requirement already satisfied: MarkupSafe>=2.0 in c:\\users\\avadhesh ku. shah\\anaconda3\\lib\\site-packages (from Jinja2>=3.0->Flask) (2.1.1)\n",
      "Installing collected packages: dnspython, pymongo\n",
      "Successfully installed dnspython-2.6.1 pymongo-4.7.3\n",
      "Note: you may need to restart the kernel to use updated packages.\n"
     ]
    }
   ],
   "source": [
    "pip install pymongo dnspython Flask\n"
   ]
  },
  {
   "cell_type": "code",
   "execution_count": null,
   "id": "1006ff31",
   "metadata": {},
   "outputs": [],
   "source": [
    "# Create a Flask Application:\n",
    "\n",
    "from flask import Flask\n",
    "import pymongo\n",
    "import os\n",
    "\n",
    "# Replace the following with your MongoDB URI\n",
    "MONGODB_URI = 'mongodb+srv://<username>:<password>@cluster0.mongodb.net/test?retryWrites=true&w=majority'\n",
    "\n",
    "client = pymongo.MongoClient(MONGODB_URI)\n",
    "db = client.thirty_days_of_python  # Create or access the database\n",
    "\n",
    "app = Flask(__name__)\n",
    "\n",
    "@app.route('/')\n",
    "def index():\n",
    "    # Display available databases\n",
    "    return str(client.list_database_names())\n",
    "\n",
    "if __name__ == '__main__':\n",
    "    port = int(os.environ.get(\"PORT\", 5000))\n",
    "    app.run(debug=True, host='0.0.0.0', port=port)"
   ]
  },
  {
   "cell_type": "markdown",
   "id": "64883a05",
   "metadata": {},
   "source": [
    "## Creating a Database and Collection"
   ]
  },
  {
   "cell_type": "code",
   "execution_count": null,
   "id": "6b9a167e",
   "metadata": {},
   "outputs": [],
   "source": [
    "# Insert a Document:\n",
    "\n",
    "db.students.insert_one({\n",
    "    'name': 'Suniksha',\n",
    "    'country': 'Finland',\n",
    "    'city': 'Helsinki',\n",
    "    'age': 250\n",
    "})"
   ]
  },
  {
   "cell_type": "code",
   "execution_count": null,
   "id": "7e5509ef",
   "metadata": {},
   "outputs": [],
   "source": [
    "# Insert Multiple Documents:\n",
    "\n",
    "students = [\n",
    "    {'name': 'David', 'country': 'UK', 'city': 'London', 'age': 34},\n",
    "    {'name': 'John', 'country': 'Sweden', 'city': 'Stockholm', 'age': 28},\n",
    "    {'name': 'Sami', 'country': 'Finland', 'city': 'Helsinki', 'age': 25}\n",
    "]\n",
    "\n",
    "db.students.insert_many(students)"
   ]
  },
  {
   "cell_type": "markdown",
   "id": "ff242f47",
   "metadata": {},
   "source": [
    "## Finding Documents"
   ]
  },
  {
   "cell_type": "code",
   "execution_count": null,
   "id": "e9c25b59",
   "metadata": {},
   "outputs": [],
   "source": [
    "# Find One Document:\n",
    "\n",
    "student = db.students.find_one()\n",
    "print(student)"
   ]
  },
  {
   "cell_type": "code",
   "execution_count": null,
   "id": "34a6bf74",
   "metadata": {},
   "outputs": [],
   "source": [
    "# Find a Document by ID:\n",
    "\n",
    "from bson.objectid import ObjectId\n",
    "student = db.students.find_one({'_id': ObjectId('5df68a23f106fe2d315bbc8c')})\n",
    "print(student)"
   ]
  },
  {
   "cell_type": "code",
   "execution_count": null,
   "id": "e6ebe9d3",
   "metadata": {},
   "outputs": [],
   "source": [
    "# Find All Documents:\n",
    "\n",
    "students = db.students.find()\n",
    "for student in students:\n",
    "    print(student)\n"
   ]
  },
  {
   "cell_type": "code",
   "execution_count": null,
   "id": "1bcbd5cf",
   "metadata": {},
   "outputs": [],
   "source": [
    "# Find with Query:\n",
    "\n",
    "query = {'country': 'Finland'}\n",
    "students = db.students.find(query)\n",
    "for student in students:\n",
    "    print(student)\n"
   ]
  },
  {
   "cell_type": "code",
   "execution_count": null,
   "id": "7c88e2c3",
   "metadata": {},
   "outputs": [],
   "source": [
    "# Find with Projection:\n",
    "\n",
    "python\n",
    "Copy code\n",
    "students = db.students.find({}, {\"_id\": 0, \"name\": 1, \"country\": 1})\n",
    "for student in students:\n",
    "    print(student)"
   ]
  },
  {
   "cell_type": "markdown",
   "id": "78b584f0",
   "metadata": {},
   "source": [
    "## Updating Documents"
   ]
  },
  {
   "cell_type": "code",
   "execution_count": null,
   "id": "8e137dfd",
   "metadata": {},
   "outputs": [],
   "source": [
    "# Update One Document:\n",
    "\n",
    "query = {'age': 250}\n",
    "new_values = {'$set': {'age': 38}}\n",
    "db.students.update_one(query, new_values)"
   ]
  },
  {
   "cell_type": "code",
   "execution_count": null,
   "id": "abbcc3c8",
   "metadata": {},
   "outputs": [],
   "source": [
    "# Update Many Documents:\n",
    "\n",
    "query = {'country': 'Finland'}\n",
    "new_values = {'$set': {'city': 'Espoo'}}\n",
    "db.students.update_many(query, new_values)"
   ]
  },
  {
   "cell_type": "markdown",
   "id": "a6e82bea",
   "metadata": {},
   "source": [
    "## Deleting Documents"
   ]
  },
  {
   "cell_type": "code",
   "execution_count": null,
   "id": "773e7fa7",
   "metadata": {},
   "outputs": [],
   "source": [
    "# Delete One Document:\n",
    "\n",
    "query = {'name': 'John'}\n",
    "db.students.delete_one(query)"
   ]
  },
  {
   "cell_type": "code",
   "execution_count": null,
   "id": "4ff35833",
   "metadata": {},
   "outputs": [],
   "source": [
    "# Delete Many Documents:\n",
    "\n",
    "query = {'country': 'UK'}\n",
    "db.students.delete_many(query)"
   ]
  },
  {
   "cell_type": "markdown",
   "id": "571c3769",
   "metadata": {},
   "source": [
    "## 2. Running the Flask Application"
   ]
  },
  {
   "cell_type": "code",
   "execution_count": null,
   "id": "74f46d61",
   "metadata": {},
   "outputs": [],
   "source": [
    "export FLASK_APP=app.py\n",
    "flask run\n"
   ]
  },
  {
   "cell_type": "markdown",
   "id": "053e9047",
   "metadata": {},
   "source": [
    "# Congratulations , We did 🎉🎉"
   ]
  },
  {
   "cell_type": "code",
   "execution_count": null,
   "id": "18731915",
   "metadata": {},
   "outputs": [],
   "source": []
  }
 ],
 "metadata": {
  "kernelspec": {
   "display_name": "Python 3 (ipykernel)",
   "language": "python",
   "name": "python3"
  },
  "language_info": {
   "codemirror_mode": {
    "name": "ipython",
    "version": 3
   },
   "file_extension": ".py",
   "mimetype": "text/x-python",
   "name": "python",
   "nbconvert_exporter": "python",
   "pygments_lexer": "ipython3",
   "version": "3.11.3"
  }
 },
 "nbformat": 4,
 "nbformat_minor": 5
}
