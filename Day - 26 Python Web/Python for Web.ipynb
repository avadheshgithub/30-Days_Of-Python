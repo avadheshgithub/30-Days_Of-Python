{
 "cells": [
  {
   "cell_type": "markdown",
   "id": "e884df6c",
   "metadata": {},
   "source": [
    "# Python for Web Dev\n"
   ]
  },
  {
   "cell_type": "markdown",
   "id": "b1a9cc44",
   "metadata": {},
   "source": [
    "## 1. Using Flask for Web Development\n"
   ]
  },
  {
   "cell_type": "markdown",
   "id": "94a34332",
   "metadata": {},
   "source": [
    "#### Introduction to Flask"
   ]
  },
  {
   "cell_type": "markdown",
   "id": "6967f411",
   "metadata": {},
   "source": [
    "Flask is a lightweight web development framework written in Python. It uses the Jinja2 template engine and can be integrated with modern front-end libraries like React. Flask provides a simple and flexible way to build web applications."
   ]
  },
  {
   "cell_type": "markdown",
   "id": "b9a71848",
   "metadata": {},
   "source": [
    "#### Setting Up the Project Directory"
   ]
  },
  {
   "cell_type": "code",
   "execution_count": null,
   "id": "61d41d90",
   "metadata": {},
   "outputs": [],
   "source": [
    "# Steps \n",
    "\n",
    "# 1. Install virtualenv:\n",
    "pip install virtualenv\n",
    "\n",
    "\n",
    "# 2. Create project directory and virtual environment:\n",
    "mkdir python_for_web\n",
    "cd python_for_web\n",
    "virtualenv venv\n",
    "source venv/bin/activate\n",
    "\n",
    "\n",
    "# 3. install Flask:\n",
    "pip install Flask\n",
    "\n",
    "\n",
    "# 4. Project Sturcture should look like\n",
    "├── Procfile\n",
    "├── app.py\n",
    "├── env\n",
    "│   ├── bin\n",
    "├── requirements.txt\n",
    "├── static\n",
    "│   └── css\n",
    "│       └── main.css\n",
    "└── templates\n",
    "    ├── about.html\n",
    "    ├── home.html\n",
    "    ├── layout.html\n",
    "    ├── post.html\n",
    "    └── result.html\n"
   ]
  },
  {
   "cell_type": "markdown",
   "id": "931d7752",
   "metadata": {},
   "source": [
    "#### Creating the Flask Application"
   ]
  },
  {
   "cell_type": "code",
   "execution_count": null,
   "id": "22116724",
   "metadata": {},
   "outputs": [],
   "source": [
    "# app.py"
   ]
  },
  {
   "cell_type": "code",
   "execution_count": null,
   "id": "79c4bd20",
   "metadata": {},
   "outputs": [],
   "source": [
    "from flask import Flask, render_template, request, redirect, url_for\n",
    "import os\n",
    "\n",
    "app = Flask(__name__)\n",
    "\n",
    "@app.route('/')\n",
    "def home():\n",
    "    techs = ['HTML', 'CSS', 'Flask', 'Python']\n",
    "    name = '30 Days Of Python Programming'\n",
    "    return render_template('home.html', techs=techs, name=name, title='Home')\n",
    "\n",
    "@app.route('/about')\n",
    "def about():\n",
    "    name = '30 Days Of Python Programming'\n",
    "    return render_template('about.html', name=name, title='About Us')\n",
    "\n",
    "@app.route('/post', methods=['GET', 'POST'])\n",
    "def post():\n",
    "    name = 'Text Analyzer'\n",
    "    if request.method == 'GET':\n",
    "        return render_template('post.html', name=name, title=name)\n",
    "    if request.method == 'POST':\n",
    "        content = request.form['content']\n",
    "        print(content)\n",
    "        return redirect(url_for('result'))\n",
    "\n",
    "@app.route('/result')\n",
    "def result():\n",
    "    return render_template('result.html')\n",
    "\n",
    "if __name__ == '__main__':\n",
    "    port = int(os.environ.get(\"PORT\", 5000))\n",
    "    app.run(debug=True, host='0.0.0.0', port=port)\n"
   ]
  },
  {
   "cell_type": "code",
   "execution_count": null,
   "id": "b1a23c93",
   "metadata": {},
   "outputs": [],
   "source": [
    "# home.html"
   ]
  },
  {
   "cell_type": "code",
   "execution_count": null,
   "id": "16192534",
   "metadata": {},
   "outputs": [],
   "source": [
    "{% extends 'layout.html' %}\n",
    "{% block content %}\n",
    "<div class=\"container\">\n",
    "    <h1>Welcome to {{name}}</h1>\n",
    "    <p>\n",
    "        This application cleans texts and analyzes the number of words, characters,\n",
    "        and most frequent words in the text. Check it out by clicking the text analyzer in the menu.\n",
    "        You need the following technologies to build this web application:\n",
    "    </p>\n",
    "    <ul class=\"tech-lists\">\n",
    "        {% for tech in techs %}\n",
    "        <li class=\"tech\">{{tech}}</li>\n",
    "        {% endfor %}\n",
    "    </ul>\n",
    "</div>\n",
    "{% endblock %}\n"
   ]
  },
  {
   "cell_type": "code",
   "execution_count": null,
   "id": "beda6968",
   "metadata": {},
   "outputs": [],
   "source": [
    "# about.html"
   ]
  },
  {
   "cell_type": "code",
   "execution_count": null,
   "id": "8e6a02be",
   "metadata": {},
   "outputs": [],
   "source": [
    "{% extends 'layout.html' %}\n",
    "{% block content %}\n",
    "<div class=\"container\">\n",
    "    <h1>About {{name}}</h1>\n",
    "    <p>\n",
    "        This is a 30 days of Python programming challenge. If you have been coding\n",
    "        this far, you are awesome. Congratulations for the job well done!\n",
    "    </p>\n",
    "</div>\n",
    "{% endblock %}\n"
   ]
  },
  {
   "cell_type": "code",
   "execution_count": null,
   "id": "15fc42d5",
   "metadata": {},
   "outputs": [],
   "source": [
    "# post.html"
   ]
  },
  {
   "cell_type": "code",
   "execution_count": null,
   "id": "6dd254a0",
   "metadata": {},
   "outputs": [],
   "source": [
    "{% extends 'layout.html' %}\n",
    "{% block content %}\n",
    "<div class=\"container\">\n",
    "    <h1>Text Analyzer</h1>\n",
    "    <form action=\"/post\" method=\"POST\">\n",
    "        <div>\n",
    "            <textarea rows=\"25\" name=\"content\" autofocus></textarea>\n",
    "        </div>\n",
    "        <div>\n",
    "            <input type=\"submit\" class=\"btn\" value=\"Process Text\" />\n",
    "        </div>\n",
    "    </form>\n",
    "</div>\n",
    "{% endblock %}\n"
   ]
  },
  {
   "cell_type": "code",
   "execution_count": null,
   "id": "30f5f300",
   "metadata": {},
   "outputs": [],
   "source": [
    "# layout.html"
   ]
  },
  {
   "cell_type": "code",
   "execution_count": null,
   "id": "6c02df10",
   "metadata": {},
   "outputs": [],
   "source": [
    "<!DOCTYPE html>\n",
    "<html lang=\"en\">\n",
    "<head>\n",
    "    <meta charset=\"UTF-8\" />\n",
    "    <meta name=\"viewport\" content=\"width=device-width, initial-scale=1.0\" />\n",
    "    <link href=\"https://fonts.googleapis.com/css?family=Lato:300,400|Nunito:300,400|Raleway:300,400,500&display=swap\" rel=\"stylesheet\" />\n",
    "    <link rel=\"stylesheet\" href=\"{{ url_for('static', filename='css/main.css') }}\" />\n",
    "    {% if title %}\n",
    "    <title>30 Days of Python - {{ title}}</title>\n",
    "    {% else %}\n",
    "    <title>30 Days of Python</title>\n",
    "    {% endif %}\n",
    "</head>\n",
    "<body>\n",
    "    <header>\n",
    "        <div class=\"menu-container\">\n",
    "            <div>\n",
    "                <a class=\"brand-name nav-link\" href=\"/\">30DaysOfPython</a>\n",
    "            </div>\n",
    "            <ul class=\"nav-lists\">\n",
    "                <li class=\"nav-list\">\n",
    "                    <a class=\"nav-link active\" href=\"{{ url_for('home') }}\">Home</a>\n",
    "                </li>\n",
    "                <li class=\"nav-list\">\n",
    "                    <a class=\"nav-link active\" href=\"{{ url_for('about') }}\">About</a>\n",
    "                </li>\n",
    "                <li class=\"nav-list\">\n",
    "                    <a class=\"nav-link active\" href=\"{{ url_for('post') }}\">Text Analyzer</a>\n",
    "                </li>\n",
    "            </ul>\n",
    "        </div>\n",
    "    </header>\n",
    "    <main>\n",
    "        {% block content %} {% endblock %}\n",
    "    </main>\n",
    "</body>\n",
    "</html>\n"
   ]
  },
  {
   "cell_type": "code",
   "execution_count": null,
   "id": "9bf153bc",
   "metadata": {},
   "outputs": [],
   "source": [
    "# main.css"
   ]
  },
  {
   "cell_type": "code",
   "execution_count": null,
   "id": "b10c19e0",
   "metadata": {},
   "outputs": [],
   "source": [
    "/* General styles */\n",
    "body {\n",
    "    font-family: 'Lato', 'Nunito', 'Raleway', sans-serif;\n",
    "    margin: 0;\n",
    "    padding: 0;\n",
    "    background-color: #f4f4f9;\n",
    "    color: #333;\n",
    "}\n",
    "\n",
    ".container {\n",
    "    width: 80%;\n",
    "    margin: 0 auto;\n",
    "    padding: 20px;\n",
    "}\n",
    "\n",
    "/* Header styles */\n",
    "header {\n",
    "    background-color: #333;\n",
    "    color: #fff;\n",
    "    padding: 10px 0;\n",
    "}\n",
    "\n",
    ".menu-container {\n",
    "    display: flex;\n",
    "    justify-content: space-between;\n",
    "    align-items: center;\n",
    "}\n",
    "\n",
    ".brand-name {\n",
    "    font-size: 24px;\n",
    "    text-decoration: none;\n",
    "    color: #fff;\n",
    "}\n",
    "\n",
    ".nav-lists {\n",
    "    list-style-type: none;\n",
    "    margin: 0;\n",
    "    padding: 0;\n",
    "    display: flex;\n",
    "}\n",
    "\n",
    ".nav-list {\n",
    "    margin-left: 20px;\n",
    "}\n",
    "\n",
    ".nav-link {\n",
    "    text-decoration: none;\n",
    "    color: #fff;\n",
    "    font-size: 18px;\n",
    "}\n",
    "\n",
    ".nav-link:hover {\n",
    "    color: #ffd700;\n",
    "}\n",
    "\n",
    "/* Main content styles */\n",
    "h1 {\n",
    "    font-size: 36px;\n",
    "    margin-bottom: 20px;\n",
    "}\n",
    "\n",
    "p {\n",
    "    font-size: 18px;\n",
    "    line-height: 1.6;\n",
    "}\n",
    "\n",
    "ul.tech-lists {\n",
    "    list-style-type: none;\n",
    "    padding: 0;\n",
    "}\n",
    "\n",
    "ul.tech-lists .tech {\n",
    "    background-color: #333;\n",
    "    color: #fff;\n",
    "    padding: 10px;\n",
    "    margin: 5px 0;\n",
    "    border-radius: 5px;\n",
    "}\n",
    "\n",
    "ul.tech-lists .tech:hover {\n",
    "    background-color: #555;\n",
    "}\n",
    "\n",
    "/* Form styles */\n",
    "form {\n",
    "    margin-top: 20px;\n",
    "}\n",
    "\n",
    "textarea {\n",
    "    width: 100%;\n",
    "    padding: 10px;\n",
    "    font-size: 16px;\n",
    "    border: 1px solid #ccc;\n",
    "    border-radius: 5px;\n",
    "    margin-bottom: 10px;\n",
    "}\n",
    "\n",
    ".btn {\n",
    "    background-color: #333;\n",
    "    color: #fff;\n",
    "    padding: 10px 20px;\n",
    "    border: none;\n",
    "    border-radius: 5px;\n",
    "    cursor: pointer;\n",
    "}\n",
    "\n",
    ".btn:hover {\n",
    "    background-color: #555;\n",
    "}\n"
   ]
  },
  {
   "cell_type": "markdown",
   "id": "e2d97093",
   "metadata": {},
   "source": [
    "#### Deployment to Heroku\n",
    "\n"
   ]
  },
  {
   "cell_type": "code",
   "execution_count": null,
   "id": "5fde120e",
   "metadata": {},
   "outputs": [],
   "source": [
    "# 1. Login to Heroku\n",
    "heroku login\n",
    "\n",
    "# 2.Create requirements and Procfile:\n",
    "pip freeze > requirements.txt\n",
    "touch Procfile\n",
    "\n",
    "# 3. Add the following line to Procfile:\n",
    "web: python app.py\n",
    "    \n",
    "# 4. Initialize Git and deploy to Heroku:\n",
    "git init\n",
    "git add .\n",
    "git commit -m \"Initial commit\"\n",
    "heroku create your-app-name\n",
    "git push heroku master\n",
    "heroku open"
   ]
  },
  {
   "cell_type": "markdown",
   "id": "c91dea4a",
   "metadata": {},
   "source": [
    "## Conratulations, We did"
   ]
  },
  {
   "cell_type": "code",
   "execution_count": null,
   "id": "8ccba62d",
   "metadata": {},
   "outputs": [],
   "source": []
  }
 ],
 "metadata": {
  "kernelspec": {
   "display_name": "Python 3 (ipykernel)",
   "language": "python",
   "name": "python3"
  },
  "language_info": {
   "codemirror_mode": {
    "name": "ipython",
    "version": 3
   },
   "file_extension": ".py",
   "mimetype": "text/x-python",
   "name": "python",
   "nbconvert_exporter": "python",
   "pygments_lexer": "ipython3",
   "version": "3.11.3"
  }
 },
 "nbformat": 4,
 "nbformat_minor": 5
}
