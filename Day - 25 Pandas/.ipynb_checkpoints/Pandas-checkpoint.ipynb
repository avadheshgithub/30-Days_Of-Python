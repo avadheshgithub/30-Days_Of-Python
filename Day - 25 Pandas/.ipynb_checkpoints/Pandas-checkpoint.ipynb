{
 "cells": [
  {
   "cell_type": "markdown",
   "id": "b0781e37",
   "metadata": {},
   "source": [
    "# Pandas"
   ]
  },
  {
   "cell_type": "markdown",
   "id": "3aa12503",
   "metadata": {},
   "source": [
    "Pandas is an open-source, high-performance, easy-to-use library for data structures and data analysis tools for the Python programming language. Pandas adds data structures and tools designed to work with table-like data, primarily using Series and DataFrames. \n",
    "\n",
    "Key data manipulation tasks include reshaping, merging, sorting, slicing, aggregation, and imputation."
   ]
  },
  {
   "cell_type": "markdown",
   "id": "3b793bee",
   "metadata": {},
   "source": [
    "## 1.  Installation"
   ]
  },
  {
   "cell_type": "code",
   "execution_count": null,
   "id": "21bac5a8",
   "metadata": {},
   "outputs": [],
   "source": [
    "# For mac \n",
    "pip install conda\n",
    "conda install pandas\n",
    "\n",
    "# For Window\n",
    "pip install conda\n",
    "pip install pandas\n"
   ]
  },
  {
   "cell_type": "markdown",
   "id": "6555d74b",
   "metadata": {},
   "source": [
    "## 2. Pandas Data Structures"
   ]
  },
  {
   "cell_type": "markdown",
   "id": "e965552f",
   "metadata": {},
   "source": [
    "### 1. Creating Pandas Series"
   ]
  },
  {
   "cell_type": "code",
   "execution_count": 1,
   "id": "d116cfe1",
   "metadata": {},
   "outputs": [
    {
     "name": "stdout",
     "output_type": "stream",
     "text": [
      "0    1\n",
      "1    2\n",
      "2    3\n",
      "3    4\n",
      "4    5\n",
      "dtype: int64\n"
     ]
    }
   ],
   "source": [
    "# using a list\n",
    "\n",
    "import pandas as pd\n",
    "import numpy as np\n",
    "\n",
    "nums = [1, 2, 3, 4, 5]\n",
    "s = pd.Series(nums)\n",
    "print(s)\n"
   ]
  },
  {
   "cell_type": "code",
   "execution_count": 2,
   "id": "1e02b2ff",
   "metadata": {},
   "outputs": [
    {
     "name": "stdout",
     "output_type": "stream",
     "text": [
      "1    1\n",
      "2    2\n",
      "3    3\n",
      "4    4\n",
      "5    5\n",
      "dtype: int64\n"
     ]
    }
   ],
   "source": [
    "# With Custom Index\n",
    "\n",
    "nums = [1, 2, 3, 4, 5]\n",
    "s = pd.Series(nums, index=[1, 2, 3, 4, 5])\n",
    "print(s)"
   ]
  },
  {
   "cell_type": "code",
   "execution_count": 3,
   "id": "340be1ec",
   "metadata": {},
   "outputs": [
    {
     "name": "stdout",
     "output_type": "stream",
     "text": [
      "name       Suniksha\n",
      "country     Finland\n",
      "city       Helsinki\n",
      "dtype: object\n"
     ]
    }
   ],
   "source": [
    "# From a Dictionary\n",
    "\n",
    "dct = {'name':'Suniksha','country':'Finland','city':'Helsinki'}\n",
    "s = pd.Series(dct)\n",
    "print(s)"
   ]
  },
  {
   "cell_type": "code",
   "execution_count": 4,
   "id": "1673590e",
   "metadata": {},
   "outputs": [
    {
     "name": "stdout",
     "output_type": "stream",
     "text": [
      "1    10\n",
      "2    10\n",
      "3    10\n",
      "dtype: int64\n"
     ]
    }
   ],
   "source": [
    "# Creating a Constant Series\n",
    "\n",
    "s = pd.Series(10, index=[1, 2, 3])\n",
    "print(s)"
   ]
  },
  {
   "cell_type": "code",
   "execution_count": 5,
   "id": "a3882208",
   "metadata": {},
   "outputs": [
    {
     "name": "stdout",
     "output_type": "stream",
     "text": [
      "0     5.000000\n",
      "1     6.666667\n",
      "2     8.333333\n",
      "3    10.000000\n",
      "4    11.666667\n",
      "5    13.333333\n",
      "6    15.000000\n",
      "7    16.666667\n",
      "8    18.333333\n",
      "9    20.000000\n",
      "dtype: float64\n"
     ]
    }
   ],
   "source": [
    "# Using Linspace\n",
    "\n",
    "s = pd.Series(np.linspace(5, 20, 10))\n",
    "print(s)"
   ]
  },
  {
   "cell_type": "markdown",
   "id": "9d2fcf69",
   "metadata": {},
   "source": [
    "### 2. Creating Pandas Data - Frame"
   ]
  },
  {
   "cell_type": "code",
   "execution_count": 6,
   "id": "472ac97f",
   "metadata": {},
   "outputs": [
    {
     "name": "stdout",
     "output_type": "stream",
     "text": [
      "      Names  Country       City\n",
      "0  Avadhesh  Finland   Helsinki\n",
      "1     David       UK     London\n",
      "2      John   Sweden  Stockholm\n"
     ]
    }
   ],
   "source": [
    "# From a List of Lists\n",
    "\n",
    "data = [\n",
    "    ['Avadhesh', 'Finland', 'Helsinki'], \n",
    "    ['David', 'UK', 'London'],\n",
    "    ['John', 'Sweden', 'Stockholm']\n",
    "]\n",
    "df = pd.DataFrame(data, columns=['Names', 'Country', 'City'])\n",
    "print(df)"
   ]
  },
  {
   "cell_type": "code",
   "execution_count": 8,
   "id": "9f0f1b6e",
   "metadata": {},
   "outputs": [
    {
     "name": "stdout",
     "output_type": "stream",
     "text": [
      "       Name  Country       City\n",
      "0  Avadhesh  Finland   Helsinki\n",
      "1     David       UK     London\n",
      "2      John   Sweden  Stockholm\n"
     ]
    }
   ],
   "source": [
    "# From a Dictionary\n",
    "\n",
    "data = {'Name': ['Avadhesh', 'David', 'John'], 'Country': ['Finland', 'UK', 'Sweden'], 'City': ['Helsinki', 'London', 'Stockholm']}\n",
    "df = pd.DataFrame(data)\n",
    "print(df)"
   ]
  },
  {
   "cell_type": "code",
   "execution_count": 10,
   "id": "900a74fd",
   "metadata": {},
   "outputs": [
    {
     "name": "stdout",
     "output_type": "stream",
     "text": [
      "       Name  Country       City\n",
      "0  Avadhesh  Finland   Helsinki\n",
      "1     David       UK     London\n",
      "2      John   Sweden  Stockholm\n"
     ]
    }
   ],
   "source": [
    "# From a List of Dictionaries\n",
    "\n",
    "data = [\n",
    "    {'Name': 'Avadhesh', 'Country': 'Finland', 'City': 'Helsinki'},\n",
    "    {'Name': 'David', 'Country': 'UK', 'City': 'London'},\n",
    "    {'Name': 'John', 'Country': 'Sweden', 'City': 'Stockholm'}\n",
    "]\n",
    "df = pd.DataFrame(data)\n",
    "print(df)"
   ]
  },
  {
   "cell_type": "markdown",
   "id": "9a122b33",
   "metadata": {},
   "source": [
    "## 3. Reading CSV file"
   ]
  },
  {
   "cell_type": "code",
   "execution_count": null,
   "id": "21e4fa4b",
   "metadata": {},
   "outputs": [],
   "source": [
    "df = pd.read_csv('weight-height.csv')\n",
    "print(df)\n"
   ]
  },
  {
   "cell_type": "markdown",
   "id": "25e09559",
   "metadata": {},
   "source": [
    "### 3.1  Data Exploration"
   ]
  },
  {
   "cell_type": "code",
   "execution_count": null,
   "id": "619f6016",
   "metadata": {},
   "outputs": [],
   "source": [
    "\n",
    "print(df.head()) # First 5 rows\n",
    "\n",
    "print(df.tail()) # Last 5 rows\n",
    "\n",
    "print(df.shape)  # shape of the data Frame\n",
    "\n",
    "print(df.columns) # column name\n",
    "\n",
    "heights = df['Height'] # Accessing the specific column\n",
    "print(heights)\n",
    "\n",
    "print(heights.describe()) ## Stastical summary\n",
    "print(weights.describe())\n",
    "print(df.describe())\n",
    "\n",
    "print(df.info()) # Data Information\n",
    "\n",
    "\n",
    " "
   ]
  },
  {
   "cell_type": "markdown",
   "id": "f93ddd82",
   "metadata": {},
   "source": [
    "### 3.2 Modifying a Data Frame"
   ]
  },
  {
   "cell_type": "code",
   "execution_count": 12,
   "id": "0c8bd15b",
   "metadata": {},
   "outputs": [
    {
     "name": "stdout",
     "output_type": "stream",
     "text": [
      "       Name  Country       City  Weight  Height\n",
      "0  Avadhesh  Finland   Helsinki      74     173\n",
      "1     David       UK     London      78     175\n",
      "2      John   Sweden  Stockholm      69     169\n"
     ]
    }
   ],
   "source": [
    "# Adding Columns\n",
    "\n",
    "weights = [74, 78, 69]\n",
    "df['Weight'] = weights\n",
    "heights = [173, 175, 169]\n",
    "df['Height'] = heights\n",
    "print(df)"
   ]
  },
  {
   "cell_type": "code",
   "execution_count": 13,
   "id": "d9fdb55f",
   "metadata": {},
   "outputs": [
    {
     "name": "stdout",
     "output_type": "stream",
     "text": [
      "       Name  Country       City  Weight  Height\n",
      "0  Avadhesh  Finland   Helsinki      74    1.73\n",
      "1     David       UK     London      78    1.75\n",
      "2      John   Sweden  Stockholm      69    1.69\n"
     ]
    }
   ],
   "source": [
    "# Modifying Column Values\n",
    "\n",
    "df['Height'] = df['Height'] * 0.01\n",
    "print(df)"
   ]
  },
  {
   "cell_type": "code",
   "execution_count": 14,
   "id": "23ff1ee5",
   "metadata": {},
   "outputs": [
    {
     "name": "stdout",
     "output_type": "stream",
     "text": [
      "       Name  Country       City  Weight  Height   BMI\n",
      "0  Avadhesh  Finland   Helsinki      74    1.73  24.7\n",
      "1     David       UK     London      78    1.75  25.5\n",
      "2      John   Sweden  Stockholm      69    1.69  24.2\n"
     ]
    }
   ],
   "source": [
    "# Calculating and Adding BMI Column\n",
    "\n",
    "def calculate_bmi():\n",
    "    weights = df['Weight']\n",
    "    heights = df['Height']\n",
    "    bmi = []\n",
    "    for w, h in zip(weights, heights):\n",
    "        b = w / (h * h)\n",
    "        bmi.append(b)\n",
    "    return bmi\n",
    "\n",
    "bmi = calculate_bmi()\n",
    "df['BMI'] = bmi\n",
    "df['BMI'] = round(df['BMI'], 1)\n",
    "print(df) "
   ]
  },
  {
   "cell_type": "code",
   "execution_count": 15,
   "id": "47142c0f",
   "metadata": {},
   "outputs": [
    {
     "name": "stdout",
     "output_type": "stream",
     "text": [
      "       Name  Country       City  Weight  Height   BMI Birth Year  Current Year\n",
      "0  Avadhesh  Finland   Helsinki      74    1.73  24.7       1769          2020\n",
      "1     David       UK     London      78    1.75  25.5       1985          2020\n",
      "2      John   Sweden  Stockholm      69    1.69  24.2       1990          2020\n"
     ]
    }
   ],
   "source": [
    "# Adding Birth Year and Current Year Columns\n",
    "\n",
    "birth_year = ['1769', '1985', '1990']\n",
    "current_year = pd.Series(2020, index=[0, 1, 2])\n",
    "\n",
    "df['Birth Year'] = birth_year\n",
    "df['Current Year'] = current_year\n",
    "\n",
    "print(df)"
   ]
  },
  {
   "cell_type": "code",
   "execution_count": 16,
   "id": "174dc194",
   "metadata": {},
   "outputs": [
    {
     "name": "stdout",
     "output_type": "stream",
     "text": [
      "int64\n",
      "int32\n",
      "int32\n"
     ]
    }
   ],
   "source": [
    "# Checking Data Types\n",
    "\n",
    "print(df['Weight'].dtype)\n",
    "\n",
    "df['Birth Year'] = df['Birth Year'].astype('int')\n",
    "print(df['Birth Year'].dtype)\n",
    "\n",
    "df['Current Year'] = df['Current Year'].astype('int')\n",
    "print(df['Current Year'].dtype)"
   ]
  },
  {
   "cell_type": "code",
   "execution_count": 17,
   "id": "8d6946e6",
   "metadata": {},
   "outputs": [
    {
     "name": "stdout",
     "output_type": "stream",
     "text": [
      "       Name  Country       City  Weight  Height   BMI  Birth Year  \\\n",
      "0  Avadhesh  Finland   Helsinki      74    1.73  24.7        1769   \n",
      "1     David       UK     London      78    1.75  25.5        1985   \n",
      "2      John   Sweden  Stockholm      69    1.69  24.2        1990   \n",
      "\n",
      "   Current Year  Ages  \n",
      "0          2020   251  \n",
      "1          2020    35  \n",
      "2          2020    30  \n"
     ]
    }
   ],
   "source": [
    "# Calculating Age\n",
    "\n",
    "ages = df['Current Year'] - df['Birth Year']\n",
    "df['Ages'] = ages\n",
    "print(df)"
   ]
  },
  {
   "cell_type": "code",
   "execution_count": 18,
   "id": "48f66ed5",
   "metadata": {},
   "outputs": [
    {
     "name": "stdout",
     "output_type": "stream",
     "text": [
      "Mean: 32.5\n",
      "       Name  Country      City  Weight  Height   BMI  Birth Year  \\\n",
      "0  Avadhesh  Finland  Helsinki      74    1.73  24.7        1769   \n",
      "\n",
      "   Current Year  Ages  \n",
      "0          2020   251  \n",
      "    Name Country       City  Weight  Height   BMI  Birth Year  Current Year  \\\n",
      "1  David      UK     London      78    1.75  25.5        1985          2020   \n",
      "2   John  Sweden  Stockholm      69    1.69  24.2        1990          2020   \n",
      "\n",
      "   Ages  \n",
      "1    35  \n",
      "2    30  \n"
     ]
    }
   ],
   "source": [
    "# Handling Outliers\n",
    "\n",
    "mean = (35 + 30) / 2\n",
    "print('Mean:', mean)\n",
    "print(df[df['Ages'] > 120])\n",
    "print(df[df['Ages'] < 120])"
   ]
  },
  {
   "cell_type": "markdown",
   "id": "22e46793",
   "metadata": {},
   "source": [
    "## Congratulations , We Completed"
   ]
  },
  {
   "cell_type": "code",
   "execution_count": null,
   "id": "d26813b1",
   "metadata": {},
   "outputs": [],
   "source": []
  }
 ],
 "metadata": {
  "kernelspec": {
   "display_name": "Python 3 (ipykernel)",
   "language": "python",
   "name": "python3"
  },
  "language_info": {
   "codemirror_mode": {
    "name": "ipython",
    "version": 3
   },
   "file_extension": ".py",
   "mimetype": "text/x-python",
   "name": "python",
   "nbconvert_exporter": "python",
   "pygments_lexer": "ipython3",
   "version": "3.11.3"
  }
 },
 "nbformat": 4,
 "nbformat_minor": 5
}
