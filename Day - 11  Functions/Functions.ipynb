{
 "cells": [
  {
   "cell_type": "markdown",
   "id": "e04a76a4",
   "metadata": {},
   "source": [
    "## Functions"
   ]
  },
  {
   "cell_type": "markdown",
   "id": "1ef60745",
   "metadata": {},
   "source": [
    "Blcok of the statement that perform a specific task\n"
   ]
  },
  {
   "cell_type": "markdown",
   "id": "b21daed7",
   "metadata": {},
   "source": [
    "##### Synatx\n",
    "\n",
    "def func_name(param1, param2):\n",
    "\n",
    "    #statement\n",
    "    \n",
    "    return val\n",
    "    \n",
    "func_name(arg1,arg2) # fucntion call"
   ]
  },
  {
   "cell_type": "code",
   "execution_count": 4,
   "id": "5b008092",
   "metadata": {},
   "outputs": [
    {
     "name": "stdout",
     "output_type": "stream",
     "text": [
      "5\n"
     ]
    }
   ],
   "source": [
    "def sum(a,b):\n",
    "    s = a + b\n",
    "    print(s) # return also work same\n",
    "    \n",
    "sum(2,3)"
   ]
  },
  {
   "cell_type": "code",
   "execution_count": 5,
   "id": "91bc8421",
   "metadata": {},
   "outputs": [],
   "source": [
    "# sep = \"\"\n",
    "# end = \"\\n\""
   ]
  },
  {
   "cell_type": "markdown",
   "id": "a6a1ee8b",
   "metadata": {},
   "source": [
    "## Type of functions"
   ]
  },
  {
   "cell_type": "markdown",
   "id": "48ec0707",
   "metadata": {},
   "source": [
    "#### 1. Bulit-in functions"
   ]
  },
  {
   "cell_type": "markdown",
   "id": "bc9c731b",
   "metadata": {},
   "source": [
    "print()\n",
    "\n",
    "len()\n",
    "\n",
    "type()\n",
    "\n",
    "range()\n"
   ]
  },
  {
   "cell_type": "markdown",
   "id": "a34f2f93",
   "metadata": {},
   "source": [
    "#### 2. User defiend functions"
   ]
  },
  {
   "cell_type": "code",
   "execution_count": 7,
   "id": "4c723ae4",
   "metadata": {},
   "outputs": [
    {
     "name": "stdout",
     "output_type": "stream",
     "text": [
      "1 USD = 83 INR\n"
     ]
    }
   ],
   "source": [
    "def converter (USD_val):\n",
    "    INR_val = (USD_val * 83)\n",
    "    print(USD_val,\"USD =\",INR_val,\"INR\")\n",
    "\n",
    "converter(1)"
   ]
  },
  {
   "cell_type": "markdown",
   "id": "adff9b2a",
   "metadata": {},
   "source": [
    "## Recursion"
   ]
  },
  {
   "cell_type": "markdown",
   "id": "da12fc13",
   "metadata": {},
   "source": [
    "when a function calls itself repeatedly"
   ]
  },
  {
   "cell_type": "code",
   "execution_count": 13,
   "id": "5d3e98b8",
   "metadata": {},
   "outputs": [
    {
     "name": "stdout",
     "output_type": "stream",
     "text": [
      "5\n",
      "4\n",
      "3\n",
      "2\n",
      "1\n",
      "END\n",
      "END\n",
      "END\n",
      "END\n",
      "END\n"
     ]
    }
   ],
   "source": [
    "def show(n):\n",
    "    if(n==0): # Base case\n",
    "        return\n",
    "    print(n)\n",
    "    show(n-1)\n",
    "    print(\"END\")\n",
    "show(5)"
   ]
  },
  {
   "cell_type": "code",
   "execution_count": 15,
   "id": "8b7264e1",
   "metadata": {},
   "outputs": [
    {
     "data": {
      "text/plain": [
       "120"
      ]
     },
     "execution_count": 15,
     "metadata": {},
     "output_type": "execute_result"
    }
   ],
   "source": [
    "def fact(n):\n",
    "    if(n==0 or n==1):\n",
    "        return 1\n",
    "    else:\n",
    "        return n*fact(n-1)\n",
    "fact(5)"
   ]
  },
  {
   "cell_type": "code",
   "execution_count": 18,
   "id": "24e5e43b",
   "metadata": {},
   "outputs": [
    {
     "name": "stdout",
     "output_type": "stream",
     "text": [
      "15\n"
     ]
    }
   ],
   "source": [
    "# sum of n number\n",
    "\n",
    "def calc_sum(n):\n",
    "    if(n == 0):\n",
    "        return 0\n",
    "    return calc_sum(n-1) + n\n",
    "\n",
    "sum = calc_sum(5)\n",
    "print(sum)"
   ]
  },
  {
   "cell_type": "code",
   "execution_count": 19,
   "id": "45da6730",
   "metadata": {},
   "outputs": [
    {
     "name": "stdout",
     "output_type": "stream",
     "text": [
      "['apple', 'grapes', 'litchi', 'banana']\n"
     ]
    }
   ],
   "source": [
    "def print_list(list,idx = 0):\n",
    "    if(idx == len(list)):\n",
    "        return\n",
    "    print(list[idx])\n",
    "    print_list(list,idx+1)\n",
    "    \n",
    "fruits = [\"apple\",\"grapes\",\"litchi\",\"banana\"]\n",
    "print(list(fruits))"
   ]
  },
  {
   "cell_type": "code",
   "execution_count": null,
   "id": "c8c45317",
   "metadata": {},
   "outputs": [],
   "source": []
  }
 ],
 "metadata": {
  "kernelspec": {
   "display_name": "Python 3 (ipykernel)",
   "language": "python",
   "name": "python3"
  },
  "language_info": {
   "codemirror_mode": {
    "name": "ipython",
    "version": 3
   },
   "file_extension": ".py",
   "mimetype": "text/x-python",
   "name": "python",
   "nbconvert_exporter": "python",
   "pygments_lexer": "ipython3",
   "version": "3.11.3"
  }
 },
 "nbformat": 4,
 "nbformat_minor": 5
}
