{
 "cells": [
  {
   "cell_type": "markdown",
   "id": "ef387e35",
   "metadata": {},
   "source": [
    "# Regular Expression"
   ]
  },
  {
   "cell_type": "markdown",
   "id": "95fad6c4",
   "metadata": {},
   "source": [
    "A regular expression, or RegEx, is a special text string used to find patterns in data. \n",
    "\n",
    "\n",
    "To use RegEx in Python, you must first import the re module.\n",
    " \n",
    " ###### Methods in re Module\n",
    " \n",
    "(1) re.match() : Searches only from the beginning of the string and returns a match object if found, otherwise returns None\n",
    "\n",
    "(2) re.search():  Searches the entire string for a match and returns a match object if found, otherwise returns None.\n",
    "\n",
    "(3) re.findall(): Returns a list containing all matches.\n",
    "\n",
    "(4) re.split(): Splits the string at each match point and returns a list.\n",
    "\n",
    "(5) re.sub(): Replaces one or many matches within a string."
   ]
  },
  {
   "cell_type": "markdown",
   "id": "e1bebdca",
   "metadata": {},
   "source": [
    "### 1. Match"
   ]
  },
  {
   "cell_type": "code",
   "execution_count": 1,
   "id": "51c450c0",
   "metadata": {},
   "outputs": [
    {
     "name": "stdout",
     "output_type": "stream",
     "text": [
      "<re.Match object; span=(0, 15), match='I love to teach'>\n",
      "I love to teach\n"
     ]
    }
   ],
   "source": [
    "import re\n",
    "\n",
    "txt = 'I love to teach python and javaScript'\n",
    "\n",
    "match = re.match('I love to teach', txt, re.I)\n",
    "print(match) \n",
    "\n",
    "span = match.span()\n",
    "start, end = span\n",
    "\n",
    "substring = txt[start:end]\n",
    "print(substring) \n"
   ]
  },
  {
   "cell_type": "code",
   "execution_count": 2,
   "id": "dd5c794e",
   "metadata": {},
   "outputs": [
    {
     "name": "stdout",
     "output_type": "stream",
     "text": [
      "None\n"
     ]
    }
   ],
   "source": [
    "# not match\n",
    "\n",
    "match = re.match('I like to teach', txt, re.I)\n",
    "print(match) \n"
   ]
  },
  {
   "cell_type": "markdown",
   "id": "0cc9be5c",
   "metadata": {},
   "source": [
    "### 2. Search"
   ]
  },
  {
   "cell_type": "code",
   "execution_count": 3,
   "id": "dcf67d4b",
   "metadata": {},
   "outputs": [
    {
     "name": "stdout",
     "output_type": "stream",
     "text": [
      "<re.Match object; span=(100, 105), match='first'>\n",
      "first\n"
     ]
    }
   ],
   "source": [
    "txt = '''Python is the most beautiful language that a human being has ever created.\n",
    "I recommend python for a first programming language'''\n",
    "\n",
    "match = re.search('first', txt, re.I)\n",
    "print(match) \n",
    "\n",
    "span = match.span()\n",
    "start, end = span\n",
    "\n",
    "substring = txt[start:end]\n",
    "print(substring)\n"
   ]
  },
  {
   "cell_type": "markdown",
   "id": "3ac0075d",
   "metadata": {},
   "source": [
    "### 3. Split"
   ]
  },
  {
   "cell_type": "code",
   "execution_count": 4,
   "id": "77a86ff0",
   "metadata": {},
   "outputs": [
    {
     "name": "stdout",
     "output_type": "stream",
     "text": [
      "['I am teacher and I love teaching.', 'There is nothing as rewarding as educating and empowering people.', 'I found teaching more interesting than any other jobs.', 'Does this motivate you to be a teacher?']\n"
     ]
    }
   ],
   "source": [
    "txt = '''I am teacher and I love teaching.\n",
    "There is nothing as rewarding as educating and empowering people.\n",
    "I found teaching more interesting than any other jobs.\n",
    "Does this motivate you to be a teacher?'''\n",
    "\n",
    "print(re.split('\\n', txt))\n"
   ]
  },
  {
   "cell_type": "markdown",
   "id": "c8ef7bdd",
   "metadata": {},
   "source": [
    "### 4. Findall"
   ]
  },
  {
   "cell_type": "code",
   "execution_count": 5,
   "id": "84e275d5",
   "metadata": {},
   "outputs": [
    {
     "name": "stdout",
     "output_type": "stream",
     "text": [
      "['apple']\n",
      "['Apple', 'apple']\n"
     ]
    }
   ],
   "source": [
    "import re\n",
    "\n",
    "regex_pattern = r'apple'\n",
    "txt = 'Apple and banana are fruits. An old cliche says an apple a day a doctor way has been replaced by a banana a day keeps the doctor far far away.'\n",
    "\n",
    "matches = re.findall(regex_pattern, txt)\n",
    "print(matches) \n",
    "\n",
    "matches = re.findall(regex_pattern, txt, re.I)\n",
    "print(matches)"
   ]
  },
  {
   "cell_type": "markdown",
   "id": "a4d4b83f",
   "metadata": {},
   "source": [
    "### 5. Sub"
   ]
  },
  {
   "cell_type": "code",
   "execution_count": 6,
   "id": "2b7c648c",
   "metadata": {},
   "outputs": [
    {
     "name": "stdout",
     "output_type": "stream",
     "text": [
      "JavaScript is the most beautiful language that a human being has ever created.\n",
      "I recommend JavaScript for a first programming language\n"
     ]
    }
   ],
   "source": [
    "txt = '''Python is the most beautiful language that a human being has ever created.\n",
    "I recommend python for a first programming language'''\n",
    "\n",
    "match_replaced = re.sub('Python|python', 'JavaScript', txt, re.I)\n",
    "print(match_replaced)\n"
   ]
  },
  {
   "cell_type": "code",
   "execution_count": null,
   "id": "a840cc30",
   "metadata": {},
   "outputs": [],
   "source": []
  }
 ],
 "metadata": {
  "kernelspec": {
   "display_name": "Python 3 (ipykernel)",
   "language": "python",
   "name": "python3"
  },
  "language_info": {
   "codemirror_mode": {
    "name": "ipython",
    "version": 3
   },
   "file_extension": ".py",
   "mimetype": "text/x-python",
   "name": "python",
   "nbconvert_exporter": "python",
   "pygments_lexer": "ipython3",
   "version": "3.11.3"
  }
 },
 "nbformat": 4,
 "nbformat_minor": 5
}
