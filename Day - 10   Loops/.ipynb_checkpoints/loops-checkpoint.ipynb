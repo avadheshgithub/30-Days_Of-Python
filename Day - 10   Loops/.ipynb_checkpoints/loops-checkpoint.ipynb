{
 "cells": [
  {
   "cell_type": "markdown",
   "id": "e6fb4b62",
   "metadata": {},
   "source": [
    "## Loops"
   ]
  },
  {
   "cell_type": "markdown",
   "id": "ce4a5b4b",
   "metadata": {},
   "source": [
    "Loops are used to repeate instruction\n"
   ]
  },
  {
   "cell_type": "markdown",
   "id": "cb571d7e",
   "metadata": {},
   "source": [
    "## Type of loops"
   ]
  },
  {
   "cell_type": "markdown",
   "id": "00407d13",
   "metadata": {},
   "source": [
    "### 1. While loop"
   ]
  },
  {
   "cell_type": "markdown",
   "id": "6db5b233",
   "metadata": {},
   "source": [
    "while condition :\n",
    "\n",
    "    # statement"
   ]
  },
  {
   "cell_type": "code",
   "execution_count": 1,
   "id": "50a4ee52",
   "metadata": {},
   "outputs": [
    {
     "name": "stdout",
     "output_type": "stream",
     "text": [
      "Hello\n",
      "Hello\n",
      "Hello\n",
      "Hello\n",
      "Hello\n",
      "6\n"
     ]
    }
   ],
   "source": [
    "count = 1\n",
    "while(count<=5):\n",
    "    print(\"Hello\")\n",
    "    count += 1\n",
    "print(count)"
   ]
  },
  {
   "cell_type": "code",
   "execution_count": 2,
   "id": "0623f4a0",
   "metadata": {},
   "outputs": [
    {
     "name": "stdout",
     "output_type": "stream",
     "text": [
      "0\n",
      "2\n",
      "4\n",
      "6\n",
      "8\n",
      "10\n",
      "12\n",
      "14\n",
      "16\n",
      "18\n",
      "20\n"
     ]
    }
   ],
   "source": [
    "## print the even number netween 1 to 20\n",
    "\n",
    "i = 0;\n",
    "while(i<=20):\n",
    "    print(i)\n",
    "    i += 2\n",
    "    "
   ]
  },
  {
   "cell_type": "code",
   "execution_count": 3,
   "id": "41574a16",
   "metadata": {},
   "outputs": [
    {
     "name": "stdout",
     "output_type": "stream",
     "text": [
      "1\n",
      "3\n",
      "5\n",
      "7\n",
      "9\n",
      "11\n",
      "13\n",
      "15\n",
      "17\n",
      "19\n"
     ]
    }
   ],
   "source": [
    "## print the odd number netween 1 to 20\n",
    "\n",
    "i = 1;\n",
    "while(i<=20):\n",
    "    print(i)\n",
    "    i += 2"
   ]
  },
  {
   "cell_type": "code",
   "execution_count": 4,
   "id": "1fa03914",
   "metadata": {},
   "outputs": [
    {
     "name": "stdout",
     "output_type": "stream",
     "text": [
      "0\n",
      "3\n",
      "6\n",
      "9\n",
      "12\n",
      "15\n",
      "18\n",
      "21\n",
      "24\n",
      "27\n",
      "30\n"
     ]
    }
   ],
   "source": [
    "# multiple of 3 table\n",
    "\n",
    "n = 3\n",
    "i = 0;\n",
    "while(i<=10):\n",
    "    print(i*n)\n",
    "    i += 1"
   ]
  },
  {
   "cell_type": "markdown",
   "id": "5def7c2b",
   "metadata": {},
   "source": [
    "## Break & Continue"
   ]
  },
  {
   "cell_type": "code",
   "execution_count": 5,
   "id": "72d7ca71",
   "metadata": {},
   "outputs": [
    {
     "name": "stdout",
     "output_type": "stream",
     "text": [
      "1\n",
      "2\n",
      "3\n"
     ]
    }
   ],
   "source": [
    "i=1;\n",
    "while(i<=5):\n",
    "    print(i)\n",
    "    if(i==3):\n",
    "        break  ## Break\n",
    "    i += 1"
   ]
  },
  {
   "cell_type": "code",
   "execution_count": 7,
   "id": "61375226",
   "metadata": {},
   "outputs": [
    {
     "name": "stdout",
     "output_type": "stream",
     "text": [
      "1\n",
      "2\n",
      "4\n",
      "5\n"
     ]
    }
   ],
   "source": [
    "i=1;\n",
    "while(i<=5):\n",
    "    if(i==3):\n",
    "        i += 1\n",
    "        continue ## Continue\n",
    "    print(i)\n",
    "    i += 1"
   ]
  },
  {
   "cell_type": "markdown",
   "id": "adb3b9af",
   "metadata": {},
   "source": [
    "### For Loop"
   ]
  },
  {
   "cell_type": "code",
   "execution_count": 10,
   "id": "2044ba3a",
   "metadata": {},
   "outputs": [
    {
     "name": "stdout",
     "output_type": "stream",
     "text": [
      "1\n",
      "2\n",
      "3\n",
      "4\n",
      "5\n",
      "6\n",
      "end\n"
     ]
    }
   ],
   "source": [
    "list = {1,2,3,4,5,6}\n",
    "for val in list:\n",
    "    print(val)\n",
    "else:\n",
    "    print(\"end\")"
   ]
  },
  {
   "cell_type": "markdown",
   "id": "f3b8ecca",
   "metadata": {},
   "source": [
    "## range()"
   ]
  },
  {
   "cell_type": "code",
   "execution_count": 11,
   "id": "d4e5fb3f",
   "metadata": {},
   "outputs": [
    {
     "name": "stdout",
     "output_type": "stream",
     "text": [
      "0\n",
      "1\n",
      "2\n",
      "3\n",
      "4\n"
     ]
    }
   ],
   "source": [
    "for el in range(5):\n",
    "    print(el)"
   ]
  },
  {
   "cell_type": "code",
   "execution_count": 12,
   "id": "327ad7d3",
   "metadata": {},
   "outputs": [
    {
     "name": "stdout",
     "output_type": "stream",
     "text": [
      "1\n",
      "2\n",
      "3\n",
      "4\n"
     ]
    }
   ],
   "source": [
    "for el in range(1,5):\n",
    "    print(el)"
   ]
  },
  {
   "cell_type": "code",
   "execution_count": 13,
   "id": "7e9d6643",
   "metadata": {},
   "outputs": [
    {
     "name": "stdout",
     "output_type": "stream",
     "text": [
      "1\n",
      "3\n"
     ]
    }
   ],
   "source": [
    "for el in range(1,5,2):  # start,end, step\n",
    "    print(el)"
   ]
  },
  {
   "cell_type": "code",
   "execution_count": null,
   "id": "fa61d491",
   "metadata": {},
   "outputs": [],
   "source": []
  }
 ],
 "metadata": {
  "kernelspec": {
   "display_name": "Python 3 (ipykernel)",
   "language": "python",
   "name": "python3"
  },
  "language_info": {
   "codemirror_mode": {
    "name": "ipython",
    "version": 3
   },
   "file_extension": ".py",
   "mimetype": "text/x-python",
   "name": "python",
   "nbconvert_exporter": "python",
   "pygments_lexer": "ipython3",
   "version": "3.11.3"
  }
 },
 "nbformat": 4,
 "nbformat_minor": 5
}
