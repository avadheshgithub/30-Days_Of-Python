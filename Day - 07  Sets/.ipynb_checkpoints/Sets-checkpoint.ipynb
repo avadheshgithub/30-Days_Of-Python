{
 "cells": [
  {
   "cell_type": "markdown",
   "id": "d807e39c",
   "metadata": {},
   "source": [
    "## Sets"
   ]
  },
  {
   "cell_type": "markdown",
   "id": "a091a68b",
   "metadata": {},
   "source": [
    "Set is the collection of the unordered items.\n",
    "\n",
    "set is mutable but their elements are im-mutable\n",
    "\n",
    "Each element in the set must be unique & immutable."
   ]
  },
  {
   "cell_type": "markdown",
   "id": "b9c32101",
   "metadata": {},
   "source": [
    "## Example"
   ]
  },
  {
   "cell_type": "code",
   "execution_count": 4,
   "id": "74cd921e",
   "metadata": {},
   "outputs": [],
   "source": [
    "nums = {1,2,3,4}\n",
    "\n",
    "set1 = {1,2,2,1}\n",
    "\n",
    "# Empty set\n",
    "\n",
    "null_set = set()     # {} <- this is empty dictionary"
   ]
  },
  {
   "cell_type": "code",
   "execution_count": 5,
   "id": "37bc18b6",
   "metadata": {},
   "outputs": [
    {
     "name": "stdout",
     "output_type": "stream",
     "text": [
      "{1, 2}\n"
     ]
    }
   ],
   "source": [
    "print(set1)  ## only unique element"
   ]
  },
  {
   "cell_type": "code",
   "execution_count": 6,
   "id": "4bd7434c",
   "metadata": {},
   "outputs": [
    {
     "name": "stdout",
     "output_type": "stream",
     "text": [
      "<class 'set'>\n"
     ]
    }
   ],
   "source": [
    "print(type(set1))"
   ]
  },
  {
   "cell_type": "code",
   "execution_count": 7,
   "id": "ac96f80e",
   "metadata": {},
   "outputs": [
    {
     "name": "stdout",
     "output_type": "stream",
     "text": [
      "{1, 2, 3, 4}\n"
     ]
    }
   ],
   "source": [
    "print(nums)"
   ]
  },
  {
   "cell_type": "code",
   "execution_count": 8,
   "id": "7ebfeda5",
   "metadata": {},
   "outputs": [
    {
     "name": "stdout",
     "output_type": "stream",
     "text": [
      "{1, 2, 3, 4}\n"
     ]
    }
   ],
   "source": [
    "print(nums) ## order doesnt matter"
   ]
  },
  {
   "cell_type": "markdown",
   "id": "d5483e71",
   "metadata": {},
   "source": [
    "## Set methodes"
   ]
  },
  {
   "cell_type": "markdown",
   "id": "c15d7634",
   "metadata": {},
   "source": [
    "set.add( el ) #adds an element\n",
    "\n",
    "set.remove( el ) #removes the elem an\n",
    "\n",
    "set.clear( ) #empties the set\n",
    "\n",
    "set.pop( ) #removes a random value"
   ]
  },
  {
   "cell_type": "code",
   "execution_count": 15,
   "id": "77dcf8b8",
   "metadata": {},
   "outputs": [
    {
     "name": "stdout",
     "output_type": "stream",
     "text": [
      "{2, 4, 6}\n"
     ]
    }
   ],
   "source": [
    "st = set();\n",
    "st.add(2)\n",
    "st.add(4)\n",
    "st.add(6)\n",
    "print(st)"
   ]
  },
  {
   "cell_type": "code",
   "execution_count": 16,
   "id": "66914522",
   "metadata": {},
   "outputs": [
    {
     "name": "stdout",
     "output_type": "stream",
     "text": [
      "3\n"
     ]
    }
   ],
   "source": [
    "print(len(st))"
   ]
  },
  {
   "cell_type": "code",
   "execution_count": 12,
   "id": "287361b8",
   "metadata": {},
   "outputs": [],
   "source": [
    "st.clear() ## clear all the element"
   ]
  },
  {
   "cell_type": "code",
   "execution_count": 13,
   "id": "45a0adcf",
   "metadata": {},
   "outputs": [
    {
     "name": "stdout",
     "output_type": "stream",
     "text": [
      "0\n"
     ]
    }
   ],
   "source": [
    "print(len(st))"
   ]
  },
  {
   "cell_type": "code",
   "execution_count": 17,
   "id": "a7ae211c",
   "metadata": {},
   "outputs": [
    {
     "data": {
      "text/plain": [
       "2"
      ]
     },
     "execution_count": 17,
     "metadata": {},
     "output_type": "execute_result"
    }
   ],
   "source": [
    "st.pop() ## Delete random value im the sets"
   ]
  },
  {
   "cell_type": "markdown",
   "id": "97437272",
   "metadata": {},
   "source": [
    "## Most used methode"
   ]
  },
  {
   "cell_type": "code",
   "execution_count": 19,
   "id": "2ea34329",
   "metadata": {},
   "outputs": [],
   "source": [
    "set1 = {1,2,3,4}\n",
    "\n",
    "set2 = {3,4,5}"
   ]
  },
  {
   "cell_type": "code",
   "execution_count": 22,
   "id": "7281bbdb",
   "metadata": {},
   "outputs": [
    {
     "name": "stdout",
     "output_type": "stream",
     "text": [
      "{1, 2, 3, 4, 5}\n",
      "{3, 4}\n"
     ]
    }
   ],
   "source": [
    "print(set1.union(set2)) # xombine both set values & return\n",
    "\n",
    "print(set1.intersection(set2)) # combine common values and returns new"
   ]
  },
  {
   "cell_type": "code",
   "execution_count": null,
   "id": "c8b2cbe1",
   "metadata": {},
   "outputs": [],
   "source": []
  }
 ],
 "metadata": {
  "kernelspec": {
   "display_name": "Python 3 (ipykernel)",
   "language": "python",
   "name": "python3"
  },
  "language_info": {
   "codemirror_mode": {
    "name": "ipython",
    "version": 3
   },
   "file_extension": ".py",
   "mimetype": "text/x-python",
   "name": "python",
   "nbconvert_exporter": "python",
   "pygments_lexer": "ipython3",
   "version": "3.11.3"
  }
 },
 "nbformat": 4,
 "nbformat_minor": 5
}
