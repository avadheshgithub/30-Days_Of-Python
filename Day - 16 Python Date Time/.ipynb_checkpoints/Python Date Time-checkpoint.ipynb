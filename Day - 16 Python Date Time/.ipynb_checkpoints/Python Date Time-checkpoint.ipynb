{
 "cells": [
  {
   "cell_type": "markdown",
   "id": "50bcf27b",
   "metadata": {},
   "source": [
    "# Python Date Time"
   ]
  },
  {
   "cell_type": "markdown",
   "id": "dad468ff",
   "metadata": {},
   "source": [
    "The datetime module in Python provides classes for manipulating dates and times. It allows you to work with dates, times, and intervals efficiently"
   ]
  },
  {
   "cell_type": "markdown",
   "id": "773a3869",
   "metadata": {},
   "source": [
    "### 1. Importing the datetime Modules\n"
   ]
  },
  {
   "cell_type": "code",
   "execution_count": 2,
   "id": "a9b8316f",
   "metadata": {},
   "outputs": [
    {
     "name": "stdout",
     "output_type": "stream",
     "text": [
      "['MAXYEAR', 'MINYEAR', 'UTC', '__all__', '__builtins__', '__cached__', '__doc__', '__file__', '__loader__', '__name__', '__package__', '__spec__', 'date', 'datetime', 'datetime_CAPI', 'sys', 'time', 'timedelta', 'timezone', 'tzinfo']\n"
     ]
    }
   ],
   "source": [
    "import datetime\n",
    "print(dir(datetime))\n"
   ]
  },
  {
   "cell_type": "markdown",
   "id": "396a167e",
   "metadata": {},
   "source": [
    "### 2. Getting Current Date and Time"
   ]
  },
  {
   "cell_type": "code",
   "execution_count": 3,
   "id": "b791161a",
   "metadata": {},
   "outputs": [
    {
     "name": "stdout",
     "output_type": "stream",
     "text": [
      "2024-06-17 14:49:19.486300\n",
      "17 6 2024 14 49\n",
      "timestamp 1718615959.4863\n",
      "17/6/2024, 14:49\n"
     ]
    }
   ],
   "source": [
    "from datetime import datetime\n",
    "\n",
    "now = datetime.now()\n",
    "print(now)  # e.g., 2024-06-17 10:10:05.123456\n",
    "\n",
    "day = now.day \n",
    "month = now.month \n",
    "year = now.year \n",
    "hour = now.hour \n",
    "minute = now.minute \n",
    "second = now.second\n",
    "timestamp = now.timestamp()\n",
    "\n",
    "print(day, month, year, hour, minute)\n",
    "print('timestamp', timestamp)\n",
    "print(f'{day}/{month}/{year}, {hour}:{minute}')\n"
   ]
  },
  {
   "cell_type": "markdown",
   "id": "ffefac9b",
   "metadata": {},
   "source": [
    "### 3. Formatting Date Output Using ( strftime)"
   ]
  },
  {
   "cell_type": "code",
   "execution_count": 4,
   "id": "aae862b4",
   "metadata": {},
   "outputs": [
    {
     "name": "stdout",
     "output_type": "stream",
     "text": [
      "time: 14:50:29\n",
      "time one: 06/17/2024, 14:50:29\n",
      "time two: 17/06/2024, 14:50:29\n"
     ]
    }
   ],
   "source": [
    "from datetime import datetime\n",
    "\n",
    "now = datetime.now()\n",
    "\n",
    "# Format time\n",
    "t = now.strftime(\"%H:%M:%S\")\n",
    "print(\"time:\", t)\n",
    "\n",
    "# Format date and time\n",
    "time_one = now.strftime(\"%m/%d/%Y, %H:%M:%S\")\n",
    "print(\"time one:\", time_one)\n",
    "\n",
    "\n",
    "time_two = now.strftime(\"%d/%m/%Y, %H:%M:%S\")\n",
    "print(\"time two:\", time_two)\n"
   ]
  },
  {
   "cell_type": "markdown",
   "id": "c92d0980",
   "metadata": {},
   "source": [
    "### 4.Converting String to Date Using (strptime)"
   ]
  },
  {
   "cell_type": "code",
   "execution_count": 5,
   "id": "b705d187",
   "metadata": {},
   "outputs": [
    {
     "name": "stdout",
     "output_type": "stream",
     "text": [
      "5 December, 2024\n",
      "2024-12-05 00:00:00\n"
     ]
    }
   ],
   "source": [
    "from datetime import datetime\n",
    "\n",
    "date_string = \"5 December, 2024\"\n",
    "print( date_string)\n",
    "\n",
    "date_object = datetime.strptime(date_string, \"%d %B, %Y\")\n",
    "print(date_object)\n"
   ]
  },
  {
   "cell_type": "markdown",
   "id": "d2cb2e14",
   "metadata": {},
   "source": [
    "### 5. Working with Date"
   ]
  },
  {
   "cell_type": "code",
   "execution_count": 6,
   "id": "11e625a1",
   "metadata": {},
   "outputs": [
    {
     "name": "stdout",
     "output_type": "stream",
     "text": [
      "2024-01-01\n",
      "Current date: 2024-06-17\n",
      "Current year: 2024\n",
      "Current month: 6\n",
      "Current day: 17\n"
     ]
    }
   ],
   "source": [
    "from datetime import date\n",
    "\n",
    "d = date(2024, 1, 1)\n",
    "print(d)  # 2024-01-01\n",
    "\n",
    "print('Current date:', d.today()) \n",
    "\n",
    "# Today's date\n",
    "today = date.today()\n",
    "print(\"Current year:\", today.year)\n",
    "print(\"Current month:\", today.month)\n",
    "print(\"Current day:\", today.day)\n"
   ]
  },
  {
   "cell_type": "markdown",
   "id": "1277d6c3",
   "metadata": {},
   "source": [
    "### 6. Working with Time"
   ]
  },
  {
   "cell_type": "code",
   "execution_count": 7,
   "id": "60fe4ee2",
   "metadata": {},
   "outputs": [
    {
     "name": "stdout",
     "output_type": "stream",
     "text": [
      "a = 00:00:00\n",
      "b = 10:30:50\n",
      "c = 10:30:50\n",
      "d = 10:30:50.200555\n"
     ]
    }
   ],
   "source": [
    "from datetime import time\n",
    "\n",
    "a = time()\n",
    "print(\"a =\", a)  # 00:00:00\n",
    "\n",
    "b = time(10, 30, 50)\n",
    "print(\"b =\", b)  # 10:30:50\n",
    "\n",
    "c = time(hour=10, minute=30, second=50)\n",
    "print(\"c =\", c)  # 10:30:50\n",
    "\n",
    "d = time(10, 30, 50, 200555)\n",
    "print(\"d =\", d)  # 10:30:50.200555\n"
   ]
  },
  {
   "cell_type": "markdown",
   "id": "8d900953",
   "metadata": {},
   "source": [
    "### 7. Calculating the Difference Between Two Dates"
   ]
  },
  {
   "cell_type": "code",
   "execution_count": 10,
   "id": "448aad7c",
   "metadata": {},
   "outputs": [
    {
     "name": "stdout",
     "output_type": "stream",
     "text": [
      "Time left for new year: 27 days, 0:00:00\n"
     ]
    }
   ],
   "source": [
    "# for Date\n",
    "\n",
    "from datetime import date\n",
    "\n",
    "today = date(year=2024, month=12, day=5)\n",
    "new_year = date(year=2025, month=1, day=1)\n",
    "\n",
    "time_left_for_newyear = new_year - today\n",
    "print('Time left for new year:', time_left_for_newyear)\n"
   ]
  },
  {
   "cell_type": "code",
   "execution_count": 11,
   "id": "314d2c4a",
   "metadata": {},
   "outputs": [
    {
     "name": "stdout",
     "output_type": "stream",
     "text": [
      "Time left for new year: 26 days, 23:01:00\n"
     ]
    }
   ],
   "source": [
    "# For date and time:\n",
    "\n",
    "from datetime import datetime\n",
    "\n",
    "t1 = datetime(year=2024, month=12, day=5, hour=0, minute=59, second=0)\n",
    "t2 = datetime(year=2025, month=1, day=1, hour=0, minute=0, second=0)\n",
    "\n",
    "diff = t2 - t1\n",
    "print('Time left for new year:', diff)\n"
   ]
  },
  {
   "cell_type": "code",
   "execution_count": 12,
   "id": "372ffa10",
   "metadata": {},
   "outputs": [
    {
     "name": "stdout",
     "output_type": "stream",
     "text": [
      "t3 = 86 days, 22:56:50\n"
     ]
    }
   ],
   "source": [
    "# Using timedelta for Time Differences\n",
    "\n",
    "from datetime import timedelta\n",
    "\n",
    "t1 = timedelta(weeks=12, days=10, hours=4, seconds=20)\n",
    "t2 = timedelta(days=7, hours=5, minutes=3, seconds=30)\n",
    "\n",
    "t3 = t1 - t2\n",
    "print(\"t3 =\", t3)  # 86 days, 22:56:50\n"
   ]
  },
  {
   "cell_type": "code",
   "execution_count": null,
   "id": "1a876870",
   "metadata": {},
   "outputs": [],
   "source": []
  }
 ],
 "metadata": {
  "kernelspec": {
   "display_name": "Python 3 (ipykernel)",
   "language": "python",
   "name": "python3"
  },
  "language_info": {
   "codemirror_mode": {
    "name": "ipython",
    "version": 3
   },
   "file_extension": ".py",
   "mimetype": "text/x-python",
   "name": "python",
   "nbconvert_exporter": "python",
   "pygments_lexer": "ipython3",
   "version": "3.11.3"
  }
 },
 "nbformat": 4,
 "nbformat_minor": 5
}
