{
 "cells": [
  {
   "cell_type": "markdown",
   "id": "0af45dc2",
   "metadata": {},
   "source": [
    "# Higher Order Function"
   ]
  },
  {
   "cell_type": "markdown",
   "id": "3e627c73",
   "metadata": {},
   "source": [
    "### 1. Function as a parameter"
   ]
  },
  {
   "cell_type": "code",
   "execution_count": 1,
   "id": "50ef1ac0",
   "metadata": {},
   "outputs": [
    {
     "name": "stdout",
     "output_type": "stream",
     "text": [
      "15\n"
     ]
    }
   ],
   "source": [
    "def sum_numbers(nums):\n",
    "    return sum(nums)\n",
    "\n",
    "def higher_order_function(f, lst):\n",
    "    return f(lst)\n",
    "\n",
    "result = higher_order_function(sum_numbers, [1, 2, 3, 4, 5])\n",
    "print(result) \n"
   ]
  },
  {
   "cell_type": "markdown",
   "id": "ba324e19",
   "metadata": {},
   "source": [
    "### 2. Function as return value"
   ]
  },
  {
   "cell_type": "code",
   "execution_count": 2,
   "id": "03e8f83e",
   "metadata": {},
   "outputs": [
    {
     "name": "stdout",
     "output_type": "stream",
     "text": [
      "9\n",
      "27\n",
      "3\n"
     ]
    }
   ],
   "source": [
    "def square(x):\n",
    "    return x ** 2\n",
    "\n",
    "def cube(x):\n",
    "    return x ** 3\n",
    "\n",
    "def absolute(x):\n",
    "    return abs(x)\n",
    "\n",
    "def higher_order_function(type):\n",
    "    if type == 'square':\n",
    "        return square\n",
    "    elif type == 'cube':\n",
    "        return cube\n",
    "    elif type == 'absolute':\n",
    "        return absolute\n",
    "\n",
    "result = higher_order_function('square')\n",
    "print(result(3))  \n",
    "\n",
    "result = higher_order_function('cube')\n",
    "print(result(3)) \n",
    "\n",
    "result = higher_order_function('absolute')\n",
    "print(result(-3))  \n"
   ]
  },
  {
   "cell_type": "markdown",
   "id": "45818313",
   "metadata": {},
   "source": [
    "### 3. Python Closure"
   ]
  },
  {
   "cell_type": "markdown",
   "id": "5a49ec1a",
   "metadata": {},
   "source": [
    "Python allows a nested function to access the outer scope of the enclosing function. This is known as a Closure."
   ]
  },
  {
   "cell_type": "code",
   "execution_count": 3,
   "id": "d9b494e2",
   "metadata": {},
   "outputs": [
    {
     "name": "stdout",
     "output_type": "stream",
     "text": [
      "15\n",
      "20\n"
     ]
    }
   ],
   "source": [
    "def add_ten():\n",
    "    ten = 10\n",
    "    def add(num):\n",
    "        return num + ten\n",
    "    return add\n",
    "\n",
    "closure_result = add_ten()\n",
    "\n",
    "print(closure_result(5))  \n",
    "print(closure_result(10))\n"
   ]
  },
  {
   "cell_type": "markdown",
   "id": "87ab573e",
   "metadata": {},
   "source": [
    "### 4. Python Decorators"
   ]
  },
  {
   "cell_type": "markdown",
   "id": "05f5e7d6",
   "metadata": {},
   "source": [
    "A decorator is a design pattern in Python that allows a user to add new functionality to an existing object without modifying its structure. Decorators are usually called before the definition of a function you want to decorate."
   ]
  },
  {
   "cell_type": "code",
   "execution_count": 4,
   "id": "49a85f6c",
   "metadata": {},
   "outputs": [
    {
     "name": "stdout",
     "output_type": "stream",
     "text": [
      "WELCOME TO PYTHON\n"
     ]
    }
   ],
   "source": [
    "def uppercase_decorator(function):\n",
    "    def wrapper():\n",
    "        func = function()\n",
    "        return func.upper()\n",
    "    return wrapper\n",
    "\n",
    "@uppercase_decorator\n",
    "def greeting():\n",
    "    return 'Welcome to Python'\n",
    "\n",
    "print(greeting())  \n"
   ]
  },
  {
   "cell_type": "markdown",
   "id": "b7d77a38",
   "metadata": {},
   "source": [
    "# Built-in Higher Order Functions"
   ]
  },
  {
   "cell_type": "markdown",
   "id": "88643846",
   "metadata": {},
   "source": [
    "### 1. Map"
   ]
  },
  {
   "cell_type": "markdown",
   "id": "39421c11",
   "metadata": {},
   "source": [
    "The map() function applies a given function to all items in an input list."
   ]
  },
  {
   "cell_type": "code",
   "execution_count": 5,
   "id": "7d9bc9af",
   "metadata": {},
   "outputs": [
    {
     "name": "stdout",
     "output_type": "stream",
     "text": [
      "[1, 4, 9, 16, 25]\n",
      "[1, 4, 9, 16, 25]\n"
     ]
    }
   ],
   "source": [
    "numbers = [1, 2, 3, 4, 5]\n",
    "\n",
    "def square(x):\n",
    "    return x ** 2\n",
    "\n",
    "numbers_squared = map(square, numbers)\n",
    "print(list(numbers_squared))  \n",
    "\n",
    "# Using a lambda function\n",
    "numbers_squared = map(lambda x: x ** 2, numbers)\n",
    "print(list(numbers_squared))  \n"
   ]
  },
  {
   "cell_type": "markdown",
   "id": "963e14dc",
   "metadata": {},
   "source": [
    "### 2. Filter"
   ]
  },
  {
   "cell_type": "code",
   "execution_count": 6,
   "id": "a97ba350",
   "metadata": {},
   "outputs": [
    {
     "name": "stdout",
     "output_type": "stream",
     "text": [
      "[2, 4]\n",
      "[1, 3, 5]\n"
     ]
    }
   ],
   "source": [
    "numbers = [1, 2, 3, 4, 5]\n",
    "\n",
    "def is_even(num):\n",
    "    return num % 2 == 0\n",
    "\n",
    "even_numbers = filter(is_even, numbers)\n",
    "print(list(even_numbers)) \n",
    "\n",
    "# Using a lambda function\n",
    "odd_numbers = filter(lambda x: x % 2 != 0, numbers)\n",
    "print(list(odd_numbers))  "
   ]
  },
  {
   "cell_type": "markdown",
   "id": "bb99aaa5",
   "metadata": {},
   "source": [
    "### 3. Reduce "
   ]
  },
  {
   "cell_type": "markdown",
   "id": "7a8e5c20",
   "metadata": {},
   "source": [
    "The reduce() function applies a function cumulatively to the items of an iterable, reducing the iterable to a single value"
   ]
  },
  {
   "cell_type": "code",
   "execution_count": 7,
   "id": "9988428d",
   "metadata": {},
   "outputs": [
    {
     "name": "stdout",
     "output_type": "stream",
     "text": [
      "15\n"
     ]
    }
   ],
   "source": [
    "from functools import reduce\n",
    "\n",
    "numbers_str = ['1', '2', '3', '4', '5']\n",
    "\n",
    "def add_two_nums(x, y):\n",
    "    return int(x) + int(y)\n",
    "\n",
    "total = reduce(add_two_nums, numbers_str)\n",
    "print(total)  \n"
   ]
  },
  {
   "cell_type": "code",
   "execution_count": null,
   "id": "c51f0536",
   "metadata": {},
   "outputs": [],
   "source": []
  }
 ],
 "metadata": {
  "kernelspec": {
   "display_name": "Python 3 (ipykernel)",
   "language": "python",
   "name": "python3"
  },
  "language_info": {
   "codemirror_mode": {
    "name": "ipython",
    "version": 3
   },
   "file_extension": ".py",
   "mimetype": "text/x-python",
   "name": "python",
   "nbconvert_exporter": "python",
   "pygments_lexer": "ipython3",
   "version": "3.11.3"
  }
 },
 "nbformat": 4,
 "nbformat_minor": 5
}
