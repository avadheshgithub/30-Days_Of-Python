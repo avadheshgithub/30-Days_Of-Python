{
 "cells": [
  {
   "cell_type": "markdown",
   "id": "90ee5549",
   "metadata": {},
   "source": [
    "# Introduction  of Python"
   ]
  },
  {
   "cell_type": "markdown",
   "id": "4033b15c",
   "metadata": {},
   "source": [
    " Python is a popular programming language. It was created by Guido van Rossum, and released in 1991."
   ]
  },
  {
   "cell_type": "markdown",
   "id": "2d51ebd9",
   "metadata": {},
   "source": [
    "# What are Features?"
   ]
  },
  {
   "cell_type": "markdown",
   "id": "8a383096",
   "metadata": {},
   "source": [
    " 1. Python is simple and easy\n",
    " 2. Free and open source\n",
    " 3. High level language\n",
    " 4. Developed by guido van rossum\n",
    " 5. Protable"
   ]
  },
  {
   "cell_type": "markdown",
   "id": "57ed7774",
   "metadata": {},
   "source": [
    "## First Program of Python"
   ]
  },
  {
   "cell_type": "code",
   "execution_count": 1,
   "id": "db31371a",
   "metadata": {},
   "outputs": [
    {
     "name": "stdout",
     "output_type": "stream",
     "text": [
      "Hello World\n"
     ]
    }
   ],
   "source": [
    "print (\"Hello World\")"
   ]
  },
  {
   "cell_type": "markdown",
   "id": "5188a9d1",
   "metadata": {},
   "source": [
    "\n",
    "## Python Character Set\n",
    "\n",
    "1. Letters – A to Z, a to z\n",
    "2. Digits – 0 to 9\n",
    "3. Special Symbols - + - * / etc.\n",
    "4. Whitespaces – Blank Space, tab, carriage return, newline, formfeed\n",
    "5. Other characters – Python can process all ASCII and Unicode characters as part of data or literals"
   ]
  },
  {
   "cell_type": "code",
   "execution_count": 2,
   "id": "6508d02d",
   "metadata": {},
   "outputs": [
    {
     "name": "stdout",
     "output_type": "stream",
     "text": [
      "24\n"
     ]
    }
   ],
   "source": [
    "print(10+14)"
   ]
  },
  {
   "cell_type": "code",
   "execution_count": 3,
   "id": "8871b525",
   "metadata": {},
   "outputs": [
    {
     "name": "stdout",
     "output_type": "stream",
     "text": [
      "23\n"
     ]
    }
   ],
   "source": [
    "print(23)"
   ]
  },
  {
   "cell_type": "code",
   "execution_count": null,
   "id": "6e8fe1dd",
   "metadata": {},
   "outputs": [],
   "source": []
  }
 ],
 "metadata": {
  "kernelspec": {
   "display_name": "Python 3 (ipykernel)",
   "language": "python",
   "name": "python3"
  },
  "language_info": {
   "codemirror_mode": {
    "name": "ipython",
    "version": 3
   },
   "file_extension": ".py",
   "mimetype": "text/x-python",
   "name": "python",
   "nbconvert_exporter": "python",
   "pygments_lexer": "ipython3",
   "version": "3.11.3"
  }
 },
 "nbformat": 4,
 "nbformat_minor": 5
}
