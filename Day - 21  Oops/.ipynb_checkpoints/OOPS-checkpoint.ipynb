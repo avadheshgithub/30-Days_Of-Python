{
 "cells": [
  {
   "cell_type": "markdown",
   "id": "4235f94d",
   "metadata": {},
   "source": [
    "##  #OOPS"
   ]
  },
  {
   "cell_type": "markdown",
   "id": "9f32991e",
   "metadata": {},
   "source": [
    "to map with real world scenarios, we started using objects in code.\n",
    "\n",
    "this is called object oriented programming"
   ]
  },
  {
   "cell_type": "markdown",
   "id": "45c99dde",
   "metadata": {},
   "source": [
    "### Class"
   ]
  },
  {
   "cell_type": "markdown",
   "id": "0cd753cb",
   "metadata": {},
   "source": [
    "class is a blurpint for creating objects"
   ]
  },
  {
   "cell_type": "code",
   "execution_count": 2,
   "id": "ac25d43d",
   "metadata": {},
   "outputs": [],
   "source": [
    "class student:\n",
    "    name = \"avadhesh shah\""
   ]
  },
  {
   "cell_type": "markdown",
   "id": "990248e4",
   "metadata": {},
   "source": [
    "### Objects"
   ]
  },
  {
   "cell_type": "markdown",
   "id": "edfe6a9b",
   "metadata": {},
   "source": [
    "objects are the instance of the classes"
   ]
  },
  {
   "cell_type": "code",
   "execution_count": 3,
   "id": "f2f08c7b",
   "metadata": {},
   "outputs": [
    {
     "name": "stdout",
     "output_type": "stream",
     "text": [
      "avadhesh shah\n"
     ]
    }
   ],
   "source": [
    "s1 = student()\n",
    "print(s1.name)"
   ]
  },
  {
   "cell_type": "markdown",
   "id": "eb1b248a",
   "metadata": {},
   "source": [
    "### Example"
   ]
  },
  {
   "cell_type": "code",
   "execution_count": 4,
   "id": "fb8795e3",
   "metadata": {},
   "outputs": [
    {
     "name": "stdout",
     "output_type": "stream",
     "text": [
      "mercedes\n"
     ]
    }
   ],
   "source": [
    "class car:\n",
    "    color = \"blue\"\n",
    "    brand = \"mercedes\"\n",
    "    \n",
    "car1 = car()\n",
    "print(car1.brand)"
   ]
  },
  {
   "cell_type": "markdown",
   "id": "8c5d230e",
   "metadata": {},
   "source": [
    "## Constructor (init function)"
   ]
  },
  {
   "cell_type": "markdown",
   "id": "41223d92",
   "metadata": {},
   "source": [
    "1. all classes have a function called _init_(), which is alsways executed when the obj is being initiated\n",
    "\n",
    "2. always take a argument\n",
    "\n",
    "\n",
    "3. it automatically called by python if it is not created bye ouurself"
   ]
  },
  {
   "cell_type": "code",
   "execution_count": 12,
   "id": "8840eb77",
   "metadata": {},
   "outputs": [
    {
     "name": "stdout",
     "output_type": "stream",
     "text": [
      "avadhesh\n",
      "89\n"
     ]
    }
   ],
   "source": [
    "class student:\n",
    "    def __init__ (self,name,marks):   # self - here its own obj whcih is created of class\n",
    "        self.name = name\n",
    "        self.marks = marks\n",
    "    \n",
    "## creating objects\n",
    "\n",
    "s1 = student(\"avadhesh\",89)\n",
    "print(s1.name)\n",
    "print(s1.marks)"
   ]
  },
  {
   "cell_type": "code",
   "execution_count": 13,
   "id": "9f08f972",
   "metadata": {},
   "outputs": [
    {
     "name": "stdout",
     "output_type": "stream",
     "text": [
      "amit\n",
      "98\n"
     ]
    }
   ],
   "source": [
    "s2 = student(\"amit\",98)\n",
    "print(s2.name)\n",
    "print(s2.marks)"
   ]
  },
  {
   "cell_type": "markdown",
   "id": "e32f09b5",
   "metadata": {},
   "source": [
    "## Type of Constructor"
   ]
  },
  {
   "cell_type": "code",
   "execution_count": null,
   "id": "225113eb",
   "metadata": {},
   "outputs": [],
   "source": [
    "class student:\n",
    "    \n",
    "    # Default Constructor\n",
    "    def __init__ (sel):   \n",
    "\n",
    "    \n",
    "    # parameterized constructor\n",
    "    def __init__ (self,name,marks):   \n",
    "        self.name = name\n",
    "        self.marks = marks\n",
    "        \n",
    "    # Copy Constructor\n",
    "    \n",
    "    "
   ]
  },
  {
   "cell_type": "markdown",
   "id": "20015fd1",
   "metadata": {},
   "source": [
    "## Class & Instance Attributes"
   ]
  },
  {
   "cell_type": "markdown",
   "id": "11736163",
   "metadata": {},
   "source": [
    "class.attr  - common for all the objects which is for the entire class\n",
    "\n",
    "obj.attr - they are different for the diff diff objects (self)\n",
    "\n",
    "\n",
    "\n",
    "##### Precedence  \n",
    "\n",
    "class.attr < obj.attr"
   ]
  },
  {
   "cell_type": "code",
   "execution_count": 14,
   "id": "07b8625d",
   "metadata": {},
   "outputs": [
    {
     "name": "stdout",
     "output_type": "stream",
     "text": [
      "xyz college\n"
     ]
    }
   ],
   "source": [
    "class student:\n",
    "    college_name = \"xyz college\"   # class attributes (properties)\n",
    "    name = \"anonymous\"\n",
    "\n",
    "print(student.college_name)"
   ]
  },
  {
   "cell_type": "markdown",
   "id": "87386e59",
   "metadata": {},
   "source": [
    "## Methods"
   ]
  },
  {
   "cell_type": "markdown",
   "id": "ea12c387",
   "metadata": {},
   "source": [
    "Methods are functioe that belong to objects"
   ]
  },
  {
   "cell_type": "code",
   "execution_count": 17,
   "id": "fa201999",
   "metadata": {},
   "outputs": [
    {
     "name": "stdout",
     "output_type": "stream",
     "text": [
      "hello avadhesh\n"
     ]
    }
   ],
   "source": [
    "class student:\n",
    "    def __init__ (self,name):\n",
    "        self.name = name\n",
    "        \n",
    "        \n",
    "    def hello(self):            # method (function)\n",
    "        print(\"hello\",self.name)\n",
    "\n",
    "        \n",
    "# creating obj\n",
    "s1 = student(\"avadhesh\")\n",
    "s1.hello()\n",
    "\n"
   ]
  },
  {
   "cell_type": "markdown",
   "id": "810c734f",
   "metadata": {},
   "source": [
    "## Static methods"
   ]
  },
  {
   "cell_type": "markdown",
   "id": "aa08e578",
   "metadata": {},
   "source": [
    "method that dont use the self parameter (work at the class level)"
   ]
  },
  {
   "cell_type": "code",
   "execution_count": 18,
   "id": "73c6ec40",
   "metadata": {},
   "outputs": [
    {
     "name": "stdout",
     "output_type": "stream",
     "text": [
      "vit bhopal university\n"
     ]
    }
   ],
   "source": [
    "class student:\n",
    "    @staticmethod  # Decorator (is a function that convert - normal methode to static methode)\n",
    "    \n",
    "    def college(): # self is not taken in used\n",
    "        print(\"vit bhopal university\")\n",
    "\n",
    "stu = student()\n",
    "stu.college()"
   ]
  },
  {
   "cell_type": "markdown",
   "id": "28612ef4",
   "metadata": {},
   "source": [
    "# Four Pillor of OOPS "
   ]
  },
  {
   "cell_type": "markdown",
   "id": "f8ec7c02",
   "metadata": {},
   "source": [
    "## 1. Abstraction"
   ]
  },
  {
   "cell_type": "markdown",
   "id": "fc23d602",
   "metadata": {},
   "source": [
    "Hiding the implementation details of a class and only showing the essential features to the user."
   ]
  },
  {
   "cell_type": "code",
   "execution_count": 19,
   "id": "4e038168",
   "metadata": {},
   "outputs": [
    {
     "name": "stdout",
     "output_type": "stream",
     "text": [
      "Car started..\n"
     ]
    }
   ],
   "source": [
    "class car:\n",
    "    \n",
    "    def __init__(self):\n",
    "        self.acc = False\n",
    "        self.brk = False\n",
    "        self.clutch = False\n",
    "        \n",
    "    def start(self):\n",
    "        self.clutch = True\n",
    "        self.acc = True\n",
    "        print(\"Car started..\")\n",
    "    \n",
    "car1 = car()\n",
    "car1.start()\n",
    "        "
   ]
  },
  {
   "cell_type": "markdown",
   "id": "4fa25f1d",
   "metadata": {},
   "source": [
    "## 2. Enscapsulation"
   ]
  },
  {
   "cell_type": "markdown",
   "id": "df2cf05e",
   "metadata": {},
   "source": [
    "Wrapping data and functions into a single unit (object)."
   ]
  },
  {
   "cell_type": "code",
   "execution_count": 24,
   "id": "9057e33c",
   "metadata": {},
   "outputs": [
    {
     "name": "stdout",
     "output_type": "stream",
     "text": [
      "Rs. 1000 was debited\n",
      "total balance =  9000\n",
      "Rs. 500 was credited\n",
      "total balance =  9500\n"
     ]
    }
   ],
   "source": [
    "class account:\n",
    "    \n",
    "    def __init__ (self,bal,acc):\n",
    "        self.balance = bal\n",
    "        self.account = acc\n",
    "  \n",
    "\n",
    "    # debit methode\n",
    "    def debit(self,amount):\n",
    "        self.balance -= amount\n",
    "        print(\"Rs.\",amount,\"was debited\")\n",
    "        print(\"total balance = \", self.get_balance())\n",
    "        \n",
    "        \n",
    "    # Credit methode\n",
    "    def credit(self,amount):\n",
    "        self.balance += amount\n",
    "        print(\"Rs.\",amount,\"was credited\")\n",
    "        print(\"total balance = \", self.get_balance())\n",
    "        \n",
    "    def get_balance(self):\n",
    "        return self.balance\n",
    "\n",
    "acc1 = account(10000,216332)\n",
    "acc1.debit(1000)\n",
    "acc1.credit(500)"
   ]
  },
  {
   "cell_type": "markdown",
   "id": "89da6782",
   "metadata": {},
   "source": [
    "## del keyword"
   ]
  },
  {
   "cell_type": "code",
   "execution_count": 31,
   "id": "0ff9ce0c",
   "metadata": {},
   "outputs": [
    {
     "name": "stdout",
     "output_type": "stream",
     "text": [
      "avadhesh\n"
     ]
    }
   ],
   "source": [
    "class student:\n",
    "    def __init__ (self,name):\n",
    "        self.name = name\n",
    "        \n",
    "        \n",
    "    def hello(self):            # method (function)\n",
    "        print(\"hello\",self.name)\n",
    "\n",
    "        \n",
    "# creating obj\n",
    "s1 = student(\"avadhesh\")\n",
    "print(s1.name)\n",
    "del s1.name\n",
    "print(s1.name) ## will throw en error because now it has no obj\n"
   ]
  },
  {
   "cell_type": "markdown",
   "id": "77367488",
   "metadata": {},
   "source": [
    "## Private ( attributes & methods )  --> access Modifier "
   ]
  },
  {
   "cell_type": "code",
   "execution_count": 35,
   "id": "3b84a76a",
   "metadata": {},
   "outputs": [
    {
     "name": "stdout",
     "output_type": "stream",
     "text": [
      "abhdhbb\n",
      "None\n"
     ]
    }
   ],
   "source": [
    " # for making private (__) duble uderscore\n",
    "\n",
    "class account:\n",
    "    \n",
    "    def __init__ (self,acc_no,acc_pass):\n",
    "        self.acc_no = acc_no\n",
    "        self.__acc_pass = acc_pass # now this is private bcasue used double underscore\n",
    "\n",
    "        \n",
    "     # setter & getter   \n",
    "    def reset_pass(self):\n",
    "        print(self.__acc_pass) ## it is accesible because it is inside the class\n",
    "        \n",
    "        \n",
    "        \n",
    "acc1 = account(\"12334\",\"abhdhbb\")\n",
    "#print(acc1.__acc_pass)   # password not accessible\n",
    "\n",
    "print(acc1.reset_pass())"
   ]
  },
  {
   "cell_type": "code",
   "execution_count": 37,
   "id": "df6e1105",
   "metadata": {},
   "outputs": [
    {
     "name": "stdout",
     "output_type": "stream",
     "text": [
      "hello person !\n",
      "None\n"
     ]
    }
   ],
   "source": [
    "class person:\n",
    "    __name = \"annonymous\" # private attributes\n",
    "    \n",
    "    def __hello(self): # private methode\n",
    "        print(\"hello person !\")\n",
    "        \n",
    "    def welcome(self):\n",
    "        self. __hello()\n",
    "        \n",
    "p1 = person()\n",
    "print(p1.welcome())\n",
    "        \n",
    "        "
   ]
  },
  {
   "cell_type": "markdown",
   "id": "34dfc361",
   "metadata": {},
   "source": [
    "## 3. Inheritance"
   ]
  },
  {
   "cell_type": "markdown",
   "id": "03ecbdb6",
   "metadata": {},
   "source": [
    "when one class derive he properties and methodes of anather class\n"
   ]
  },
  {
   "cell_type": "code",
   "execution_count": 39,
   "id": "d0dd4c65",
   "metadata": {},
   "outputs": [
    {
     "name": "stdout",
     "output_type": "stream",
     "text": [
      "fortuner\n",
      "car started ...\n",
      "None\n"
     ]
    }
   ],
   "source": [
    "class car:\n",
    "    @staticmethod\n",
    "    def start():\n",
    "        print(\"car started ...\")\n",
    "    \n",
    "    @staticmethod\n",
    "    def stop():\n",
    "        print(\"car stopped ...\")\n",
    "        \n",
    "# inherit the property\n",
    "\n",
    "class toyotaCar(car) : \n",
    "    def __init__ (self,name):\n",
    "        self.name = name\n",
    "    \n",
    "car1 = toyotaCar(\"fortuner\")\n",
    "car2 = toyotaCar(\"prius\")\n",
    "\n",
    "print(car1.name)\n",
    "print(car1.start())"
   ]
  },
  {
   "cell_type": "markdown",
   "id": "52de2148",
   "metadata": {},
   "source": [
    "## Type of inheritance"
   ]
  },
  {
   "cell_type": "markdown",
   "id": "b2e68f97",
   "metadata": {},
   "source": [
    "### 1. single Inheritance"
   ]
  },
  {
   "cell_type": "code",
   "execution_count": null,
   "id": "d430ff89",
   "metadata": {},
   "outputs": [],
   "source": [
    "class car:\n",
    "    @staticmethod\n",
    "    def start():\n",
    "        print(\"car started ...\")\n",
    "    \n",
    "    @staticmethod\n",
    "    def stop():\n",
    "        print(\"car stopped ...\")\n",
    "        \n",
    "# inherit the property\n",
    "\n",
    "class toyotaCar(car) : \n",
    "    def __init__ (self,name):\n",
    "        self.name = name\n",
    "    \n",
    "car1 = toyotaCar(\"fortuner\")\n",
    "car2 = toyotaCar(\"prius\")\n",
    "\n",
    "print(car1.name)\n",
    "print(car1.start())"
   ]
  },
  {
   "cell_type": "markdown",
   "id": "952db08e",
   "metadata": {},
   "source": [
    "### 2. multi-level inheritance"
   ]
  },
  {
   "cell_type": "code",
   "execution_count": 40,
   "id": "81a9be0d",
   "metadata": {},
   "outputs": [
    {
     "name": "stdout",
     "output_type": "stream",
     "text": [
      "car started ...\n"
     ]
    }
   ],
   "source": [
    "class car:\n",
    "    @staticmethod\n",
    "    def start():\n",
    "        print(\"car started ...\")\n",
    "    \n",
    "    @staticmethod\n",
    "    def stop():\n",
    "        print(\"car stopped ...\")\n",
    "        \n",
    "# inherit the property\n",
    "\n",
    "class toyotaCar(car) : \n",
    "    def __init__ (self,brand):\n",
    "        self.brand = brand\n",
    "    \n",
    "class fortuner(toyotaCar):\n",
    "    def __init__(self,type):\n",
    "        self.type = type\n",
    "        \n",
    "car1 = fortuner(\"diesel\")\n",
    "car1.start()\n"
   ]
  },
  {
   "cell_type": "markdown",
   "id": "80b17416",
   "metadata": {},
   "source": [
    "### 3. multiple Inheritance"
   ]
  },
  {
   "cell_type": "code",
   "execution_count": 41,
   "id": "365ae098",
   "metadata": {},
   "outputs": [
    {
     "name": "stdout",
     "output_type": "stream",
     "text": [
      "welcome to class c\n",
      "welcome to class B\n",
      "welcome to class A\n"
     ]
    }
   ],
   "source": [
    "class A:\n",
    "    varA = \"welcome to class A\"\n",
    "    \n",
    "class B:\n",
    "    varB = \"welcome to class B\"\n",
    "    \n",
    "class C(A,B):\n",
    "    varC = \"welcome to class c\"\n",
    "    \n",
    "    \n",
    "c1 = C()\n",
    "\n",
    "print(c1.varC)\n",
    "print(c1.varB)\n",
    "print(c1.varA)"
   ]
  },
  {
   "cell_type": "markdown",
   "id": "77d476b2",
   "metadata": {},
   "source": [
    "## Super Methode"
   ]
  },
  {
   "cell_type": "markdown",
   "id": "bebf858f",
   "metadata": {},
   "source": [
    "super() method is used to acces methods of the parent class\n"
   ]
  },
  {
   "cell_type": "code",
   "execution_count": 44,
   "id": "733fc9d9",
   "metadata": {},
   "outputs": [
    {
     "name": "stdout",
     "output_type": "stream",
     "text": [
      "car started ...\n",
      "electric\n"
     ]
    }
   ],
   "source": [
    "class car:\n",
    "    def __init__ (self,type):\n",
    "        self.type = type\n",
    "        \n",
    "    @staticmethod\n",
    "    def start():\n",
    "        print(\"car started ...\")\n",
    "    \n",
    "    @staticmethod\n",
    "    def stop():\n",
    "        print(\"car stopped ...\")\n",
    "        \n",
    "# inherit the property\n",
    "\n",
    "class toyotaCar(car) : \n",
    "    def __init__ (self,name,type):\n",
    "        self.name = name\n",
    "        super().__init__(type) # super keyword\n",
    "        super().start()\n",
    "        \n",
    "        \n",
    "car1 = toyotaCar(\"prius\",\"electric\")\n",
    "print(car1.type)\n",
    "    \n"
   ]
  },
  {
   "cell_type": "markdown",
   "id": "d41876d6",
   "metadata": {},
   "source": [
    " ## Class Methode"
   ]
  },
  {
   "cell_type": "code",
   "execution_count": null,
   "id": "d3bd74d2",
   "metadata": {},
   "outputs": [],
   "source": [
    "a class method is bound to the class and recieve the class as an implicit first argument\n",
    "\n",
    "Note:- static methode can't access or modify class state & generally for utility"
   ]
  },
  {
   "cell_type": "code",
   "execution_count": null,
   "id": "da1a7687",
   "metadata": {},
   "outputs": [],
   "source": [
    "class student:\n",
    "    @classmethod  # decorator\n",
    "    \n",
    "    def college(cls):\n",
    "        pass"
   ]
  },
  {
   "cell_type": "code",
   "execution_count": 49,
   "id": "a320543c",
   "metadata": {},
   "outputs": [
    {
     "name": "stdout",
     "output_type": "stream",
     "text": [
      "avadhesh shah\n",
      "annonymous\n"
     ]
    }
   ],
   "source": [
    "class person:\n",
    "    name = \"annonymous\"\n",
    "    \n",
    "    def changename(self,name):\n",
    "        self.name = name\n",
    "        \n",
    "p1 = person()\n",
    "p1.changename(\"avadhesh shah\")\n",
    "print(p1.name)\n",
    "print(person.name) ## main name not changed stil annonymous\n",
    "        "
   ]
  },
  {
   "cell_type": "code",
   "execution_count": 50,
   "id": "54cd4ced",
   "metadata": {},
   "outputs": [
    {
     "name": "stdout",
     "output_type": "stream",
     "text": [
      "avadhesh shah\n",
      "avadhesh shah\n"
     ]
    }
   ],
   "source": [
    "class person:\n",
    "    name = \"annonymous\"\n",
    "    \n",
    "    def changename(self,name):\n",
    "        self.__class__.name = name # other methode to correct that\n",
    "        \n",
    "p1 = person()\n",
    "p1.changename(\"avadhesh shah\")\n",
    "print(p1.name)\n",
    "print(person.name)\n",
    "        "
   ]
  },
  {
   "cell_type": "code",
   "execution_count": 51,
   "id": "731929c0",
   "metadata": {},
   "outputs": [
    {
     "name": "stdout",
     "output_type": "stream",
     "text": [
      "avadhesh shah\n",
      "avadhesh shah\n"
     ]
    }
   ],
   "source": [
    "class person:\n",
    "    name = \"annonymous\"\n",
    "    \n",
    "    def changename(self,name):\n",
    "       person.name = name # other methode to correct that\n",
    "        \n",
    "p1 = person()\n",
    "p1.changename(\"avadhesh shah\")\n",
    "print(p1.name)\n",
    "print(person.name)\n",
    "        "
   ]
  },
  {
   "cell_type": "markdown",
   "id": "b2a3caa9",
   "metadata": {},
   "source": [
    "##### but "
   ]
  },
  {
   "cell_type": "code",
   "execution_count": 53,
   "id": "a4058c12",
   "metadata": {},
   "outputs": [
    {
     "name": "stdout",
     "output_type": "stream",
     "text": [
      "avadhesh shah\n",
      "avadhesh shah\n"
     ]
    }
   ],
   "source": [
    "class person:\n",
    "    name = \"annonymous\"\n",
    "    \n",
    "    @classmethod                 ## using class methode\n",
    "    def changename(cls,name):\n",
    "        cls.name = name\n",
    "        \n",
    "p1 = person()\n",
    "p1.changename(\"avadhesh shah\")\n",
    "print(p1.name)\n",
    "print(person.name)\n",
    "        "
   ]
  },
  {
   "cell_type": "markdown",
   "id": "1c76102c",
   "metadata": {},
   "source": [
    "### Lets clarify"
   ]
  },
  {
   "cell_type": "code",
   "execution_count": null,
   "id": "0c432177",
   "metadata": {},
   "outputs": [],
   "source": [
    "1. static methode ()  --> no any attributes and changes. it is for entire class\n",
    "\n",
    "2. class methode(cls)  --> chnage attributes of class\n",
    "\n",
    "3. instance methode (self) --> change but its is particular for an obj"
   ]
  },
  {
   "cell_type": "markdown",
   "id": "716a7c8b",
   "metadata": {},
   "source": [
    "## 4. Polymorphism"
   ]
  },
  {
   "cell_type": "markdown",
   "id": "009a9da1",
   "metadata": {},
   "source": [
    "#### 1. compile time polymorphism"
   ]
  },
  {
   "cell_type": "code",
   "execution_count": null,
   "id": "20ef7b88",
   "metadata": {},
   "outputs": [],
   "source": [
    "1. operator overloading \n",
    "\n",
    "---> when the same operator is allowed to have different meaning according to the context\n",
    "\n",
    "---> methods\n",
    "\n",
    "    1. a+b   a.__add__(b)\n",
    "    \n",
    "    \n",
    "    2. a-b   a.__sub__(b)\n",
    "    \n",
    "    3. a*b   a.__mul__(b)\n",
    "    \n",
    "    4. a/b   a.__truediv__(b)\n",
    "    \n",
    "    5. a%b   a.__mod__(b)\n",
    "\n",
    "\n",
    "2. methode overloading"
   ]
  },
  {
   "cell_type": "code",
   "execution_count": null,
   "id": "f95f4d09",
   "metadata": {},
   "outputs": [],
   "source": [
    "class complex:\n",
    "    def __init__(self,real,img):\n",
    "        self.real = real\n",
    "        self.img = img\n",
    "        \n",
    "        def shownumber(self):\n",
    "            print(self.real,\"i +\",self.img,\"j\")\n",
    "        \n",
    "        def __add__(self,num2):\n",
    "            newReal = self.real + num2.real\n",
    "            newImg = self.img + num2.img\n",
    "            return complex(newReal,newImg)\n",
    "        \n",
    "num1 = complex(1,3)\n",
    "num1.shownumber()\n",
    "\n",
    "num1 = complex(4,6)\n",
    "num2.shownumber()\n",
    "\n",
    "num3 = num1 + num2\n",
    "num3.shownumber()"
   ]
  },
  {
   "cell_type": "markdown",
   "id": "6257c753",
   "metadata": {},
   "source": [
    "### Property Decorator"
   ]
  },
  {
   "cell_type": "markdown",
   "id": "a8cf0aff",
   "metadata": {},
   "source": [
    "we use @property decorator on any methode in the class to use the methode as a property"
   ]
  },
  {
   "cell_type": "code",
   "execution_count": null,
   "id": "9057a97d",
   "metadata": {},
   "outputs": [],
   "source": []
  }
 ],
 "metadata": {
  "kernelspec": {
   "display_name": "Python 3 (ipykernel)",
   "language": "python",
   "name": "python3"
  },
  "language_info": {
   "codemirror_mode": {
    "name": "ipython",
    "version": 3
   },
   "file_extension": ".py",
   "mimetype": "text/x-python",
   "name": "python",
   "nbconvert_exporter": "python",
   "pygments_lexer": "ipython3",
   "version": "3.11.3"
  }
 },
 "nbformat": 4,
 "nbformat_minor": 5
}
