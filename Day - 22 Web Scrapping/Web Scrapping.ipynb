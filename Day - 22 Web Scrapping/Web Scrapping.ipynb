{
 "cells": [
  {
   "cell_type": "markdown",
   "id": "a9e2dcc1",
   "metadata": {},
   "source": [
    "## Web Scrapping"
   ]
  },
  {
   "cell_type": "markdown",
   "id": "941a23a2",
   "metadata": {},
   "source": [
    "Web scraping is the process of extracting and collecting data from websites and storing it on a local machine or in a database. The internet is full of a huge amount of data that can be used for different purposes. To collect this data, we need to know how to scrape data from a website."
   ]
  },
  {
   "cell_type": "markdown",
   "id": "77f4ae34",
   "metadata": {},
   "source": [
    "### Installation"
   ]
  },
  {
   "cell_type": "code",
   "execution_count": null,
   "id": "9a889690",
   "metadata": {},
   "outputs": [],
   "source": [
    "pip install requests\n",
    "pip install beautifulsoup4"
   ]
  },
  {
   "cell_type": "markdown",
   "id": "91003eed",
   "metadata": {},
   "source": [
    "### Importing Required Modules"
   ]
  },
  {
   "cell_type": "code",
   "execution_count": 3,
   "id": "0854b9ae",
   "metadata": {},
   "outputs": [],
   "source": [
    "import requests\n",
    "from bs4 import BeautifulSoup\n"
   ]
  },
  {
   "cell_type": "markdown",
   "id": "e062e722",
   "metadata": {},
   "source": [
    "### Fetching Data from a Website"
   ]
  },
  {
   "cell_type": "code",
   "execution_count": 4,
   "id": "3e77a6de",
   "metadata": {},
   "outputs": [
    {
     "name": "stdout",
     "output_type": "stream",
     "text": [
      "404\n"
     ]
    }
   ],
   "source": [
    "url = 'https://archive.ics.uci.edu/ml/datasets.php'\n",
    "\n",
    "response = requests.get(url)\n",
    "\n",
    "status = response.status_code\n",
    "\n",
    "print(status) \n",
    "\n"
   ]
  },
  {
   "cell_type": "markdown",
   "id": "f749c25a",
   "metadata": {},
   "source": [
    "### Extracting Data from Tables"
   ]
  },
  {
   "cell_type": "code",
   "execution_count": null,
   "id": "0ac636bc",
   "metadata": {},
   "outputs": [],
   "source": [
    "content = response.content  \n",
    "soup = BeautifulSoup(content, 'html.parser')  \n",
    "tables = soup.find_all('table', {'cellpadding': '3'})\n",
    "\n",
    "table = tables[0] \n",
    "for td in table.find('tr').find_all('td'):\n",
    "    print(td.text)\n"
   ]
  }
 ],
 "metadata": {
  "kernelspec": {
   "display_name": "Python 3 (ipykernel)",
   "language": "python",
   "name": "python3"
  },
  "language_info": {
   "codemirror_mode": {
    "name": "ipython",
    "version": 3
   },
   "file_extension": ".py",
   "mimetype": "text/x-python",
   "name": "python",
   "nbconvert_exporter": "python",
   "pygments_lexer": "ipython3",
   "version": "3.11.3"
  }
 },
 "nbformat": 4,
 "nbformat_minor": 5
}
