{
 "cells": [
  {
   "cell_type": "markdown",
   "id": "76f49748",
   "metadata": {},
   "source": [
    "## List"
   ]
  },
  {
   "cell_type": "markdown",
   "id": "bf5b09ef",
   "metadata": {},
   "source": [
    "A built-in data type that stores set of values\n",
    "\n",
    "it is mutable\n",
    "\n",
    "It can store elements of different types (integer, float, string, etc.)\n"
   ]
  },
  {
   "cell_type": "markdown",
   "id": "f4781eaa",
   "metadata": {},
   "source": [
    "marks = [87, 64, 33, 95, 76]\n",
    "\n",
    "student = [”Karan”, 85,“Delhi”] \n",
    "\n",
    "student[0] =“Arjun” #allowed in python\n",
    "\n",
    "len(student) #returns length"
   ]
  },
  {
   "cell_type": "markdown",
   "id": "26420635",
   "metadata": {},
   "source": [
    "## Indexing & Accesing elements"
   ]
  },
  {
   "cell_type": "code",
   "execution_count": 2,
   "id": "30ca2b7e",
   "metadata": {},
   "outputs": [],
   "source": [
    "marks = [87, 64, 33, 95, 76]"
   ]
  },
  {
   "cell_type": "code",
   "execution_count": 3,
   "id": "b39d82bd",
   "metadata": {},
   "outputs": [
    {
     "name": "stdout",
     "output_type": "stream",
     "text": [
      "5\n"
     ]
    }
   ],
   "source": [
    "print(len(marks))"
   ]
  },
  {
   "cell_type": "code",
   "execution_count": 4,
   "id": "e9c80d03",
   "metadata": {},
   "outputs": [
    {
     "name": "stdout",
     "output_type": "stream",
     "text": [
      "87\n"
     ]
    }
   ],
   "source": [
    "print(marks[0])"
   ]
  },
  {
   "cell_type": "code",
   "execution_count": 5,
   "id": "1daef38c",
   "metadata": {},
   "outputs": [
    {
     "name": "stdout",
     "output_type": "stream",
     "text": [
      "[87, 64, 33, 95, 76]\n"
     ]
    }
   ],
   "source": [
    "print(marks)"
   ]
  },
  {
   "cell_type": "markdown",
   "id": "c17c3ce4",
   "metadata": {},
   "source": [
    "## LIst Slicing"
   ]
  },
  {
   "cell_type": "code",
   "execution_count": 6,
   "id": "97d559de",
   "metadata": {},
   "outputs": [
    {
     "name": "stdout",
     "output_type": "stream",
     "text": [
      "[87, 64, 33, 95, 76]\n"
     ]
    }
   ],
   "source": [
    "print(marks[0:])"
   ]
  },
  {
   "cell_type": "code",
   "execution_count": 7,
   "id": "7cf3526d",
   "metadata": {},
   "outputs": [
    {
     "name": "stdout",
     "output_type": "stream",
     "text": [
      "[87, 64, 33]\n"
     ]
    }
   ],
   "source": [
    "print(marks[:3])"
   ]
  },
  {
   "cell_type": "code",
   "execution_count": 9,
   "id": "8332d435",
   "metadata": {},
   "outputs": [
    {
     "name": "stdout",
     "output_type": "stream",
     "text": [
      "[]\n"
     ]
    }
   ],
   "source": [
    "print(marks[-2:-3])"
   ]
  },
  {
   "cell_type": "markdown",
   "id": "0826bbd4",
   "metadata": {},
   "source": [
    "\n",
    "## List methods"
   ]
  },
  {
   "cell_type": "code",
   "execution_count": 10,
   "id": "dfb49bc9",
   "metadata": {},
   "outputs": [],
   "source": [
    "list = [1,2,3]"
   ]
  },
  {
   "cell_type": "code",
   "execution_count": 11,
   "id": "b0ab9412",
   "metadata": {},
   "outputs": [
    {
     "name": "stdout",
     "output_type": "stream",
     "text": [
      "[1, 2, 3, 4]\n"
     ]
    }
   ],
   "source": [
    "list.append(4)\n",
    "print(list)"
   ]
  },
  {
   "cell_type": "code",
   "execution_count": 13,
   "id": "e5e68ebc",
   "metadata": {},
   "outputs": [
    {
     "name": "stdout",
     "output_type": "stream",
     "text": [
      "[1, 2, 3, 4]\n"
     ]
    }
   ],
   "source": [
    "list.sort()\n",
    "print(list)"
   ]
  },
  {
   "cell_type": "code",
   "execution_count": 14,
   "id": "bb487102",
   "metadata": {},
   "outputs": [
    {
     "name": "stdout",
     "output_type": "stream",
     "text": [
      "[4, 3, 2, 1]\n"
     ]
    }
   ],
   "source": [
    "list.sort(reverse=True)\n",
    "print(list)"
   ]
  },
  {
   "cell_type": "code",
   "execution_count": 15,
   "id": "2c236a0c",
   "metadata": {},
   "outputs": [
    {
     "name": "stdout",
     "output_type": "stream",
     "text": [
      "[1, 2, 3, 4]\n"
     ]
    }
   ],
   "source": [
    "list.reverse()\n",
    "print(list)"
   ]
  },
  {
   "cell_type": "code",
   "execution_count": 19,
   "id": "e1938b88",
   "metadata": {},
   "outputs": [
    {
     "name": "stdout",
     "output_type": "stream",
     "text": [
      "[1, 2, 3, 6, 4, 6, 6]\n"
     ]
    }
   ],
   "source": [
    "list.insert(3,6) # index, element\n",
    "print(list)"
   ]
  },
  {
   "cell_type": "code",
   "execution_count": 20,
   "id": "406a23b4",
   "metadata": {},
   "outputs": [
    {
     "name": "stdout",
     "output_type": "stream",
     "text": [
      "[2, 3, 6, 4, 6, 6]\n"
     ]
    }
   ],
   "source": [
    "list.remove(1)\n",
    "print(list)"
   ]
  },
  {
   "cell_type": "code",
   "execution_count": 21,
   "id": "32e53b4f",
   "metadata": {},
   "outputs": [
    {
     "name": "stdout",
     "output_type": "stream",
     "text": [
      "[2, 3, 6, 4, 6]\n"
     ]
    }
   ],
   "source": [
    "list.pop()\n",
    "print(list)"
   ]
  },
  {
   "cell_type": "code",
   "execution_count": null,
   "id": "04a1ccd0",
   "metadata": {},
   "outputs": [],
   "source": []
  }
 ],
 "metadata": {
  "kernelspec": {
   "display_name": "Python 3 (ipykernel)",
   "language": "python",
   "name": "python3"
  },
  "language_info": {
   "codemirror_mode": {
    "name": "ipython",
    "version": 3
   },
   "file_extension": ".py",
   "mimetype": "text/x-python",
   "name": "python",
   "nbconvert_exporter": "python",
   "pygments_lexer": "ipython3",
   "version": "3.11.3"
  }
 },
 "nbformat": 4,
 "nbformat_minor": 5
}
