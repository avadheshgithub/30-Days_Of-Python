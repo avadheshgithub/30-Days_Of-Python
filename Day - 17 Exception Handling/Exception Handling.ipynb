{
 "cells": [
  {
   "cell_type": "markdown",
   "id": "ff6966d4",
   "metadata": {},
   "source": [
    "# Exception handling"
   ]
  },
  {
   "cell_type": "markdown",
   "id": "8a6d08b2",
   "metadata": {},
   "source": [
    "Exception handling is crucial for making your Python programs more robust and preventing them from crashing unexpectedly. Python uses try and except blocks to handle errors gracefully, allowing the program to continue running even when an error occurs."
   ]
  },
  {
   "cell_type": "markdown",
   "id": "abdde7c1",
   "metadata": {},
   "source": [
    "### 1.Basic Exception Handling"
   ]
  },
  {
   "cell_type": "code",
   "execution_count": null,
   "id": "17f8c2a8",
   "metadata": {},
   "outputs": [],
   "source": [
    "try:\n",
    "    # Code that may raise an exception\n",
    "    code_in_this_block_if_things_go_well\n",
    "except:\n",
    "    # Code that runs if an exception occurs\n",
    "    code_in_this_block_run_if_things_go_wrong\n"
   ]
  },
  {
   "cell_type": "code",
   "execution_count": 1,
   "id": "a802b266",
   "metadata": {},
   "outputs": [
    {
     "name": "stdout",
     "output_type": "stream",
     "text": [
      "Something went wrong\n"
     ]
    }
   ],
   "source": [
    "# Ex\n",
    "\n",
    "try:\n",
    "    print(10 + '5')\n",
    "except:\n",
    "    print('Something went wrong')\n"
   ]
  },
  {
   "cell_type": "markdown",
   "id": "b56dc4f1",
   "metadata": {},
   "source": [
    "### 2. Handling Specific Exceptions"
   ]
  },
  {
   "cell_type": "code",
   "execution_count": 2,
   "id": "5ccaf699",
   "metadata": {},
   "outputs": [
    {
     "name": "stdout",
     "output_type": "stream",
     "text": [
      "Enter your name: avadhesh\n",
      "Year you were born: 2004\n",
      "Type error occurred\n"
     ]
    }
   ],
   "source": [
    "try:\n",
    "    name = input('Enter your name: ')\n",
    "    year_born = input('Year you were born: ')\n",
    "    age = 2024 - year_born\n",
    "    print(f'You are {name}. And your age is {age}.')\n",
    "except TypeError:\n",
    "    print('Type error occurred')\n",
    "except ValueError:\n",
    "    print('Value error occurred')\n",
    "except ZeroDivisionError:\n",
    "    print('Zero division error occurred')\n"
   ]
  },
  {
   "cell_type": "markdown",
   "id": "021ab51d",
   "metadata": {},
   "source": [
    "### 3. Using else and finally Blocks"
   ]
  },
  {
   "cell_type": "code",
   "execution_count": 4,
   "id": "e430354c",
   "metadata": {},
   "outputs": [
    {
     "name": "stdout",
     "output_type": "stream",
     "text": [
      "Enter your name: avadhesh\n",
      "Year you born: \n",
      "Value error occurred\n",
      "I always run.\n"
     ]
    }
   ],
   "source": [
    "try:\n",
    "    name = input('Enter your name: ')\n",
    "    year_born = input('Year you born: ')\n",
    "    age = 2024 - int(year_born)\n",
    "    print(f'You are {name}. And your age is {age}.')\n",
    "except TypeError:\n",
    "    print('Type error occurred')\n",
    "except ValueError:\n",
    "    print('Value error occurred')\n",
    "except ZeroDivisionError:\n",
    "    print('Zero division error occurred')\n",
    "else:\n",
    "    print('I usually run with the try block')\n",
    "finally:\n",
    "    print('I always run.')\n"
   ]
  },
  {
   "cell_type": "markdown",
   "id": "358fae93",
   "metadata": {},
   "source": [
    "### 4. Catching All Exceptions"
   ]
  },
  {
   "cell_type": "code",
   "execution_count": 6,
   "id": "fa2ebdaf",
   "metadata": {},
   "outputs": [
    {
     "name": "stdout",
     "output_type": "stream",
     "text": [
      "Enter your name: avadhesh\n",
      "Year you born: '2004'\n",
      "invalid literal for int() with base 10: \"'2004'\"\n"
     ]
    }
   ],
   "source": [
    "try:\n",
    "    name = input('Enter your name: ')\n",
    "    year_born = input('Year you born: ')\n",
    "    age = 2024 - int(year_born)\n",
    "    print(f'You are {name}. And your age is {age}.')\n",
    "    \n",
    "except Exception as e:\n",
    "    print(e)\n"
   ]
  },
  {
   "cell_type": "markdown",
   "id": "3f69d45f",
   "metadata": {},
   "source": [
    "## Other Useful Functions"
   ]
  },
  {
   "cell_type": "markdown",
   "id": "882968b1",
   "metadata": {},
   "source": [
    "### 1. Enumerate"
   ]
  },
  {
   "cell_type": "markdown",
   "id": "83a57dc5",
   "metadata": {},
   "source": [
    "The enumerate function allows you to loop through a list and have access to both the index and the value of each item."
   ]
  },
  {
   "cell_type": "markdown",
   "id": "cef57350",
   "metadata": {},
   "source": [
    "### 2. Zip"
   ]
  },
  {
   "cell_type": "markdown",
   "id": "568b8a59",
   "metadata": {},
   "source": [
    "The zip function allows you to combine multiple lists into a list of tuples."
   ]
  }
 ],
 "metadata": {
  "kernelspec": {
   "display_name": "Python 3 (ipykernel)",
   "language": "python",
   "name": "python3"
  },
  "language_info": {
   "codemirror_mode": {
    "name": "ipython",
    "version": 3
   },
   "file_extension": ".py",
   "mimetype": "text/x-python",
   "name": "python",
   "nbconvert_exporter": "python",
   "pygments_lexer": "ipython3",
   "version": "3.11.3"
  }
 },
 "nbformat": 4,
 "nbformat_minor": 5
}
