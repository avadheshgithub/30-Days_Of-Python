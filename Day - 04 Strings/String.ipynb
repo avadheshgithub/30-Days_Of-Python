{
 "cells": [
  {
   "cell_type": "markdown",
   "id": "123d1065",
   "metadata": {},
   "source": [
    "## String\n",
    "\n",
    "##### String is data type that stores a sequence of characters.\n",
    "\n",
    "#### concatenation\n",
    "\n",
    "“hello” + “world” “helloworld”\n",
    "\n",
    "#### length of str\n",
    "\n",
    "len(str)"
   ]
  },
  {
   "cell_type": "code",
   "execution_count": 1,
   "id": "07d6da1b",
   "metadata": {},
   "outputs": [],
   "source": [
    "#str1 = \"this is a string\"\n",
    "\n",
    "#str2 = 'apna name'\n",
    "\n",
    "#str3 = \"\"\"this is string\"\"\""
   ]
  },
  {
   "cell_type": "code",
   "execution_count": 6,
   "id": "22bc9e0a",
   "metadata": {},
   "outputs": [
    {
     "name": "stdout",
     "output_type": "stream",
     "text": [
      "apnaname\n"
     ]
    }
   ],
   "source": [
    "\n",
    "str1 = \"apna\"\n",
    "str2 = \"name\"\n",
    "\n",
    "print(str1+str2)"
   ]
  },
  {
   "cell_type": "code",
   "execution_count": 7,
   "id": "645f17b0",
   "metadata": {},
   "outputs": [
    {
     "name": "stdout",
     "output_type": "stream",
     "text": [
      "4\n",
      "4\n"
     ]
    }
   ],
   "source": [
    "# Length\n",
    "\n",
    "print(len(str1))\n",
    "print(len(str2))"
   ]
  },
  {
   "cell_type": "markdown",
   "id": "611992d9",
   "metadata": {},
   "source": [
    "## Formating"
   ]
  },
  {
   "cell_type": "markdown",
   "id": "fde50bc3",
   "metadata": {},
   "source": [
    "escape sequence formating character"
   ]
  },
  {
   "cell_type": "code",
   "execution_count": 4,
   "id": "869ae854",
   "metadata": {},
   "outputs": [
    {
     "name": "stdout",
     "output_type": "stream",
     "text": [
      "this is a string.\n",
      " we are creating it in python\n"
     ]
    }
   ],
   "source": [
    "str1 = \"this is a string.\\n we are creating it in python\"\n",
    "print(str1)"
   ]
  },
  {
   "cell_type": "code",
   "execution_count": 5,
   "id": "88b31abb",
   "metadata": {},
   "outputs": [
    {
     "name": "stdout",
     "output_type": "stream",
     "text": [
      "this is a string.\t we are creating it in python\n"
     ]
    }
   ],
   "source": [
    "str1 = \"this is a string.\\t we are creating it in python\"\n",
    "print(str1)"
   ]
  },
  {
   "cell_type": "markdown",
   "id": "b7e75763",
   "metadata": {},
   "source": [
    "## indexing"
   ]
  },
  {
   "cell_type": "markdown",
   "id": "d2bd5050",
   "metadata": {},
   "source": [
    "Start from 0 . \n",
    "\n",
    "space are also included\n",
    "\n",
    "it is not mutable"
   ]
  },
  {
   "cell_type": "code",
   "execution_count": 8,
   "id": "5e989b65",
   "metadata": {},
   "outputs": [
    {
     "name": "stdout",
     "output_type": "stream",
     "text": [
      "a\n"
     ]
    }
   ],
   "source": [
    "str = \"avadhesh\"\n",
    "print(str[2])"
   ]
  },
  {
   "cell_type": "code",
   "execution_count": 9,
   "id": "e2b67469",
   "metadata": {},
   "outputs": [
    {
     "name": "stdout",
     "output_type": "stream",
     "text": [
      "s\n"
     ]
    }
   ],
   "source": [
    "print(str[6])"
   ]
  },
  {
   "cell_type": "markdown",
   "id": "34731b6b",
   "metadata": {},
   "source": [
    "## Slicing"
   ]
  },
  {
   "cell_type": "markdown",
   "id": "8592d38e",
   "metadata": {},
   "source": [
    "Accessing parts of a string"
   ]
  },
  {
   "cell_type": "code",
   "execution_count": 10,
   "id": "ac35a3fb",
   "metadata": {},
   "outputs": [
    {
     "data": {
      "text/plain": [
       "'vad'"
      ]
     },
     "execution_count": 10,
     "metadata": {},
     "output_type": "execute_result"
    }
   ],
   "source": [
    "str = \"avadhesh\"\n",
    "\n",
    "str[1:4]"
   ]
  },
  {
   "cell_type": "code",
   "execution_count": 11,
   "id": "29156286",
   "metadata": {},
   "outputs": [
    {
     "data": {
      "text/plain": [
       "'avad'"
      ]
     },
     "execution_count": 11,
     "metadata": {},
     "output_type": "execute_result"
    }
   ],
   "source": [
    "str[:4]"
   ]
  },
  {
   "cell_type": "code",
   "execution_count": 12,
   "id": "46f5d404",
   "metadata": {},
   "outputs": [
    {
     "data": {
      "text/plain": [
       "'avadhesh'"
      ]
     },
     "execution_count": 12,
     "metadata": {},
     "output_type": "execute_result"
    }
   ],
   "source": [
    "str[0:]"
   ]
  },
  {
   "cell_type": "markdown",
   "id": "388b4497",
   "metadata": {},
   "source": [
    "### Neagtive index"
   ]
  },
  {
   "cell_type": "markdown",
   "id": "fbd48237",
   "metadata": {},
   "source": [
    "A p p l e\n",
    "\n",
    "-5 -4 -3 -2 -1"
   ]
  },
  {
   "cell_type": "code",
   "execution_count": 13,
   "id": "c8368184",
   "metadata": {},
   "outputs": [
    {
     "data": {
      "text/plain": [
       "'pl'"
      ]
     },
     "execution_count": 13,
     "metadata": {},
     "output_type": "execute_result"
    }
   ],
   "source": [
    "str = \"apple\"\n",
    "str[-3:-1]"
   ]
  },
  {
   "cell_type": "markdown",
   "id": "bdbfa314",
   "metadata": {},
   "source": [
    "## String functions"
   ]
  },
  {
   "cell_type": "markdown",
   "id": "d512df27",
   "metadata": {},
   "source": [
    "capitalize()\n",
    "\n",
    "count()\n",
    "\n",
    "find()\n",
    "\n",
    "format()\n",
    "\n",
    "index()\n",
    "\n",
    "islower()\n",
    "\n",
    "isupper()\n",
    "\n",
    "replace( old, new )"
   ]
  },
  {
   "cell_type": "code",
   "execution_count": 14,
   "id": "ae28e0d9",
   "metadata": {},
   "outputs": [
    {
     "name": "stdout",
     "output_type": "stream",
     "text": [
      "I am studing python\n"
     ]
    }
   ],
   "source": [
    " str = \"i am studing python\"\n",
    "print(str.capitalize())"
   ]
  },
  {
   "cell_type": "code",
   "execution_count": null,
   "id": "adffeff8",
   "metadata": {},
   "outputs": [],
   "source": []
  }
 ],
 "metadata": {
  "kernelspec": {
   "display_name": "Python 3 (ipykernel)",
   "language": "python",
   "name": "python3"
  },
  "language_info": {
   "codemirror_mode": {
    "name": "ipython",
    "version": 3
   },
   "file_extension": ".py",
   "mimetype": "text/x-python",
   "name": "python",
   "nbconvert_exporter": "python",
   "pygments_lexer": "ipython3",
   "version": "3.11.3"
  }
 },
 "nbformat": 4,
 "nbformat_minor": 5
}
