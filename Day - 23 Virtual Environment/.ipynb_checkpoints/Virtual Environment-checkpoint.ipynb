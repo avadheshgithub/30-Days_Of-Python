{
 "cells": [
  {
   "cell_type": "markdown",
   "id": "54451c26",
   "metadata": {},
   "source": [
    "## Set-Up Virtual Environment"
   ]
  },
  {
   "cell_type": "code",
   "execution_count": null,
   "id": "3740c66a",
   "metadata": {},
   "outputs": [],
   "source": [
    "#### Setup of virtual environment\n",
    "\n",
    "Steps are here to follow\n",
    "\n",
    "1. instal virtualenv\n",
    "\n",
    "2. create a project folder\n",
    "\n",
    "3. create a virtual environment\n",
    "\n",
    "4. Activate viortual Enviroment\n",
    "\n",
    "5. install flask\n",
    "\n",
    "6. check installed package\n",
    "\n",
    "7. Deactivate the virtual environmen\n",
    "\n",
    "8. add venv tp .gitignore"
   ]
  },
  {
   "cell_type": "code",
   "execution_count": null,
   "id": "b0e36ab7",
   "metadata": {},
   "outputs": [],
   "source": [
    "1.  pip install virtualenv\n",
    "\n",
    "2.  mkdir -p /path/to/30DaysOfPython/flask_project\n",
    "\n",
    "3.  cd /path/to/30DaysOfPython/flask_project\n",
    "    virtualenv venv\n",
    "\n",
    "4.  Mac/Linux: source venv/bin/activate\n",
    "    Windows PowerShell: .\\venv\\Scripts\\Activate\n",
    "    Windows Git Bash: source venv/Scripts/activate\n",
    "        \n",
    "5.  pip install Flask\n",
    "\n",
    "6.  pip freeze\n",
    "\n",
    "7.  deactivate\n",
    "\n",
    "8.  echo \"venv/\" >> .gitignore\n",
    "\n"
   ]
  }
 ],
 "metadata": {
  "kernelspec": {
   "display_name": "Python 3 (ipykernel)",
   "language": "python",
   "name": "python3"
  },
  "language_info": {
   "codemirror_mode": {
    "name": "ipython",
    "version": 3
   },
   "file_extension": ".py",
   "mimetype": "text/x-python",
   "name": "python",
   "nbconvert_exporter": "python",
   "pygments_lexer": "ipython3",
   "version": "3.11.3"
  }
 },
 "nbformat": 4,
 "nbformat_minor": 5
}
