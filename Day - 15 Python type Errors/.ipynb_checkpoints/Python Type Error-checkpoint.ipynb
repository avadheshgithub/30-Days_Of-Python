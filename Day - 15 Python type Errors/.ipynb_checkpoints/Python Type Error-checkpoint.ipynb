{
 "cells": [
  {
   "cell_type": "markdown",
   "id": "182da4c1",
   "metadata": {},
   "source": [
    "# Python Type Error"
   ]
  },
  {
   "cell_type": "markdown",
   "id": "c15ce149",
   "metadata": {},
   "source": [
    "When we write code it is common that we make a typo or some other common error."
   ]
  },
  {
   "cell_type": "markdown",
   "id": "9d42c37e",
   "metadata": {},
   "source": [
    "### 1. Syntax Error"
   ]
  },
  {
   "cell_type": "code",
   "execution_count": 1,
   "id": "3955dfe6",
   "metadata": {},
   "outputs": [
    {
     "ename": "SyntaxError",
     "evalue": "Missing parentheses in call to 'print'. Did you mean print(...)? (2705956507.py, line 1)",
     "output_type": "error",
     "traceback": [
      "\u001b[1;36m  Cell \u001b[1;32mIn[1], line 1\u001b[1;36m\u001b[0m\n\u001b[1;33m    print 'hello world'\u001b[0m\n\u001b[1;37m    ^\u001b[0m\n\u001b[1;31mSyntaxError\u001b[0m\u001b[1;31m:\u001b[0m Missing parentheses in call to 'print'. Did you mean print(...)?\n"
     ]
    }
   ],
   "source": [
    ">>> print 'hello world'\n",
    "  File \"<stdin>\", line 1\n",
    "    print 'hello world'\n",
    "          ^\n",
    "#SyntaxError: Missing parentheses in call to 'print'. Did you mean print('hello world')?\n"
   ]
  },
  {
   "cell_type": "code",
   "execution_count": null,
   "id": "28bf7742",
   "metadata": {},
   "outputs": [],
   "source": [
    "# Fix\n",
    ">>> print('hello world')\n",
    "hello world\n"
   ]
  },
  {
   "cell_type": "markdown",
   "id": "03bc46c2",
   "metadata": {},
   "source": [
    "### 2.Name Error"
   ]
  },
  {
   "cell_type": "code",
   "execution_count": 3,
   "id": "e96811fc",
   "metadata": {},
   "outputs": [
    {
     "ename": "NameError",
     "evalue": "name 'age' is not defined",
     "output_type": "error",
     "traceback": [
      "\u001b[1;31m---------------------------------------------------------------------------\u001b[0m",
      "\u001b[1;31mNameError\u001b[0m                                 Traceback (most recent call last)",
      "Cell \u001b[1;32mIn[3], line 1\u001b[0m\n\u001b[1;32m----> 1\u001b[0m \u001b[38;5;28mprint\u001b[39m(age)\n",
      "\u001b[1;31mNameError\u001b[0m: name 'age' is not defined"
     ]
    }
   ],
   "source": [
    ">>> print(age)\n",
    "\n",
    "#NameError: name 'age' is not defined\n"
   ]
  },
  {
   "cell_type": "code",
   "execution_count": null,
   "id": "4872174c",
   "metadata": {},
   "outputs": [],
   "source": [
    "# FIX \n",
    ">>> age = 25\n",
    ">>> print(age)\n",
    "25\n"
   ]
  },
  {
   "cell_type": "markdown",
   "id": "a3fb5f14",
   "metadata": {},
   "source": [
    "### 3.Index Error"
   ]
  },
  {
   "cell_type": "code",
   "execution_count": 4,
   "id": "bc4b60ed",
   "metadata": {},
   "outputs": [
    {
     "ename": "IndexError",
     "evalue": "list index out of range",
     "output_type": "error",
     "traceback": [
      "\u001b[1;31m---------------------------------------------------------------------------\u001b[0m",
      "\u001b[1;31mIndexError\u001b[0m                                Traceback (most recent call last)",
      "Cell \u001b[1;32mIn[4], line 2\u001b[0m\n\u001b[0;32m      1\u001b[0m numbers \u001b[38;5;241m=\u001b[39m [\u001b[38;5;241m1\u001b[39m, \u001b[38;5;241m2\u001b[39m, \u001b[38;5;241m3\u001b[39m, \u001b[38;5;241m4\u001b[39m, \u001b[38;5;241m5\u001b[39m]\n\u001b[1;32m----> 2\u001b[0m numbers[\u001b[38;5;241m5\u001b[39m]\n",
      "\u001b[1;31mIndexError\u001b[0m: list index out of range"
     ]
    }
   ],
   "source": [
    ">>> numbers = [1, 2, 3, 4, 5]\n",
    ">>> numbers[5]\n",
    "\n",
    "#IndexError: list index out of range\n"
   ]
  },
  {
   "cell_type": "markdown",
   "id": "f3c1ee7b",
   "metadata": {},
   "source": [
    "### 4. ModuleNotFound Error"
   ]
  },
  {
   "cell_type": "code",
   "execution_count": 5,
   "id": "8b34bed7",
   "metadata": {},
   "outputs": [
    {
     "ename": "ModuleNotFoundError",
     "evalue": "No module named 'maths'",
     "output_type": "error",
     "traceback": [
      "\u001b[1;31m---------------------------------------------------------------------------\u001b[0m",
      "\u001b[1;31mModuleNotFoundError\u001b[0m                       Traceback (most recent call last)",
      "Cell \u001b[1;32mIn[5], line 1\u001b[0m\n\u001b[1;32m----> 1\u001b[0m \u001b[38;5;28;01mimport\u001b[39;00m \u001b[38;5;21;01mmaths\u001b[39;00m\n",
      "\u001b[1;31mModuleNotFoundError\u001b[0m: No module named 'maths'"
     ]
    }
   ],
   "source": [
    ">>> import maths\n",
    "\n",
    "#ModuleNotFoundError: No module named 'maths'\n"
   ]
  },
  {
   "cell_type": "code",
   "execution_count": null,
   "id": "e079da0e",
   "metadata": {},
   "outputs": [],
   "source": [
    "# FIX\n",
    "\n",
    ">>> import math\n"
   ]
  },
  {
   "cell_type": "markdown",
   "id": "5336ae58",
   "metadata": {},
   "source": [
    "### 5. Attribute Error"
   ]
  },
  {
   "cell_type": "code",
   "execution_count": 6,
   "id": "f6c78b85",
   "metadata": {},
   "outputs": [
    {
     "ename": "AttributeError",
     "evalue": "module 'math' has no attribute 'PI'",
     "output_type": "error",
     "traceback": [
      "\u001b[1;31m---------------------------------------------------------------------------\u001b[0m",
      "\u001b[1;31mAttributeError\u001b[0m                            Traceback (most recent call last)",
      "Cell \u001b[1;32mIn[6], line 2\u001b[0m\n\u001b[0;32m      1\u001b[0m \u001b[38;5;28;01mimport\u001b[39;00m \u001b[38;5;21;01mmath\u001b[39;00m\n\u001b[1;32m----> 2\u001b[0m math\u001b[38;5;241m.\u001b[39mPI\n",
      "\u001b[1;31mAttributeError\u001b[0m: module 'math' has no attribute 'PI'"
     ]
    }
   ],
   "source": [
    ">>> import math\n",
    ">>> math.PI\n",
    "\n",
    "# AttributeError: module 'math' has no attribute 'PI'\n"
   ]
  },
  {
   "cell_type": "code",
   "execution_count": null,
   "id": "1d5561d3",
   "metadata": {},
   "outputs": [],
   "source": [
    "# FIX\n",
    "\n",
    ">>> math.pi\n",
    "3.141592653589793\n"
   ]
  },
  {
   "cell_type": "markdown",
   "id": "3722b84a",
   "metadata": {},
   "source": [
    "### 6. Key Error"
   ]
  },
  {
   "cell_type": "code",
   "execution_count": 7,
   "id": "115d4571",
   "metadata": {},
   "outputs": [
    {
     "ename": "KeyError",
     "evalue": "'county'",
     "output_type": "error",
     "traceback": [
      "\u001b[1;31m---------------------------------------------------------------------------\u001b[0m",
      "\u001b[1;31mKeyError\u001b[0m                                  Traceback (most recent call last)",
      "Cell \u001b[1;32mIn[7], line 2\u001b[0m\n\u001b[0;32m      1\u001b[0m user \u001b[38;5;241m=\u001b[39m {\u001b[38;5;124m'\u001b[39m\u001b[38;5;124mname\u001b[39m\u001b[38;5;124m'\u001b[39m: \u001b[38;5;124m'\u001b[39m\u001b[38;5;124mSuni\u001b[39m\u001b[38;5;124m'\u001b[39m, \u001b[38;5;124m'\u001b[39m\u001b[38;5;124mage\u001b[39m\u001b[38;5;124m'\u001b[39m: \u001b[38;5;241m25\u001b[39m, \u001b[38;5;124m'\u001b[39m\u001b[38;5;124mcountry\u001b[39m\u001b[38;5;124m'\u001b[39m: \u001b[38;5;124m'\u001b[39m\u001b[38;5;124mFinland\u001b[39m\u001b[38;5;124m'\u001b[39m}\n\u001b[1;32m----> 2\u001b[0m user[\u001b[38;5;124m'\u001b[39m\u001b[38;5;124mcounty\u001b[39m\u001b[38;5;124m'\u001b[39m]\n",
      "\u001b[1;31mKeyError\u001b[0m: 'county'"
     ]
    }
   ],
   "source": [
    ">>> user = {'name': 'Suni', 'age': 25, 'country': 'Finland'}\n",
    ">>> user['county']\n",
    "\n",
    "# KeyError: 'county'\n"
   ]
  },
  {
   "cell_type": "code",
   "execution_count": null,
   "id": "ee142159",
   "metadata": {},
   "outputs": [],
   "source": [
    "# FIX\n",
    "\n",
    ">>> user['country']\n",
    "'Finland'\n"
   ]
  },
  {
   "cell_type": "markdown",
   "id": "a4a2386a",
   "metadata": {},
   "source": [
    "### 7. Type Error"
   ]
  },
  {
   "cell_type": "code",
   "execution_count": 8,
   "id": "5d84ce9a",
   "metadata": {},
   "outputs": [
    {
     "ename": "TypeError",
     "evalue": "unsupported operand type(s) for +: 'int' and 'str'",
     "output_type": "error",
     "traceback": [
      "\u001b[1;31m---------------------------------------------------------------------------\u001b[0m",
      "\u001b[1;31mTypeError\u001b[0m                                 Traceback (most recent call last)",
      "Cell \u001b[1;32mIn[8], line 1\u001b[0m\n\u001b[1;32m----> 1\u001b[0m \u001b[38;5;241m4\u001b[39m \u001b[38;5;241m+\u001b[39m \u001b[38;5;124m'\u001b[39m\u001b[38;5;124m3\u001b[39m\u001b[38;5;124m'\u001b[39m\n",
      "\u001b[1;31mTypeError\u001b[0m: unsupported operand type(s) for +: 'int' and 'str'"
     ]
    }
   ],
   "source": [
    ">>> 4 + '3'\n",
    "\n",
    "# TypeError: unsupported operand type(s) for +: 'int' and 'str'"
   ]
  },
  {
   "cell_type": "code",
   "execution_count": null,
   "id": "832c6544",
   "metadata": {},
   "outputs": [],
   "source": [
    "# FIX\n",
    "\n",
    ">>> 4 + int('3')\n",
    "7\n",
    ">>> 4 + float('3')\n",
    "7.0\n"
   ]
  },
  {
   "cell_type": "markdown",
   "id": "9a0a2e42",
   "metadata": {},
   "source": [
    "### 8. Import Error"
   ]
  },
  {
   "cell_type": "code",
   "execution_count": 9,
   "id": "01ab5de4",
   "metadata": {},
   "outputs": [
    {
     "ename": "ImportError",
     "evalue": "cannot import name 'power' from 'math' (unknown location)",
     "output_type": "error",
     "traceback": [
      "\u001b[1;31m---------------------------------------------------------------------------\u001b[0m",
      "\u001b[1;31mImportError\u001b[0m                               Traceback (most recent call last)",
      "Cell \u001b[1;32mIn[9], line 1\u001b[0m\n\u001b[1;32m----> 1\u001b[0m \u001b[38;5;28;01mfrom\u001b[39;00m \u001b[38;5;21;01mmath\u001b[39;00m \u001b[38;5;28;01mimport\u001b[39;00m power\n",
      "\u001b[1;31mImportError\u001b[0m: cannot import name 'power' from 'math' (unknown location)"
     ]
    }
   ],
   "source": [
    ">>> from math import power\n",
    "\n",
    "# ImportError: cannot import name 'power' from 'math'\n"
   ]
  },
  {
   "cell_type": "code",
   "execution_count": null,
   "id": "fa3463a6",
   "metadata": {},
   "outputs": [],
   "source": [
    "# FIX\n",
    "\n",
    ">>> from math import pow\n",
    ">>> pow(2, 3)\n",
    "8.0\n"
   ]
  },
  {
   "cell_type": "markdown",
   "id": "f7fda0bf",
   "metadata": {},
   "source": [
    "### 9. Value Error"
   ]
  },
  {
   "cell_type": "code",
   "execution_count": 10,
   "id": "f128f991",
   "metadata": {},
   "outputs": [
    {
     "ename": "ValueError",
     "evalue": "invalid literal for int() with base 10: '12a'",
     "output_type": "error",
     "traceback": [
      "\u001b[1;31m---------------------------------------------------------------------------\u001b[0m",
      "\u001b[1;31mValueError\u001b[0m                                Traceback (most recent call last)",
      "Cell \u001b[1;32mIn[10], line 1\u001b[0m\n\u001b[1;32m----> 1\u001b[0m \u001b[38;5;28mint\u001b[39m(\u001b[38;5;124m'\u001b[39m\u001b[38;5;124m12a\u001b[39m\u001b[38;5;124m'\u001b[39m)\n",
      "\u001b[1;31mValueError\u001b[0m: invalid literal for int() with base 10: '12a'"
     ]
    }
   ],
   "source": [
    ">>> int('12a')\n",
    "\n",
    "# ValueError: invalid literal for int() with base 10: '12a'\n"
   ]
  },
  {
   "cell_type": "markdown",
   "id": "ebba6cf5",
   "metadata": {},
   "source": [
    "### 10. ZeroDivision Error"
   ]
  },
  {
   "cell_type": "code",
   "execution_count": 11,
   "id": "ad2fade8",
   "metadata": {},
   "outputs": [
    {
     "ename": "ZeroDivisionError",
     "evalue": "division by zero",
     "output_type": "error",
     "traceback": [
      "\u001b[1;31m---------------------------------------------------------------------------\u001b[0m",
      "\u001b[1;31mZeroDivisionError\u001b[0m                         Traceback (most recent call last)",
      "Cell \u001b[1;32mIn[11], line 1\u001b[0m\n\u001b[1;32m----> 1\u001b[0m \u001b[38;5;241m1\u001b[39m \u001b[38;5;241m/\u001b[39m \u001b[38;5;241m0\u001b[39m\n",
      "\u001b[1;31mZeroDivisionError\u001b[0m: division by zero"
     ]
    }
   ],
   "source": [
    ">>> 1 / 0\n",
    "\n",
    "# ZeroDivisionError: division by zero\n"
   ]
  },
  {
   "cell_type": "code",
   "execution_count": null,
   "id": "6e06cdb2",
   "metadata": {},
   "outputs": [],
   "source": []
  }
 ],
 "metadata": {
  "kernelspec": {
   "display_name": "Python 3 (ipykernel)",
   "language": "python",
   "name": "python3"
  },
  "language_info": {
   "codemirror_mode": {
    "name": "ipython",
    "version": 3
   },
   "file_extension": ".py",
   "mimetype": "text/x-python",
   "name": "python",
   "nbconvert_exporter": "python",
   "pygments_lexer": "ipython3",
   "version": "3.11.3"
  }
 },
 "nbformat": 4,
 "nbformat_minor": 5
}
