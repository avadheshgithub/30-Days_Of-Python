{
 "cells": [
  {
   "cell_type": "markdown",
   "id": "ae6feccc",
   "metadata": {},
   "source": [
    "##  Statistics"
   ]
  },
  {
   "cell_type": "markdown",
   "id": "04e3053a",
   "metadata": {},
   "source": [
    "Statistics is a mathematical discipline that involves the collection, organization, analysis, interpretation, and presentation of data. It's an essential prerequisite for data science and machine learning as it helps in making data-driven decisions. "
   ]
  },
  {
   "cell_type": "markdown",
   "id": "7916b6ce",
   "metadata": {},
   "source": [
    "Python's built-in statistics module offers functions for calculating mathematical statistics of numerical data. It is suitable for simple statistical analysis but not intended to replace more comprehensive packages like NumPy, SciPy, or professional statistical software."
   ]
  },
  {
   "cell_type": "markdown",
   "id": "7e94e9ee",
   "metadata": {},
   "source": [
    "### 1. Numpy"
   ]
  },
  {
   "cell_type": "markdown",
   "id": "bc2b3e6f",
   "metadata": {},
   "source": [
    "#### Installing NumPy"
   ]
  },
  {
   "cell_type": "code",
   "execution_count": 1,
   "id": "9ef5f038",
   "metadata": {},
   "outputs": [
    {
     "name": "stdout",
     "output_type": "stream",
     "text": [
      "Requirement already satisfied: numpy in c:\\users\\avadhesh ku. shah\\anaconda3\\lib\\site-packages (1.24.3)Note: you may need to restart the kernel to use updated packages.\n",
      "\n"
     ]
    }
   ],
   "source": [
    "pip install numpy\n"
   ]
  },
  {
   "cell_type": "markdown",
   "id": "564a52a8",
   "metadata": {},
   "source": [
    "#### Importing NumPy"
   ]
  },
  {
   "cell_type": "code",
   "execution_count": 3,
   "id": "6f70bf40",
   "metadata": {},
   "outputs": [],
   "source": [
    "import numpy as np\n"
   ]
  },
  {
   "cell_type": "markdown",
   "id": "846b98a6",
   "metadata": {},
   "source": [
    "#### Checking the Version and Available Methods"
   ]
  },
  {
   "cell_type": "code",
   "execution_count": 4,
   "id": "2cc4f913",
   "metadata": {},
   "outputs": [
    {
     "name": "stdout",
     "output_type": "stream",
     "text": [
      "numpy: 1.24.3\n",
      "['ALLOW_THREADS', 'AxisError', 'BUFSIZE', 'CLIP', 'ComplexWarning', 'DataSource', 'ERR_CALL', 'ERR_DEFAULT', 'ERR_IGNORE', 'ERR_LOG', 'ERR_PRINT', 'ERR_RAISE', 'ERR_WARN', 'FLOATING_POINT_SUPPORT', 'FPE_DIVIDEBYZERO', 'FPE_INVALID', 'FPE_OVERFLOW', 'FPE_UNDERFLOW', 'False_', 'Inf', 'Infinity', 'MAXDIMS', 'MAY_SHARE_BOUNDS', 'MAY_SHARE_EXACT', 'ModuleDeprecationWarning', 'NAN', 'NINF', 'NZERO', 'NaN', 'PINF', 'PZERO', 'RAISE', 'RankWarning', 'SHIFT_DIVIDEBYZERO', 'SHIFT_INVALID', 'SHIFT_OVERFLOW', 'SHIFT_UNDERFLOW', 'ScalarType', 'Tester', 'TooHardError', 'True_', 'UFUNC_BUFSIZE_DEFAULT', 'UFUNC_PYVALS_NAME', 'VisibleDeprecationWarning', 'WRAP', '_CopyMode', '_NoValue', '_UFUNC_API', '__NUMPY_SETUP__', '__all__', '__builtins__', '__cached__', '__config__', '__deprecated_attrs__', '__dir__', '__doc__', '__expired_functions__', '__file__', '__former_attrs__', '__future_scalars__', '__getattr__', '__git_version__', '__loader__', '__mkl_version__', '__name__', '__package__', '__path__', '__spec__', '__version__', '_add_newdoc_ufunc', '_builtins', '_distributor_init', '_financial_names', '_get_promotion_state', '_globals', '_int_extended_msg', '_mat', '_no_nep50_warning', '_pyinstaller_hooks_dir', '_pytesttester', '_set_promotion_state', '_specific_msg', '_version', 'abs', 'absolute', 'add', 'add_docstring', 'add_newdoc', 'add_newdoc_ufunc', 'all', 'allclose', 'alltrue', 'amax', 'amin', 'angle', 'any', 'append', 'apply_along_axis', 'apply_over_axes', 'arange', 'arccos', 'arccosh', 'arcsin', 'arcsinh', 'arctan', 'arctan2', 'arctanh', 'argmax', 'argmin', 'argpartition', 'argsort', 'argwhere', 'around', 'array', 'array2string', 'array_equal', 'array_equiv', 'array_repr', 'array_split', 'array_str', 'asanyarray', 'asarray', 'asarray_chkfinite', 'ascontiguousarray', 'asfarray', 'asfortranarray', 'asmatrix', 'atleast_1d', 'atleast_2d', 'atleast_3d', 'average', 'bartlett', 'base_repr', 'binary_repr', 'bincount', 'bitwise_and', 'bitwise_not', 'bitwise_or', 'bitwise_xor', 'blackman', 'block', 'bmat', 'bool_', 'broadcast', 'broadcast_arrays', 'broadcast_shapes', 'broadcast_to', 'busday_count', 'busday_offset', 'busdaycalendar', 'byte', 'byte_bounds', 'bytes_', 'c_', 'can_cast', 'cast', 'cbrt', 'cdouble', 'ceil', 'cfloat', 'char', 'character', 'chararray', 'choose', 'clip', 'clongdouble', 'clongfloat', 'column_stack', 'common_type', 'compare_chararrays', 'compat', 'complex128', 'complex64', 'complex_', 'complexfloating', 'compress', 'concatenate', 'conj', 'conjugate', 'convolve', 'copy', 'copysign', 'copyto', 'corrcoef', 'correlate', 'cos', 'cosh', 'count_nonzero', 'cov', 'cross', 'csingle', 'ctypeslib', 'cumprod', 'cumproduct', 'cumsum', 'datetime64', 'datetime_as_string', 'datetime_data', 'deg2rad', 'degrees', 'delete', 'deprecate', 'deprecate_with_doc', 'diag', 'diag_indices', 'diag_indices_from', 'diagflat', 'diagonal', 'diff', 'digitize', 'disp', 'divide', 'divmod', 'dot', 'double', 'dsplit', 'dstack', 'dtype', 'e', 'ediff1d', 'einsum', 'einsum_path', 'emath', 'empty', 'empty_like', 'equal', 'errstate', 'euler_gamma', 'exp', 'exp2', 'expand_dims', 'expm1', 'extract', 'eye', 'fabs', 'fastCopyAndTranspose', 'fft', 'fill_diagonal', 'find_common_type', 'finfo', 'fix', 'flatiter', 'flatnonzero', 'flexible', 'flip', 'fliplr', 'flipud', 'float16', 'float32', 'float64', 'float_', 'float_power', 'floating', 'floor', 'floor_divide', 'fmax', 'fmin', 'fmod', 'format_float_positional', 'format_float_scientific', 'format_parser', 'frexp', 'from_dlpack', 'frombuffer', 'fromfile', 'fromfunction', 'fromiter', 'frompyfunc', 'fromregex', 'fromstring', 'full', 'full_like', 'gcd', 'generic', 'genfromtxt', 'geomspace', 'get_array_wrap', 'get_include', 'get_printoptions', 'getbufsize', 'geterr', 'geterrcall', 'geterrobj', 'gradient', 'greater', 'greater_equal', 'half', 'hamming', 'hanning', 'heaviside', 'histogram', 'histogram2d', 'histogram_bin_edges', 'histogramdd', 'hsplit', 'hstack', 'hypot', 'i0', 'identity', 'iinfo', 'imag', 'in1d', 'index_exp', 'indices', 'inexact', 'inf', 'info', 'infty', 'inner', 'insert', 'int16', 'int32', 'int64', 'int8', 'int_', 'intc', 'integer', 'interp', 'intersect1d', 'intp', 'invert', 'is_busday', 'isclose', 'iscomplex', 'iscomplexobj', 'isfinite', 'isfortran', 'isin', 'isinf', 'isnan', 'isnat', 'isneginf', 'isposinf', 'isreal', 'isrealobj', 'isscalar', 'issctype', 'issubclass_', 'issubdtype', 'issubsctype', 'iterable', 'ix_', 'kaiser', 'kron', 'lcm', 'ldexp', 'left_shift', 'less', 'less_equal', 'lexsort', 'lib', 'linalg', 'linspace', 'little_endian', 'load', 'loadtxt', 'log', 'log10', 'log1p', 'log2', 'logaddexp', 'logaddexp2', 'logical_and', 'logical_not', 'logical_or', 'logical_xor', 'logspace', 'longcomplex', 'longdouble', 'longfloat', 'longlong', 'lookfor', 'ma', 'mask_indices', 'mat', 'math', 'matmul', 'matrix', 'max', 'maximum', 'maximum_sctype', 'may_share_memory', 'mean', 'median', 'memmap', 'meshgrid', 'mgrid', 'min', 'min_scalar_type', 'minimum', 'mintypecode', 'mkl', 'mod', 'modf', 'moveaxis', 'msort', 'multiply', 'nan', 'nan_to_num', 'nanargmax', 'nanargmin', 'nancumprod', 'nancumsum', 'nanmax', 'nanmean', 'nanmedian', 'nanmin', 'nanpercentile', 'nanprod', 'nanquantile', 'nanstd', 'nansum', 'nanvar', 'nbytes', 'ndarray', 'ndenumerate', 'ndim', 'ndindex', 'nditer', 'negative', 'nested_iters', 'newaxis', 'nextafter', 'nonzero', 'not_equal', 'numarray', 'number', 'obj2sctype', 'object_', 'ogrid', 'oldnumeric', 'ones', 'ones_like', 'outer', 'packbits', 'pad', 'partition', 'percentile', 'pi', 'piecewise', 'place', 'poly', 'poly1d', 'polyadd', 'polyder', 'polydiv', 'polyfit', 'polyint', 'polymul', 'polynomial', 'polysub', 'polyval', 'positive', 'power', 'printoptions', 'prod', 'product', 'promote_types', 'ptp', 'put', 'put_along_axis', 'putmask', 'quantile', 'r_', 'rad2deg', 'radians', 'random', 'ravel', 'ravel_multi_index', 'real', 'real_if_close', 'rec', 'recarray', 'recfromcsv', 'recfromtxt', 'reciprocal', 'record', 'remainder', 'repeat', 'require', 'reshape', 'resize', 'result_type', 'right_shift', 'rint', 'roll', 'rollaxis', 'roots', 'rot90', 'round', 'round_', 'row_stack', 's_', 'safe_eval', 'save', 'savetxt', 'savez', 'savez_compressed', 'sctype2char', 'sctypeDict', 'sctypes', 'searchsorted', 'select', 'set_numeric_ops', 'set_printoptions', 'set_string_function', 'setbufsize', 'setdiff1d', 'seterr', 'seterrcall', 'seterrobj', 'setxor1d', 'shape', 'shares_memory', 'short', 'show_config', 'show_runtime', 'sign', 'signbit', 'signedinteger', 'sin', 'sinc', 'single', 'singlecomplex', 'sinh', 'size', 'sometrue', 'sort', 'sort_complex', 'source', 'spacing', 'split', 'sqrt', 'square', 'squeeze', 'stack', 'std', 'str_', 'string_', 'subtract', 'sum', 'swapaxes', 'take', 'take_along_axis', 'tan', 'tanh', 'tensordot', 'test', 'testing', 'tile', 'timedelta64', 'trace', 'tracemalloc_domain', 'transpose', 'trapz', 'tri', 'tril', 'tril_indices', 'tril_indices_from', 'trim_zeros', 'triu', 'triu_indices', 'triu_indices_from', 'true_divide', 'trunc', 'typecodes', 'typename', 'ubyte', 'ufunc', 'uint', 'uint16', 'uint32', 'uint64', 'uint8', 'uintc', 'uintp', 'ulonglong', 'unicode_', 'union1d', 'unique', 'unpackbits', 'unravel_index', 'unsignedinteger', 'unwrap', 'use_hugepage', 'ushort', 'vander', 'var', 'vdot', 'vectorize', 'version', 'void', 'vsplit', 'vstack', 'where', 'who', 'zeros', 'zeros_like']\n"
     ]
    }
   ],
   "source": [
    "print('numpy:', np.__version__)\n",
    "print(dir(np))\n"
   ]
  },
  {
   "cell_type": "code",
   "execution_count": null,
   "id": "9628d8e7",
   "metadata": {},
   "outputs": [],
   "source": []
  },
  {
   "cell_type": "markdown",
   "id": "c105cc3c",
   "metadata": {},
   "source": [
    "#### Creating NumPy Arrays"
   ]
  },
  {
   "cell_type": "code",
   "execution_count": 5,
   "id": "a4055d29",
   "metadata": {},
   "outputs": [
    {
     "name": "stdout",
     "output_type": "stream",
     "text": [
      "<class 'numpy.ndarray'>\n",
      "[1 2 3 4 5]\n"
     ]
    }
   ],
   "source": [
    "# Creating Integer Arrays\n",
    "\n",
    "python_list = [1, 2, 3, 4, 5]\n",
    "numpy_array_from_list = np.array(python_list)\n",
    "\n",
    "print(type(numpy_array_from_list))  \n",
    "print(numpy_array_from_list)        \n"
   ]
  },
  {
   "cell_type": "code",
   "execution_count": 6,
   "id": "14d8ad0e",
   "metadata": {},
   "outputs": [
    {
     "name": "stdout",
     "output_type": "stream",
     "text": [
      "[1. 2. 3. 4. 5.]\n"
     ]
    }
   ],
   "source": [
    " # Creating Float Arrays\n",
    "    \n",
    "numpy_array_from_list = np.array(python_list, dtype=float)\n",
    "print(numpy_array_from_list)        "
   ]
  },
  {
   "cell_type": "code",
   "execution_count": 7,
   "id": "7950cd24",
   "metadata": {},
   "outputs": [
    {
     "name": "stdout",
     "output_type": "stream",
     "text": [
      "[False  True  True False False]\n"
     ]
    }
   ],
   "source": [
    "# Creating Boolean Arrays\n",
    "\n",
    "numpy_bool_array = np.array([0, 1, -1, 0, 0], dtype=bool)\n",
    "print(numpy_bool_array)             "
   ]
  },
  {
   "cell_type": "code",
   "execution_count": 8,
   "id": "fc6c940c",
   "metadata": {},
   "outputs": [
    {
     "name": "stdout",
     "output_type": "stream",
     "text": [
      "<class 'numpy.ndarray'>\n",
      "[[0 1 2]\n",
      " [3 4 5]\n",
      " [6 7 8]]\n"
     ]
    }
   ],
   "source": [
    "# Multidimensional Arrays\n",
    "\n",
    "two_dimensional_list = [[0, 1, 2], [3, 4, 5], [6, 7, 8]]\n",
    "numpy_two_dimensional_list = np.array(two_dimensional_list)\n",
    "\n",
    "print(type(numpy_two_dimensional_list))  \n",
    "print(numpy_two_dimensional_list)\n"
   ]
  },
  {
   "cell_type": "code",
   "execution_count": 10,
   "id": "cdd02606",
   "metadata": {},
   "outputs": [
    {
     "name": "stdout",
     "output_type": "stream",
     "text": [
      "<class 'list'>\n",
      "[1.0, 2.0, 3.0, 4.0, 5.0]\n"
     ]
    }
   ],
   "source": [
    "# Converting Arrays to Lists\n",
    "\n",
    "np_to_list = numpy_array_from_list.tolist()\n",
    "\n",
    "print(type(np_to_list))             \n",
    "print(np_to_list)                   "
   ]
  },
  {
   "cell_type": "code",
   "execution_count": 11,
   "id": "2d54a411",
   "metadata": {},
   "outputs": [
    {
     "name": "stdout",
     "output_type": "stream",
     "text": [
      "(5,)\n",
      "(3, 3)\n",
      "int32\n"
     ]
    }
   ],
   "source": [
    "# Array Shape and Data Type\n",
    "\n",
    "nums = np.array([1, 2, 3, 4, 5])\n",
    "print(nums.shape)                   \n",
    "print(numpy_two_dimensional_list.shape) \n",
    "\n",
    "int_array = np.array([-3, -2, -1, 0, 1, 2, 3])\n",
    "print(int_array.dtype)              \n",
    "\n"
   ]
  },
  {
   "cell_type": "markdown",
   "id": "96393cc9",
   "metadata": {},
   "source": [
    "#### Mathematical Operations"
   ]
  },
  {
   "cell_type": "code",
   "execution_count": 13,
   "id": "89213435",
   "metadata": {},
   "outputs": [
    {
     "name": "stdout",
     "output_type": "stream",
     "text": [
      "[11 12 13 14 15]\n",
      "[-9 -8 -7 -6 -5]\n",
      "[10 20 30 40 50]\n",
      "[0.1 0.2 0.3 0.4 0.5]\n",
      "[1 2 0 1 2]\n",
      "[0 0 0 0 0]\n",
      "[ 1  4  9 16 25]\n"
     ]
    }
   ],
   "source": [
    "# Addition \n",
    "numpy_array_from_list = np.array([1, 2, 3, 4, 5])\n",
    "result = numpy_array_from_list + 10\n",
    "print(result)                      \n",
    "\n",
    "# Substraction\n",
    "result = numpy_array_from_list - 10\n",
    "print(result)                     \n",
    "\n",
    "# Multiplication\n",
    "result = numpy_array_from_list * 10\n",
    "print(result)                       \n",
    "\n",
    "# Division\n",
    "result = numpy_array_from_list / 10\n",
    "print(result)                      \n",
    "\n",
    "# Modulus\n",
    "result = numpy_array_from_list % 3\n",
    "print(result)                      \n",
    "\n",
    "# Floor Division\n",
    "result = numpy_array_from_list // 10\n",
    "print(result)                      \n",
    "\n",
    "# Expoential \n",
    "result = numpy_array_from_list ** 2\n",
    "print(result)                       \n"
   ]
  },
  {
   "cell_type": "markdown",
   "id": "aacaf686",
   "metadata": {},
   "source": [
    "#### Generating random numbers"
   ]
  },
  {
   "cell_type": "code",
   "execution_count": 14,
   "id": "b1561e08",
   "metadata": {},
   "outputs": [
    {
     "name": "stdout",
     "output_type": "stream",
     "text": [
      "0.6117725556938967\n",
      "[0.22751499 0.34598399 0.79861024 0.36989698 0.97608378]\n",
      "[ 90.04685171  81.26286867  91.52372773  60.39935192  74.69341509\n",
      "  78.12518485  86.56502417  99.65801754  76.79158834 102.8873805\n",
      "  83.3172865   72.50608689  91.26893676  69.56968572  72.45106762\n",
      " 102.50140906  81.00806558  81.68570349  67.47026473  73.42757328\n",
      "  86.7571079   71.92009273  87.46872661  77.50215217 106.58447462\n",
      "  96.77630584  79.97942143  71.69680263 109.47479457 104.28558619\n",
      "  72.73768031  76.12551031  89.7092783   68.76435667  60.08759335\n",
      " 119.9040841   75.70318122  86.90048552  67.49140246  70.50701687\n",
      "  89.33882737  75.79365541  65.35624332 112.9433426   85.54086213\n",
      " 113.04065143  50.66596748  63.41177556  89.99631565  55.85802716\n",
      "  76.74774999  84.8718913   75.37223479  63.73862312  66.80275205\n",
      "  78.81984766  98.86380292  87.86258743  76.8083353   93.47348414\n",
      "  69.37486903  65.28545559  91.45932204  96.33689555  68.89562467\n",
      "  81.1432318   84.85830437  72.66852876  57.78676073  73.36763892\n",
      "  59.17107568  92.1557858   71.69535629  76.6967455   94.40557311\n",
      "  99.04059953  73.69743146  91.37833816  86.89108604  73.48794116]\n",
      "[ 81.18098371  66.0122612   88.15602785  96.45465172  80.54048008\n",
      "  87.32353251  57.9996389  115.64094231  84.17048992  77.05774257\n",
      "  82.2840128   92.681929    56.27442     73.64094416  93.96163127\n",
      "  87.09357226  62.13800199  80.09532172  63.47800295  79.54337366\n",
      "  87.30928832  55.99287159  59.76727464  54.72127712  78.9022344\n",
      "  71.32627817  60.84275858 101.38046342  58.75940171  83.74950396\n",
      "  68.25043407  85.30161515  62.69456272  77.54489256 103.41471153\n",
      "  89.69641016  64.34468671 102.04490148  88.01083661 109.62600838\n",
      "  69.46919263  59.88557987  78.41700375  69.72326892  66.52037529\n",
      "  63.86256019  63.94207542  93.45907405  69.89056397  75.43091968\n",
      "  81.94172942 109.4158757   66.99951782  79.54454387  96.36371708\n",
      "  48.81539487  77.11017169  71.88797172  96.19639196  89.32526302\n",
      "  63.72625799 115.53047534  65.93526263  91.34074982  94.42598119\n",
      "  89.63717776  65.88363288  79.29659129  94.54898914  85.71595136\n",
      "  95.86074065  80.60884093  91.50316494  83.17640506  82.55019388\n",
      "  84.85398977  77.43050079  81.05802945  78.26829601  89.94277226]\n"
     ]
    }
   ],
   "source": [
    "# random Float\n",
    "random_float = np.random.random()\n",
    "print(random_float)                 \n",
    "\n",
    "random_floats = np.random.random(5)\n",
    "print(random_floats)               \n",
    "\n",
    "\n",
    "# Ramdom inegers\n",
    "normal_array = np.random.normal(79, 15, 80)\n",
    "print(normal_array)                \n",
    "\n",
    "# Random number with specific Distribution\n",
    "normal_array = np.random.normal(79, 15, 80)\n",
    "print(normal_array)                "
   ]
  },
  {
   "cell_type": "markdown",
   "id": "41820416",
   "metadata": {},
   "source": [
    "#### Visualizing Data"
   ]
  },
  {
   "cell_type": "code",
   "execution_count": 15,
   "id": "81dbb6be",
   "metadata": {},
   "outputs": [
    {
     "data": {
      "image/png": "[encoded data removed]",
      "text/plain": [
       "<Figure size 640x480 with 1 Axes>"
      ]
     },
     "metadata": {},
     "output_type": "display_data"
    }
   ],
   "source": [
    "# Histogram\n",
    "\n",
    "import matplotlib.pyplot as plt\n",
    "import seaborn as sns\n",
    "sns.set()\n",
    "\n",
    "plt.hist(normal_array, color=\"grey\", bins=50)\n",
    "plt.show()\n"
   ]
  },
  {
   "cell_type": "markdown",
   "id": "2a117842",
   "metadata": {},
   "source": [
    "#### Additional NumPy Functions"
   ]
  },
  {
   "cell_type": "code",
   "execution_count": 16,
   "id": "5a1b0a3e",
   "metadata": {},
   "outputs": [
    {
     "name": "stdout",
     "output_type": "stream",
     "text": [
      "[[1 1 1]\n",
      " [1 1 1]\n",
      " [1 1 1]]\n"
     ]
    }
   ],
   "source": [
    "#Creating Arrays with Specific Values\n",
    "\n",
    "numpy_zeroes = np.zeros((3, 3), dtype=int)\n",
    "numpy_ones = np.ones((3, 3), dtype=int)\n",
    "print(numpy_ones)"
   ]
  },
  {
   "cell_type": "code",
   "execution_count": 17,
   "id": "e3db8c20",
   "metadata": {},
   "outputs": [
    {
     "name": "stdout",
     "output_type": "stream",
     "text": [
      "[[1 2]\n",
      " [3 4]\n",
      " [5 6]]\n"
     ]
    }
   ],
   "source": [
    "# Reshaping Arrays\n",
    "\n",
    "first_shape = np.array([(1, 2, 3), (4, 5, 6)])\n",
    "reshaped = first_shape.reshape(3, 2)\n",
    "print(reshaped)         "
   ]
  },
  {
   "cell_type": "code",
   "execution_count": 21,
   "id": "92e2d265",
   "metadata": {},
   "outputs": [
    {
     "name": "stdout",
     "output_type": "stream",
     "text": [
      "[ 0  2  4  6  8 10 12 14 16 18]\n",
      "[ 1  3  5  7  9 11 13 15 17 19]\n",
      "[ 2  4  6  8 10 12 14 16 18]\n"
     ]
    }
   ],
   "source": [
    "# creating Sequences of Numbers\n",
    "\n",
    "whole_numbers = np.arange(0, 20, 2)\n",
    "print(whole_numbers)\n",
    "\n",
    "odd_numbers = np.arange(1, 20, 2)\n",
    "print(odd_numbers)                \n",
    "\n",
    "even_numbers = np.arange(2, 20, 2)\n",
    "print(even_numbers)   "
   ]
  },
  {
   "cell_type": "code",
   "execution_count": 22,
   "id": "2809b560",
   "metadata": {},
   "outputs": [
    {
     "name": "stdout",
     "output_type": "stream",
     "text": [
      "[ 0.   2.5  5.   7.5 10. ]\n",
      "[  10.           46.41588834  215.443469   1000.        ]\n"
     ]
    }
   ],
   "source": [
    "# Using linspace and logspace\n",
    "\n",
    "linspace_numbers = np.linspace(0, 10, 5)\n",
    "print(linspace_numbers)            \n",
    "\n",
    "logspace_numbers = np.logspace(1, 3, 4)\n",
    "print(logspace_numbers)            \n"
   ]
  },
  {
   "cell_type": "code",
   "execution_count": null,
   "id": "1cbde535",
   "metadata": {},
   "outputs": [],
   "source": []
  }
 ],
 "metadata": {
  "kernelspec": {
   "display_name": "Python 3 (ipykernel)",
   "language": "python",
   "name": "python3"
  },
  "language_info": {
   "codemirror_mode": {
    "name": "ipython",
    "version": 3
   },
   "file_extension": ".py",
   "mimetype": "text/x-python",
   "name": "python",
   "nbconvert_exporter": "python",
   "pygments_lexer": "ipython3",
   "version": "3.11.3"
  }
 },
 "nbformat": 4,
 "nbformat_minor": 5
}
