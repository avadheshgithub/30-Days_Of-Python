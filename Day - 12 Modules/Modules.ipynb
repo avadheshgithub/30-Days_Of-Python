{
 "cells": [
  {
   "cell_type": "markdown",
   "id": "63e0dc59",
   "metadata": {},
   "source": [
    "# Modules & Libraries"
   ]
  },
  {
   "cell_type": "markdown",
   "id": "8af18ef4",
   "metadata": {},
   "source": [
    "Module (like a code library) is a file written by another programmer that generally has\n",
    "a functions we can use."
   ]
  },
  {
   "cell_type": "markdown",
   "id": "6c21556e",
   "metadata": {},
   "source": [
    "a python module is a python file with .py extension includsing statement and defination. it contain code that you can resue in several programs"
   ]
  },
  {
   "cell_type": "markdown",
   "id": "5ede29d6",
   "metadata": {},
   "source": [
    "### Why it is important"
   ]
  },
  {
   "cell_type": "markdown",
   "id": "7675ca68",
   "metadata": {},
   "source": [
    "1. provide flexibility to organise the code in a logical way\n",
    "\n",
    "2. enable reusability of code\n",
    "\n",
    "4. helps in debugging code easily"
   ]
  },
  {
   "cell_type": "markdown",
   "id": "c59fa2d3",
   "metadata": {},
   "source": [
    "### Type of Modules"
   ]
  },
  {
   "cell_type": "markdown",
   "id": "eb58d929",
   "metadata": {},
   "source": [
    "1. bulit in modules  - random, os, sys, math\n",
    "\n",
    "2. user defined modules  - define your own"
   ]
  },
  {
   "cell_type": "markdown",
   "id": "67b0c09a",
   "metadata": {},
   "source": [
    "### Way to import module "
   ]
  },
  {
   "cell_type": "code",
   "execution_count": null,
   "id": "dc32fdd5",
   "metadata": {},
   "outputs": [],
   "source": [
    "1. import module_name\n",
    "\n",
    "2. import module_name as alias_name\n",
    "\n",
    "3. from module_name import var_name , f_name, class_name\n",
    "\n",
    "4. from module_name import address as alis_address\n",
    "\n",
    "5. from module_name import*"
   ]
  },
  {
   "cell_type": "markdown",
   "id": "cabc97a7",
   "metadata": {},
   "source": [
    "## 1. Create and import module"
   ]
  },
  {
   "cell_type": "code",
   "execution_count": null,
   "id": "28b10637",
   "metadata": {},
   "outputs": [],
   "source": [
    "## Create own module (mymodule.py)\n",
    "\n",
    "# (1)\n",
    "def generate_full_name(firstname,lastname):\n",
    "    return firstname + ' ' + lastname\n",
    "\n",
    "\n",
    "\n",
    "#(2)\n",
    "def sum_two_nums(a,b):\n",
    "    return a + b\n",
    "\n",
    "\n",
    "# (3)\n",
    "person = {\n",
    "    \"firstname\" : \"avadhesh\",\n",
    "    \"latname\" : \"shah\",\n",
    "    \"age\" : 19,\n",
    "    \"country\" : \"india\"\n",
    "}\n",
    "\n",
    "\n",
    "# (4)\n",
    "gravity = 9.81\n",
    "\n"
   ]
  },
  {
   "cell_type": "markdown",
   "id": "de732825",
   "metadata": {},
   "source": [
    "### Import my own module (main.py)"
   ]
  },
  {
   "cell_type": "code",
   "execution_count": null,
   "id": "4579a38e",
   "metadata": {},
   "outputs": [],
   "source": [
    "\n",
    "import mymodule\n",
    "print(mymodule.generate_full_name(\"avadhesh\",\"shah\"))\n"
   ]
  },
  {
   "cell_type": "markdown",
   "id": "0ec26895",
   "metadata": {},
   "source": [
    "### Import specific function"
   ]
  },
  {
   "cell_type": "code",
   "execution_count": null,
   "id": "e60a20f8",
   "metadata": {},
   "outputs": [],
   "source": [
    "from mymodule import generate_full_name, sum_two_nums, person, gravity\n",
    "\n",
    "print(mymodule.generate_full_name(\"avadhesh\",\"shah\"))\n",
    "\n",
    "print(sum_two_nums(1, 9))\n",
    "\n",
    "mass = 100\n",
    "weight = mass * gravity\n",
    "print(weight)\n",
    "\n",
    "print(person['firstname'])"
   ]
  },
  {
   "cell_type": "markdown",
   "id": "edac7f27",
   "metadata": {},
   "source": [
    "### Renaming imported Function"
   ]
  },
  {
   "cell_type": "code",
   "execution_count": null,
   "id": "4fdfff28",
   "metadata": {},
   "outputs": [],
   "source": [
    "from mymodule import generate_full_name as fullname, sum_two_nums as total, person as p, gravity as g\n",
    "\n",
    "\n",
    "print(fullname('Avadhesh', 'Shah'))\n",
    "\n",
    "\n",
    "print(total(1, 9))\n",
    "\n",
    "\n",
    "mass = 100\n",
    "weight = mass * g\n",
    "print(weight)\n",
    "\n",
    "\n",
    "print(p)\n",
    "print(p['firstname'])\n"
   ]
  },
  {
   "cell_type": "markdown",
   "id": "b4a44ad1",
   "metadata": {},
   "source": [
    "## Type of Modules"
   ]
  },
  {
   "cell_type": "markdown",
   "id": "5e42d2d0",
   "metadata": {},
   "source": [
    "### 1. OS Module"
   ]
  },
  {
   "cell_type": "code",
   "execution_count": null,
   "id": "b7ca83f8",
   "metadata": {},
   "outputs": [],
   "source": [
    "import os\n",
    "\n",
    "# Creating a directory\n",
    "os.mkdir('test_directory')\n",
    "\n",
    "# Changing the current directory\n",
    "os.chdir('test_directory')\n",
    "\n",
    "# Getting the current working directory\n",
    "print(os.getcwd())\n",
    "\n",
    "# Removing directory\n",
    "os.chdir('..')  # Move up one level to avoid removing the current working directory\n",
    "os.rmdir('test_directory')\n"
   ]
  },
  {
   "cell_type": "markdown",
   "id": "1579faec",
   "metadata": {},
   "source": [
    "### 2. Sys Module"
   ]
  },
  {
   "cell_type": "code",
   "execution_count": null,
   "id": "d603bb65",
   "metadata": {},
   "outputs": [],
   "source": [
    "import sys\n",
    "\n",
    "# Print command line arguments\n",
    "print('Command line arguments:', sys.argv)\n",
    "\n",
    "# Exit the script\n",
    "# sys.exit()\n",
    "\n",
    "# Largest integer a variable can take\n",
    "print('Max size of an integer:', sys.maxsize)\n",
    "\n",
    "# Python version\n",
    "print('Python version:', sys.version)\n"
   ]
  },
  {
   "cell_type": "markdown",
   "id": "d4189f4c",
   "metadata": {},
   "source": [
    "### 3. Statistics Module"
   ]
  },
  {
   "cell_type": "code",
   "execution_count": 1,
   "id": "38718eda",
   "metadata": {},
   "outputs": [
    {
     "name": "stdout",
     "output_type": "stream",
     "text": [
      "Mean: 21.09090909090909\n",
      "Median: 22\n",
      "Mode: 20\n",
      "Standard Deviation: 6.106628291529549\n"
     ]
    }
   ],
   "source": [
    "from statistics import mean, median, mode, stdev\n",
    "\n",
    "data = [20, 20, 4, 24, 25, 22, 26, 20, 23, 22, 26]\n",
    "\n",
    "print('Mean:', mean(data))\n",
    "print('Median:', median(data))\n",
    "print('Mode:', mode(data))\n",
    "print('Standard Deviation:', stdev(data))\n"
   ]
  },
  {
   "cell_type": "markdown",
   "id": "27e3ac0f",
   "metadata": {},
   "source": [
    "### 4. Math module"
   ]
  },
  {
   "cell_type": "code",
   "execution_count": 3,
   "id": "7c2193ba",
   "metadata": {},
   "outputs": [
    {
     "name": "stdout",
     "output_type": "stream",
     "text": [
      "Pi: 3.141592653589793\n",
      "Square root of 2: 1.4142135623730951\n",
      "2 raised to the power 3: 8.0\n",
      "Floor of 9.81: 9\n",
      "Ceil of 9.81: 10\n",
      "Logarithm base 10 of 100: 2.0\n",
      "3.141592653589793\n",
      "1.4142135623730951\n",
      "8.0\n",
      "9\n",
      "10\n",
      "2.0\n"
     ]
    }
   ],
   "source": [
    "import math\n",
    "\n",
    "print('Pi:', math.pi)\n",
    "print('Square root of 2:', math.sqrt(2))\n",
    "print('2 raised to the power 3:', math.pow(2, 3))\n",
    "print('Floor of 9.81:', math.floor(9.81))\n",
    "print('Ceil of 9.81:', math.ceil(9.81))\n",
    "print('Logarithm base 10 of 100:', math.log10(100))\n",
    "\n",
    "from math import pi, sqrt, pow, floor, ceil, log10\n",
    "print(pi)\n",
    "\n",
    "print(sqrt(2))\n",
    "\n",
    "print(pow(2, 3))\n",
    "\n",
    "print(floor(9.81))\n",
    "\n",
    "print(ceil(9.81))\n",
    "\n",
    "print(log10(100))\n"
   ]
  },
  {
   "cell_type": "markdown",
   "id": "ae0ad792",
   "metadata": {},
   "source": [
    "### 5. String module"
   ]
  },
  {
   "cell_type": "code",
   "execution_count": 4,
   "id": "8c45aa53",
   "metadata": {},
   "outputs": [
    {
     "name": "stdout",
     "output_type": "stream",
     "text": [
      "Ascii letters: abcdefghijklmnopqrstuvwxyzABCDEFGHIJKLMNOPQRSTUVWXYZ\n",
      "Digits: 0123456789\n",
      "Punctuation: !\"#$%&'()*+,-./:;<=>?@[\\]^_`{|}~\n"
     ]
    }
   ],
   "source": [
    "import string\n",
    "\n",
    "print('Ascii letters:', string.ascii_letters)\n",
    "print('Digits:', string.digits)\n",
    "print('Punctuation:', string.punctuation)\n"
   ]
  },
  {
   "cell_type": "markdown",
   "id": "69350e2b",
   "metadata": {},
   "source": [
    "### 6. Random Modules"
   ]
  },
  {
   "cell_type": "code",
   "execution_count": 5,
   "id": "7903c702",
   "metadata": {},
   "outputs": [
    {
     "name": "stdout",
     "output_type": "stream",
     "text": [
      "Random float between 0 and 1: 0.3871622199386463\n",
      "Random integer between 5 and 20: 14\n"
     ]
    }
   ],
   "source": [
    "from random import random, randint\n",
    "\n",
    "print('Random float between 0 and 1:', random())\n",
    "print('Random integer between 5 and 20:', randint(5, 20))\n"
   ]
  },
  {
   "cell_type": "markdown",
   "id": "7891484b",
   "metadata": {},
   "source": [
    "#  #Libraries in Python"
   ]
  },
  {
   "cell_type": "markdown",
   "id": "bd125011",
   "metadata": {},
   "source": [
    "### 1. Numpy"
   ]
  },
  {
   "cell_type": "markdown",
   "id": "309be54a",
   "metadata": {},
   "source": [
    "NumPy is a library for numerical computations. It provides support for arrays, matrices, and many mathematical functions."
   ]
  },
  {
   "cell_type": "code",
   "execution_count": 6,
   "id": "7b11560d",
   "metadata": {},
   "outputs": [
    {
     "name": "stdout",
     "output_type": "stream",
     "text": [
      "Array: [1 2 3 4 5]\n",
      "Sum: 15\n",
      "Mean: 3.0\n",
      "Standard Deviation: 1.4142135623730951\n"
     ]
    }
   ],
   "source": [
    "import numpy as np\n",
    "\n",
    "# Creating an array\n",
    "arr = np.array([1, 2, 3, 4, 5])\n",
    "print('Array:', arr)\n",
    "\n",
    "# Performing mathematical operations\n",
    "print('Sum:', np.sum(arr))\n",
    "print('Mean:', np.mean(arr))\n",
    "print('Standard Deviation:', np.std(arr))\n"
   ]
  },
  {
   "cell_type": "markdown",
   "id": "36bce0bb",
   "metadata": {},
   "source": [
    "### 2. Pandas"
   ]
  },
  {
   "cell_type": "markdown",
   "id": "85a232ca",
   "metadata": {},
   "source": [
    "Pandas is a library used for data manipulation and analysis. It provides data structures like DataFrames which are useful for handling tabular data"
   ]
  },
  {
   "cell_type": "code",
   "execution_count": 7,
   "id": "95f8c66d",
   "metadata": {},
   "outputs": [
    {
     "name": "stdout",
     "output_type": "stream",
     "text": [
      "DataFrame:\n",
      "    Name  Age\n",
      "0   John   28\n",
      "1   Anna   24\n",
      "2  Peter   35\n",
      "3  Linda   32\n",
      "Names: 0     John\n",
      "1     Anna\n",
      "2    Peter\n",
      "3    Linda\n",
      "Name: Name, dtype: object\n",
      "Ages greater than 30:     Name  Age\n",
      "2  Peter   35\n",
      "3  Linda   32\n"
     ]
    }
   ],
   "source": [
    "import pandas as pd\n",
    "\n",
    "# Creating a DataFrame\n",
    "data = {\n",
    "    'Name': ['John', 'Anna', 'Peter', 'Linda'],\n",
    "    'Age': [28, 24, 35, 32]\n",
    "}\n",
    "df = pd.DataFrame(data)\n",
    "print('DataFrame:')\n",
    "print(df)\n",
    "\n",
    "# Accessing data\n",
    "print('Names:', df['Name'])\n",
    "print('Ages greater than 30:', df[df['Age'] > 30])\n"
   ]
  },
  {
   "cell_type": "markdown",
   "id": "c0b132da",
   "metadata": {},
   "source": [
    "### 3. Matplotlib"
   ]
  },
  {
   "cell_type": "markdown",
   "id": "0c41c7b7",
   "metadata": {},
   "source": [
    "Matplotlib is a plotting library used for creating static, animated, and interactive visualizations."
   ]
  },
  {
   "cell_type": "code",
   "execution_count": 8,
   "id": "1a141a43",
   "metadata": {},
   "outputs": [
    {
     "data": {
      "image/png": "[encoded data removed]",
      "text/plain": [
       "<Figure size 640x480 with 1 Axes>"
      ]
     },
     "metadata": {},
     "output_type": "display_data"
    }
   ],
   "source": [
    "import matplotlib.pyplot as plt\n",
    "\n",
    "# Data\n",
    "x = [1, 2, 3, 4, 5]\n",
    "y = [2, 3, 5, 7, 11]\n",
    "\n",
    "# Plotting the data\n",
    "plt.plot(x, y)\n",
    "plt.xlabel('X-axis')\n",
    "plt.ylabel('Y-axis')\n",
    "plt.title('Simple Plot')\n",
    "plt.show()\n"
   ]
  },
  {
   "cell_type": "markdown",
   "id": "89326f3c",
   "metadata": {},
   "source": [
    "### 4. Scikit learn"
   ]
  },
  {
   "cell_type": "markdown",
   "id": "feb8be6f",
   "metadata": {},
   "source": [
    "Scikit-learn is a machine learning library that provides simple and efficient tools for data mining and data analysis."
   ]
  },
  {
   "cell_type": "code",
   "execution_count": 9,
   "id": "1edc4c7b",
   "metadata": {},
   "outputs": [
    {
     "name": "stdout",
     "output_type": "stream",
     "text": [
      "Predictions: [1.2 2.  2.8 3.6 4.4]\n"
     ]
    }
   ],
   "source": [
    "from sklearn.linear_model import LinearRegression\n",
    "import numpy as np\n",
    "\n",
    "# Data\n",
    "X = np.array([[1], [2], [3], [4], [5]])\n",
    "y = np.array([1, 3, 2, 3, 5])\n",
    "\n",
    "# Creating and training the model\n",
    "model = LinearRegression()\n",
    "model.fit(X, y)\n",
    "\n",
    "# Making predictions\n",
    "predictions = model.predict(X)\n",
    "print('Predictions:', predictions)\n"
   ]
  },
  {
   "cell_type": "markdown",
   "id": "158f2217",
   "metadata": {},
   "source": [
    "### 5. Request"
   ]
  },
  {
   "cell_type": "markdown",
   "id": "e2dcff71",
   "metadata": {},
   "source": [
    "Requests is a library used for making HTTP requests. It is used for interacting with web services and APIs."
   ]
  },
  {
   "cell_type": "code",
   "execution_count": 10,
   "id": "c774868c",
   "metadata": {},
   "outputs": [
    {
     "name": "stdout",
     "output_type": "stream",
     "text": [
      "Status Code: 200\n",
      "Response JSON: {'current_user_url': 'https://api.github.com/user', 'current_user_authorizations_html_url': 'https://github.com/settings/connections/applications{/client_id}', 'authorizations_url': 'https://api.github.com/authorizations', 'code_search_url': 'https://api.github.com/search/code?q={query}{&page,per_page,sort,order}', 'commit_search_url': 'https://api.github.com/search/commits?q={query}{&page,per_page,sort,order}', 'emails_url': 'https://api.github.com/user/emails', 'emojis_url': 'https://api.github.com/emojis', 'events_url': 'https://api.github.com/events', 'feeds_url': 'https://api.github.com/feeds', 'followers_url': 'https://api.github.com/user/followers', 'following_url': 'https://api.github.com/user/following{/target}', 'gists_url': 'https://api.github.com/gists{/gist_id}', 'hub_url': 'https://api.github.com/hub', 'issue_search_url': 'https://api.github.com/search/issues?q={query}{&page,per_page,sort,order}', 'issues_url': 'https://api.github.com/issues', 'keys_url': 'https://api.github.com/user/keys', 'label_search_url': 'https://api.github.com/search/labels?q={query}&repository_id={repository_id}{&page,per_page}', 'notifications_url': 'https://api.github.com/notifications', 'organization_url': 'https://api.github.com/orgs/{org}', 'organization_repositories_url': 'https://api.github.com/orgs/{org}/repos{?type,page,per_page,sort}', 'organization_teams_url': 'https://api.github.com/orgs/{org}/teams', 'public_gists_url': 'https://api.github.com/gists/public', 'rate_limit_url': 'https://api.github.com/rate_limit', 'repository_url': 'https://api.github.com/repos/{owner}/{repo}', 'repository_search_url': 'https://api.github.com/search/repositories?q={query}{&page,per_page,sort,order}', 'current_user_repositories_url': 'https://api.github.com/user/repos{?type,page,per_page,sort}', 'starred_url': 'https://api.github.com/user/starred{/owner}{/repo}', 'starred_gists_url': 'https://api.github.com/gists/starred', 'topic_search_url': 'https://api.github.com/search/topics?q={query}{&page,per_page}', 'user_url': 'https://api.github.com/users/{user}', 'user_organizations_url': 'https://api.github.com/user/orgs', 'user_repositories_url': 'https://api.github.com/users/{user}/repos{?type,page,per_page,sort}', 'user_search_url': 'https://api.github.com/search/users?q={query}{&page,per_page,sort,order}'}\n"
     ]
    }
   ],
   "source": [
    "import requests\n",
    "\n",
    "# Making a GET request\n",
    "response = requests.get('https://api.github.com')\n",
    "print('Status Code:', response.status_code)\n",
    "print('Response JSON:', response.json())\n"
   ]
  },
  {
   "cell_type": "markdown",
   "id": "738432d1",
   "metadata": {},
   "source": [
    "### 6. BeautifulSoup"
   ]
  },
  {
   "cell_type": "markdown",
   "id": "13530dfa",
   "metadata": {},
   "source": [
    "BeautifulSoup is a library used for web scraping purposes to pull data out of HTML and XML files."
   ]
  },
  {
   "cell_type": "code",
   "execution_count": 11,
   "id": "61275596",
   "metadata": {},
   "outputs": [
    {
     "name": "stdout",
     "output_type": "stream",
     "text": [
      "Page Title: Example Domain\n",
      "Link: https://www.iana.org/domains/example\n"
     ]
    }
   ],
   "source": [
    "from bs4 import BeautifulSoup\n",
    "import requests\n",
    "\n",
    "# Making a request to a webpage\n",
    "response = requests.get('https://example.com')\n",
    "soup = BeautifulSoup(response.content, 'html.parser')\n",
    "\n",
    "# Extracting data\n",
    "print('Page Title:', soup.title.string)\n",
    "for link in soup.find_all('a'):\n",
    "    print('Link:', link.get('href'))\n"
   ]
  },
  {
   "cell_type": "markdown",
   "id": "fe912f46",
   "metadata": {},
   "source": [
    "### 7. Flask"
   ]
  },
  {
   "cell_type": "markdown",
   "id": "27f69730",
   "metadata": {},
   "source": [
    "Flask is a lightweight web framework used for developing web applications."
   ]
  },
  {
   "cell_type": "code",
   "execution_count": 12,
   "id": "6aa1c5dd",
   "metadata": {},
   "outputs": [
    {
     "name": "stdout",
     "output_type": "stream",
     "text": [
      " * Serving Flask app '__main__'\n",
      " * Debug mode: on\n"
     ]
    },
    {
     "name": "stderr",
     "output_type": "stream",
     "text": [
      "WARNING: This is a development server. Do not use it in a production deployment. Use a production WSGI server instead.\n",
      " * Running on http://127.0.0.1:5000\n",
      "Press CTRL+C to quit\n",
      " * Restarting with watchdog (windowsapi)\n"
     ]
    },
    {
     "ename": "SystemExit",
     "evalue": "1",
     "output_type": "error",
     "traceback": [
      "An exception has occurred, use %tb to see the full traceback.\n",
      "\u001b[1;31mSystemExit\u001b[0m\u001b[1;31m:\u001b[0m 1\n"
     ]
    },
    {
     "name": "stderr",
     "output_type": "stream",
     "text": [
      "C:\\Users\\AVADHESH KU. SHAH\\anaconda3\\Lib\\site-packages\\IPython\\core\\interactiveshell.py:3513: UserWarning: To exit: use 'exit', 'quit', or Ctrl-D.\n",
      "  warn(\"To exit: use 'exit', 'quit', or Ctrl-D.\", stacklevel=1)\n"
     ]
    }
   ],
   "source": [
    "from flask import Flask\n",
    "\n",
    "app = Flask(__name__)\n",
    "\n",
    "@app.route('/')\n",
    "def home():\n",
    "    return \"Hello, World!\"\n",
    "\n",
    "if __name__ == '__main__':\n",
    "    app.run(debug=True)\n"
   ]
  },
  {
   "cell_type": "markdown",
   "id": "29621ea0",
   "metadata": {},
   "source": [
    "### 8. Tensorflow"
   ]
  },
  {
   "cell_type": "markdown",
   "id": "aa378112",
   "metadata": {},
   "source": [
    "TensorFlow is an open-source machine learning library used for deep learning and neural network models."
   ]
  },
  {
   "cell_type": "code",
   "execution_count": null,
   "id": "ad009c9a",
   "metadata": {},
   "outputs": [],
   "source": [
    "import tensorflow as tf\n",
    "\n",
    "# Creating a simple constant tensor\n",
    "hello = tf.constant('Hello, TensorFlow!')\n",
    "print(hello.numpy())\n"
   ]
  },
  {
   "cell_type": "markdown",
   "id": "58902e0a",
   "metadata": {},
   "source": [
    "### 9. Django"
   ]
  },
  {
   "cell_type": "markdown",
   "id": "b5945482",
   "metadata": {},
   "source": [
    "Django is a high-level Python web framework that encourages rapid development and clean, pragmatic design."
   ]
  },
  {
   "cell_type": "code",
   "execution_count": null,
   "id": "1590bddf",
   "metadata": {},
   "outputs": [],
   "source": [
    "# In a Django project, you would typically use the Django shell or scripts\n",
    "from myapp.models import MyModel\n",
    "\n",
    "# Querying the database\n",
    "all_objects = MyModel.objects.all()\n",
    "for obj in all_objects:\n",
    "    print(obj.name)\n"
   ]
  }
 ],
 "metadata": {
  "kernelspec": {
   "display_name": "Python 3 (ipykernel)",
   "language": "python",
   "name": "python3"
  },
  "language_info": {
   "codemirror_mode": {
    "name": "ipython",
    "version": 3
   },
   "file_extension": ".py",
   "mimetype": "text/x-python",
   "name": "python",
   "nbconvert_exporter": "python",
   "pygments_lexer": "ipython3",
   "version": "3.11.3"
  }
 },
 "nbformat": 4,
 "nbformat_minor": 5
}
