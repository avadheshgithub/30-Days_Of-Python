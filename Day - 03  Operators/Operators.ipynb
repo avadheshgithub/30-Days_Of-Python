{
 "cells": [
  {
   "cell_type": "markdown",
   "id": "7bb73c47",
   "metadata": {},
   "source": [
    "# Operators"
   ]
  },
  {
   "cell_type": "markdown",
   "id": "7a66d319",
   "metadata": {},
   "source": [
    "An operator is a symbol that performs a certain operation between operands."
   ]
  },
  {
   "cell_type": "markdown",
   "id": "d1ffb584",
   "metadata": {},
   "source": [
    "## Types of Operators"
   ]
  },
  {
   "cell_type": "markdown",
   "id": "d10b8851",
   "metadata": {},
   "source": [
    "Arithmetic Operators ( + , - ,*, / , % ,** )\n",
    "\n",
    "Relational / Comparison Operators ( == , != , > , < , >= , <= )\n",
    "\n",
    "Assignment Operators ( = , +=, -= ,*= , /= , %= ,**= )\n",
    "\n",
    "Logical Operators ( not , and , or )"
   ]
  },
  {
   "cell_type": "markdown",
   "id": "7d69c939",
   "metadata": {},
   "source": [
    "## Arithmetic Operator"
   ]
  },
  {
   "cell_type": "markdown",
   "id": "80f5172a",
   "metadata": {},
   "source": [
    "Precedence of Arithmetic Operators in Python\n",
    "The precedence of Arithmetic Operators in Python is as follows:\n",
    "\n",
    "P – Parentheses\n",
    "\n",
    "E – Exponentiation\n",
    "\n",
    "M – Multiplication (Multiplication and division have the same precedence)\n",
    "\n",
    "D – Division\n",
    "\n",
    "A – Addition (Addition and subtraction have the same precedence)\n",
    "\n",
    "S – Subtraction"
   ]
  },
  {
   "cell_type": "code",
   "execution_count": 2,
   "id": "69739831",
   "metadata": {},
   "outputs": [
    {
     "name": "stdout",
     "output_type": "stream",
     "text": [
      "13\n",
      "5\n",
      "36\n",
      "1\n",
      "6561\n"
     ]
    }
   ],
   "source": [
    "a = 9\n",
    "b = 4\n",
    "add = a + b\n",
    "\n",
    "sub = a - b\n",
    "\n",
    "mul = a * b\n",
    "\n",
    "mod = a % b\n",
    "\n",
    "p = a ** b\n",
    "print(add)\n",
    "print(sub)\n",
    "print(mul)\n",
    "print(mod)\n",
    "print(p)"
   ]
  },
  {
   "cell_type": "markdown",
   "id": "42d30715",
   "metadata": {},
   "source": [
    "## Relational operator"
   ]
  },
  {
   "cell_type": "markdown",
   "id": "f4d4acf5",
   "metadata": {},
   "source": [
    "In Python, the comparison operators have lower precedence than the arithmetic operators. All the operators within comparison operators have the same precedence order."
   ]
  },
  {
   "cell_type": "code",
   "execution_count": 3,
   "id": "e044df7b",
   "metadata": {},
   "outputs": [
    {
     "name": "stdout",
     "output_type": "stream",
     "text": [
      "False\n",
      "True\n",
      "False\n",
      "True\n",
      "False\n",
      "True\n"
     ]
    }
   ],
   "source": [
    "a = 13\n",
    "b = 33\n",
    "\n",
    "print(a > b)\n",
    "print(a < b)\n",
    "print(a == b)\n",
    "print(a != b)\n",
    "print(a >= b)\n",
    "print(a <= b)"
   ]
  },
  {
   "cell_type": "markdown",
   "id": "683e6c27",
   "metadata": {},
   "source": [
    "## Logical Operator"
   ]
  },
  {
   "cell_type": "markdown",
   "id": "8b0cd7bf",
   "metadata": {},
   "source": [
    "The precedence of Logical Operators in Python is as follows:\n",
    "\n",
    "Logical not\n",
    "logical and\n",
    "logical or"
   ]
  },
  {
   "cell_type": "code",
   "execution_count": 4,
   "id": "3457422b",
   "metadata": {},
   "outputs": [
    {
     "name": "stdout",
     "output_type": "stream",
     "text": [
      "False\n",
      "True\n",
      "False\n"
     ]
    }
   ],
   "source": [
    "a = True\n",
    "b = False\n",
    "print(a and b)\n",
    "print(a or b)\n",
    "print(not a)"
   ]
  },
  {
   "cell_type": "markdown",
   "id": "76ff5fb9",
   "metadata": {},
   "source": [
    "## Bitwise Operators"
   ]
  },
  {
   "cell_type": "markdown",
   "id": "146b6987",
   "metadata": {},
   "source": [
    "The precedence of Bitwise Operators in Python is as follows:\n",
    "\n",
    "Bitwise NOT\n",
    "\n",
    "Bitwise Shift\n",
    "\n",
    "Bitwise AND\n",
    "\n",
    "Bitwise XOR\n",
    "\n",
    "Bitwise OR"
   ]
  },
  {
   "cell_type": "code",
   "execution_count": 5,
   "id": "595eb69d",
   "metadata": {},
   "outputs": [
    {
     "name": "stdout",
     "output_type": "stream",
     "text": [
      "0\n",
      "14\n",
      "-11\n",
      "14\n",
      "2\n",
      "40\n"
     ]
    }
   ],
   "source": [
    "a = 10\n",
    "b = 4\n",
    "print(a & b)\n",
    "print(a | b)\n",
    "print(~a)\n",
    "print(a ^ b)\n",
    "print(a >> 2)\n",
    "print(a << 2)"
   ]
  },
  {
   "cell_type": "markdown",
   "id": "17ea209f",
   "metadata": {},
   "source": [
    "## Assignment Operators"
   ]
  },
  {
   "cell_type": "code",
   "execution_count": 6,
   "id": "e1fb0dfd",
   "metadata": {},
   "outputs": [
    {
     "name": "stdout",
     "output_type": "stream",
     "text": [
      "10\n",
      "20\n",
      "10\n",
      "100\n",
      "102400\n"
     ]
    }
   ],
   "source": [
    "a = 10\n",
    "b = a\n",
    "print(b)\n",
    "b += a\n",
    "print(b)\n",
    "b -= a\n",
    "print(b)\n",
    "b *= a\n",
    "print(b)\n",
    "b <<= a\n",
    "print(b)\n",
    "\n"
   ]
  },
  {
   "cell_type": "markdown",
   "id": "ec059336",
   "metadata": {},
   "source": [
    "## Identity Operators"
   ]
  },
  {
   "cell_type": "markdown",
   "id": "8c468007",
   "metadata": {},
   "source": [
    "is    ----      True if the operands are identical \n",
    "\n",
    "is not    ---  True if the operands are not identical \n"
   ]
  },
  {
   "cell_type": "code",
   "execution_count": 7,
   "id": "3e5debfc",
   "metadata": {},
   "outputs": [
    {
     "name": "stdout",
     "output_type": "stream",
     "text": [
      "True\n",
      "True\n"
     ]
    }
   ],
   "source": [
    "a = 10\n",
    "b = 20\n",
    "c = a\n",
    "\n",
    "print(a is not b)\n",
    "print(a is c)"
   ]
  },
  {
   "cell_type": "markdown",
   "id": "78c50ea9",
   "metadata": {},
   "source": [
    "## Membership Operators "
   ]
  },
  {
   "cell_type": "markdown",
   "id": "97ca0bda",
   "metadata": {},
   "source": [
    "in      -      True if value is found in the sequence\n",
    "\n",
    "not in   -     True if value is not found in the sequence"
   ]
  },
  {
   "cell_type": "code",
   "execution_count": 8,
   "id": "ceb9e2ab",
   "metadata": {},
   "outputs": [
    {
     "name": "stdout",
     "output_type": "stream",
     "text": [
      "x is NOT present in given list\n",
      "y is present in given list\n"
     ]
    }
   ],
   "source": [
    "x = 24\n",
    "y = 20\n",
    "list = [10, 20, 30, 40, 50]\n",
    "\n",
    "if (x not in list):\n",
    "    print(\"x is NOT present in given list\")\n",
    "else:\n",
    "    print(\"x is present in given list\")\n",
    "\n",
    "if (y in list):\n",
    "    print(\"y is present in given list\")\n",
    "else:\n",
    "    print(\"y is NOT present in given list\")"
   ]
  },
  {
   "cell_type": "markdown",
   "id": "8dd2c645",
   "metadata": {},
   "source": [
    "## Ternary Operator"
   ]
  },
  {
   "cell_type": "markdown",
   "id": "4a413690",
   "metadata": {},
   "source": [
    "in Python, Ternary operators also known as conditional expressions are operators that evaluate something based on a condition being true or false. It was added to Python in version 2.5. "
   ]
  },
  {
   "cell_type": "markdown",
   "id": "8f004b51",
   "metadata": {},
   "source": [
    "##### Syntax :  [on_true] if [expression] else [on_false] "
   ]
  },
  {
   "cell_type": "code",
   "execution_count": 9,
   "id": "135d8e8b",
   "metadata": {},
   "outputs": [
    {
     "name": "stdout",
     "output_type": "stream",
     "text": [
      "10\n"
     ]
    }
   ],
   "source": [
    "a, b = 10, 20\n",
    "min = a if a < b else b\n",
    "\n",
    "print(min)"
   ]
  },
  {
   "cell_type": "markdown",
   "id": "217146d6",
   "metadata": {},
   "source": [
    "## Operator Associativity in Python"
   ]
  },
  {
   "cell_type": "markdown",
   "id": "c6091d77",
   "metadata": {},
   "source": [
    "If an expression contains two or more operators with the same precedence then Operator Associativity is used to determine. It can either be Left to Right or from Right to Left."
   ]
  },
  {
   "cell_type": "code",
   "execution_count": 10,
   "id": "266f8e57",
   "metadata": {},
   "outputs": [
    {
     "name": "stdout",
     "output_type": "stream",
     "text": [
      "100.0\n",
      "6\n",
      "0\n",
      "512\n"
     ]
    }
   ],
   "source": [
    "print(100 / 10 * 10)\n",
    "print(5 - 2 + 3)\n",
    "print(5 - (2 + 3))\n",
    "print(2 ** 3 ** 2)"
   ]
  },
  {
   "cell_type": "code",
   "execution_count": null,
   "id": "2be3292a",
   "metadata": {},
   "outputs": [],
   "source": []
  },
  {
   "cell_type": "markdown",
   "id": "0da8719e",
   "metadata": {},
   "source": [
    "## Excercise"
   ]
  },
  {
   "cell_type": "code",
   "execution_count": 12,
   "id": "1e5db34c",
   "metadata": {},
   "outputs": [
    {
     "name": "stdout",
     "output_type": "stream",
     "text": [
      "Sum: 7\n",
      "Difference: 3\n",
      "Product: 10\n",
      "Quotient: 2.5\n",
      "Remainder: 1\n"
     ]
    }
   ],
   "source": [
    "num1 = 5\n",
    "num2 = 2\n",
    "sum = num1 + num2\n",
    "difference = num1 - num2\n",
    "product = num1 * num2\n",
    "quotient = num1 / num2 \n",
    "remainder = num1 % num2\n",
    "\n",
    "print(\"Sum:\", sum)\n",
    "print(\"Difference:\", difference)\n",
    "print(\"Product:\", product)\n",
    "print(\"Quotient:\", quotient)\n",
    "print(\"Remainder:\", remainder)"
   ]
  },
  {
   "cell_type": "markdown",
   "id": "e825d713",
   "metadata": {},
   "source": [
    "## Type Conversion"
   ]
  },
  {
   "cell_type": "markdown",
   "id": "4f56246e",
   "metadata": {},
   "source": [
    "Python interpreter automatically does . it happens implicelitly"
   ]
  },
  {
   "cell_type": "code",
   "execution_count": 14,
   "id": "8ab7379a",
   "metadata": {},
   "outputs": [
    {
     "name": "stdout",
     "output_type": "stream",
     "text": [
      "sum 3.0\n"
     ]
    }
   ],
   "source": [
    "a=1\n",
    "b = 2.0\n",
    "\n",
    "print(\"sum\",a+b)"
   ]
  },
  {
   "cell_type": "code",
   "execution_count": 15,
   "id": "b30cddbe",
   "metadata": {},
   "outputs": [
    {
     "ename": "TypeError",
     "evalue": "unsupported operand type(s) for +: 'int' and 'str'",
     "output_type": "error",
     "traceback": [
      "\u001b[1;31m---------------------------------------------------------------------------\u001b[0m",
      "\u001b[1;31mTypeError\u001b[0m                                 Traceback (most recent call last)",
      "Cell \u001b[1;32mIn[15], line 3\u001b[0m\n\u001b[0;32m      1\u001b[0m a,b \u001b[38;5;241m=\u001b[39m \u001b[38;5;241m1\u001b[39m,\u001b[38;5;124m\"\u001b[39m\u001b[38;5;124m2\u001b[39m\u001b[38;5;124m\"\u001b[39m\n\u001b[1;32m----> 3\u001b[0m \u001b[38;5;28mprint\u001b[39m(\u001b[38;5;124m\"\u001b[39m\u001b[38;5;124msum\u001b[39m\u001b[38;5;124m\"\u001b[39m,a\u001b[38;5;241m+\u001b[39mb)\n",
      "\u001b[1;31mTypeError\u001b[0m: unsupported operand type(s) for +: 'int' and 'str'"
     ]
    }
   ],
   "source": [
    "a,b = 1,\"2\"\n",
    "\n",
    "print(\"sum\",a+b)"
   ]
  },
  {
   "cell_type": "markdown",
   "id": "d7cfca91",
   "metadata": {},
   "source": [
    "## Type casting"
   ]
  },
  {
   "cell_type": "markdown",
   "id": "aeee01fc",
   "metadata": {},
   "source": [
    "manually conversion of data types called type casting . it is done by explicityly"
   ]
  },
  {
   "cell_type": "code",
   "execution_count": 16,
   "id": "900e1fee",
   "metadata": {},
   "outputs": [
    {
     "name": "stdout",
     "output_type": "stream",
     "text": [
      "3\n"
     ]
    }
   ],
   "source": [
    "a = 1\n",
    "b = \"2\"\n",
    "\n",
    "c = int(b)\n",
    "sum = a+c\n",
    "\n",
    "print(sum)"
   ]
  },
  {
   "cell_type": "markdown",
   "id": "244c694f",
   "metadata": {},
   "source": [
    "## Input in Python"
   ]
  },
  {
   "cell_type": "markdown",
   "id": "08b8c3b2",
   "metadata": {},
   "source": [
    "##### input( ) statement is used to accept values (using keyboard) from user"
   ]
  },
  {
   "cell_type": "markdown",
   "id": "78688be2",
   "metadata": {},
   "source": [
    "int (input()) #int \n",
    "\n",
    "input( ) #result for input( ) is always a str\n",
    "\n",
    "float ( input( ) ) #float\n"
   ]
  },
  {
   "cell_type": "code",
   "execution_count": 1,
   "id": "93c8e73a",
   "metadata": {},
   "outputs": [
    {
     "name": "stdout",
     "output_type": "stream",
     "text": [
      "enter your name:avadhesh\n",
      "welcome :  avadhesh\n"
     ]
    }
   ],
   "source": [
    "name = input (\"enter your name:\")\n",
    "print(\"welcome : \",name)"
   ]
  },
  {
   "cell_type": "code",
   "execution_count": null,
   "id": "924e5f1e",
   "metadata": {},
   "outputs": [],
   "source": []
  }
 ],
 "metadata": {
  "kernelspec": {
   "display_name": "Python 3 (ipykernel)",
   "language": "python",
   "name": "python3"
  },
  "language_info": {
   "codemirror_mode": {
    "name": "ipython",
    "version": 3
   },
   "file_extension": ".py",
   "mimetype": "text/x-python",
   "name": "python",
   "nbconvert_exporter": "python",
   "pygments_lexer": "ipython3",
   "version": "3.11.3"
  }
 },
 "nbformat": 4,
 "nbformat_minor": 5
}
