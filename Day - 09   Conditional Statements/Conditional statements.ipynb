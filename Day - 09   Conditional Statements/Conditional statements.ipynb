{
 "cells": [
  {
   "cell_type": "markdown",
   "id": "320c0920",
   "metadata": {},
   "source": [
    "## Conditional statements"
   ]
  },
  {
   "cell_type": "markdown",
   "id": "ccb4402a",
   "metadata": {},
   "source": [
    "if-elif-else (SYNTAX)\n",
    "\n",
    "\n",
    "\n",
    "if(condition) :\n",
    "\n",
    "    Statement1\n",
    "\n",
    "elif(condition):\n",
    "\n",
    "    Statement2\n",
    "\n",
    "else:\n",
    "\n",
    "    Statement3"
   ]
  },
  {
   "cell_type": "code",
   "execution_count": 2,
   "id": "be321b26",
   "metadata": {},
   "outputs": [
    {
     "name": "stdout",
     "output_type": "stream",
     "text": [
      "you are eigible for vote\n"
     ]
    }
   ],
   "source": [
    "age = 21\n",
    "\n",
    "if(age>18):\n",
    "    print(\"you are eigible for vote\")"
   ]
  },
  {
   "cell_type": "code",
   "execution_count": 4,
   "id": "a5924d73",
   "metadata": {},
   "outputs": [
    {
     "name": "stdout",
     "output_type": "stream",
     "text": [
      "can't vote\n"
     ]
    }
   ],
   "source": [
    "age = 16\n",
    "\n",
    "if(age>18):\n",
    "    print(\"you are eigible for vote\")\n",
    "else:\n",
    "    print(\"can't vote\")"
   ]
  },
  {
   "cell_type": "code",
   "execution_count": 8,
   "id": "9b7524bc",
   "metadata": {},
   "outputs": [
    {
     "name": "stdout",
     "output_type": "stream",
     "text": [
      "can vote\n"
     ]
    }
   ],
   "source": [
    "age = 18\n",
    "\n",
    "if(age>18):\n",
    "    print(\"you are eigible for vote\")\n",
    "elif(age==18):\n",
    "    print(\"can vote\")\n",
    "else:\n",
    "    print(\"can't vote\")"
   ]
  },
  {
   "cell_type": "markdown",
   "id": "76bba9d4",
   "metadata": {},
   "source": [
    "### Example"
   ]
  },
  {
   "cell_type": "code",
   "execution_count": 9,
   "id": "ad757936",
   "metadata": {},
   "outputs": [
    {
     "name": "stdout",
     "output_type": "stream",
     "text": [
      "You got a 'B' on the exam.\n"
     ]
    }
   ],
   "source": [
    "grade = 85\n",
    "\n",
    "if grade >= 90:\n",
    "    print(\"You got an 'A' on the exam.\")\n",
    "elif grade >= 80:\n",
    "    print(\"You got a 'B' on the exam.\")\n",
    "elif grade >= 70:\n",
    "    print(\"You got a 'C' on the exam.\")\n",
    "elif grade >= 60:\n",
    "    print(\"You got a 'D' on the exam.\")\n",
    "else:\n",
    "    print(\"You got an 'F' on the exam.\")"
   ]
  },
  {
   "cell_type": "markdown",
   "id": "6ede0e45",
   "metadata": {},
   "source": [
    "## Nesting if"
   ]
  },
  {
   "cell_type": "code",
   "execution_count": 10,
   "id": "dc2c38e1",
   "metadata": {},
   "outputs": [
    {
     "name": "stdout",
     "output_type": "stream",
     "text": [
      "num =  8\n",
      "divisible by 2 not divisible by 3\n"
     ]
    }
   ],
   "source": [
    "num=8\n",
    "print (\"num = \",num)\n",
    "if num%2==0:\n",
    "   if num%3==0:\n",
    "      print (\"Divisible by 3 and 2\")\n",
    "   else:\n",
    "      print (\"divisible by 2 not divisible by 3\")\n",
    "else:\n",
    "   if num%3==0:\n",
    "      print (\"divisible by 3 not divisible by 2\")\n",
    "   else:\n",
    "      print (\"not Divisible by 2 not divisible by 3\")"
   ]
  },
  {
   "cell_type": "code",
   "execution_count": null,
   "id": "d96198ea",
   "metadata": {},
   "outputs": [],
   "source": []
  }
 ],
 "metadata": {
  "kernelspec": {
   "display_name": "Python 3 (ipykernel)",
   "language": "python",
   "name": "python3"
  },
  "language_info": {
   "codemirror_mode": {
    "name": "ipython",
    "version": 3
   },
   "file_extension": ".py",
   "mimetype": "text/x-python",
   "name": "python",
   "nbconvert_exporter": "python",
   "pygments_lexer": "ipython3",
   "version": "3.11.3"
  }
 },
 "nbformat": 4,
 "nbformat_minor": 5
}
