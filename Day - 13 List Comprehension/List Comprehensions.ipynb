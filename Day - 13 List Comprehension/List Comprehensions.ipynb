{
 "cells": [
  {
   "cell_type": "markdown",
   "id": "42cb64a5",
   "metadata": {},
   "source": [
    "## 1.  List Comprehensions"
   ]
  },
  {
   "cell_type": "markdown",
   "id": "9edc8c2a",
   "metadata": {},
   "source": [
    "List comprehensions provide a concise way to create lists. They are generally more compact and faster than traditional for-loops."
   ]
  },
  {
   "cell_type": "markdown",
   "id": "922c99c4",
   "metadata": {},
   "source": [
    "### BAsic Syntax"
   ]
  },
  {
   "cell_type": "code",
   "execution_count": null,
   "id": "d0d8ebaf",
   "metadata": {},
   "outputs": [],
   "source": [
    "# Syntax\n",
    "\n",
    "[expression for item in iterable if condition]\n"
   ]
  },
  {
   "cell_type": "markdown",
   "id": "dbc2a396",
   "metadata": {},
   "source": [
    "#### Example 1: Converting a String to a List of Characters"
   ]
  },
  {
   "cell_type": "code",
   "execution_count": 1,
   "id": "71aaa82a",
   "metadata": {},
   "outputs": [
    {
     "name": "stdout",
     "output_type": "stream",
     "text": [
      "<class 'list'>\n",
      "['P', 'y', 't', 'h', 'o', 'n']\n"
     ]
    }
   ],
   "source": [
    "# Traditional way\n",
    "language = 'Python'\n",
    "lst = list(language)\n",
    "print(type(lst))  \n",
    "print(lst)        "
   ]
  },
  {
   "cell_type": "code",
   "execution_count": 2,
   "id": "aaba0453",
   "metadata": {},
   "outputs": [
    {
     "name": "stdout",
     "output_type": "stream",
     "text": [
      "<class 'list'>\n",
      "['P', 'y', 't', 'h', 'o', 'n']\n"
     ]
    }
   ],
   "source": [
    "# List comprehension way\n",
    "lst = [char for char in language]\n",
    "print(type(lst)) \n",
    "print(lst)        "
   ]
  },
  {
   "cell_type": "markdown",
   "id": "224d6400",
   "metadata": {},
   "source": [
    "#### Example 2: Generating a List of Numbers"
   ]
  },
  {
   "cell_type": "code",
   "execution_count": 5,
   "id": "0baaf68e",
   "metadata": {},
   "outputs": [
    {
     "name": "stdout",
     "output_type": "stream",
     "text": [
      "[0, 1, 2, 3, 4, 5, 6, 7, 8, 9, 10]\n",
      "[0, 1, 4, 9, 16, 25, 36, 49, 64, 81, 100]\n",
      "[(0, 0), (1, 1), (2, 4), (3, 9), (4, 16)]\n"
     ]
    }
   ],
   "source": [
    "# Generating numbers from 0 to 10\n",
    "numbers = [i for i in range(11)]\n",
    "print(numbers)  \n",
    "\n",
    "# Generating squares of numbers\n",
    "squares = [i * i for i in range(11)]\n",
    "print(squares) \n",
    "\n",
    "# Generating a list of tuples (number, square)\n",
    "numbers_and_squares = [(i, i * i) for i in range(5)]\n",
    "print(numbers_and_squares)   \n"
   ]
  },
  {
   "cell_type": "markdown",
   "id": "880075b9",
   "metadata": {},
   "source": [
    "####  Example 3: Using Conditions in List Comprehension"
   ]
  },
  {
   "cell_type": "code",
   "execution_count": 6,
   "id": "27245d76",
   "metadata": {},
   "outputs": [
    {
     "name": "stdout",
     "output_type": "stream",
     "text": [
      "[0, 2, 4, 6, 8, 10, 12, 14, 16, 18, 20]\n",
      "[1, 3, 5, 7, 9, 11, 13, 15, 17, 19]\n",
      "[4, 6, 8, 10]\n"
     ]
    }
   ],
   "source": [
    "# Generating even numbers from 0 to 20\n",
    "even_numbers = [i for i in range(21) if i % 2 == 0]\n",
    "print(even_numbers)  \n",
    "\n",
    "# Generating odd numbers from 0 to 20\n",
    "odd_numbers = [i for i in range(21) if i % 2 != 0]\n",
    "print(odd_numbers)  \n",
    "\n",
    "# Filtering positive even numbers from a list\n",
    "numbers = [-8, -7, -3, -1, 0, 1, 3, 4, 5, 7, 6, 8, 10]\n",
    "positive_even_numbers = [i for i in numbers if i % 2 == 0 and i > 0]\n",
    "print(positive_even_numbers) \n"
   ]
  },
  {
   "cell_type": "code",
   "execution_count": null,
   "id": "248c84f9",
   "metadata": {},
   "outputs": [],
   "source": []
  },
  {
   "cell_type": "markdown",
   "id": "cb755d7a",
   "metadata": {},
   "source": [
    "## 2. Lamda Expression"
   ]
  },
  {
   "cell_type": "markdown",
   "id": "be604cd8",
   "metadata": {},
   "source": [
    "Lambda functions are small anonymous functions defined with the lambda keyword. They can take any number of arguments but have only one expression."
   ]
  },
  {
   "cell_type": "code",
   "execution_count": null,
   "id": "60d2a724",
   "metadata": {},
   "outputs": [],
   "source": [
    "# Syntax\n",
    "\n",
    "lambda arguments: expression\n"
   ]
  },
  {
   "cell_type": "markdown",
   "id": "d20ad36a",
   "metadata": {},
   "source": [
    "#### Example 1: Basic Lambda Function"
   ]
  },
  {
   "cell_type": "code",
   "execution_count": 7,
   "id": "30c3c734",
   "metadata": {},
   "outputs": [
    {
     "name": "stdout",
     "output_type": "stream",
     "text": [
      "5\n",
      "5\n"
     ]
    }
   ],
   "source": [
    "# Named function\n",
    "def add_two_nums(a, b):\n",
    "    return a + b\n",
    "print(add_two_nums(2, 3)) \n",
    "\n",
    "\n",
    "# Lambda function\n",
    "add_two_nums = lambda a, b: a + b\n",
    "print(add_two_nums(2, 3)) \n"
   ]
  },
  {
   "cell_type": "markdown",
   "id": "07ad2bc0",
   "metadata": {},
   "source": [
    "#### Example 2: Self-invoking Lambda Function"
   ]
  },
  {
   "cell_type": "code",
   "execution_count": 8,
   "id": "94cbd785",
   "metadata": {},
   "outputs": [
    {
     "name": "stdout",
     "output_type": "stream",
     "text": [
      "5\n"
     ]
    }
   ],
   "source": [
    "# Self-invoking lambda function\n",
    "result = (lambda a, b: a + b)(2, 3)\n",
    "print(result)  \n"
   ]
  },
  {
   "cell_type": "markdown",
   "id": "6801af22",
   "metadata": {},
   "source": [
    "#### Example 3: Lambda Functions for Common Operations"
   ]
  },
  {
   "cell_type": "code",
   "execution_count": 9,
   "id": "3b412da6",
   "metadata": {},
   "outputs": [
    {
     "name": "stdout",
     "output_type": "stream",
     "text": [
      "9\n",
      "27\n",
      "22\n"
     ]
    }
   ],
   "source": [
    "# Square of a number\n",
    "square = lambda x: x ** 2\n",
    "print(square(3)) \n",
    "\n",
    "# Cube of a number\n",
    "cube = lambda x: x ** 3\n",
    "print(cube(3))  \n",
    "\n",
    "# Function with multiple variables\n",
    "multiple_variables = lambda a, b, c: a ** 2 - 3 * b + 4 * c\n",
    "print(multiple_variables(5, 5, 3))  \n"
   ]
  },
  {
   "cell_type": "code",
   "execution_count": null,
   "id": "0e1dc760",
   "metadata": {},
   "outputs": [],
   "source": []
  },
  {
   "cell_type": "markdown",
   "id": "7e60cded",
   "metadata": {},
   "source": [
    "## 3. Map ,Filter & Reduce"
   ]
  },
  {
   "cell_type": "code",
   "execution_count": 10,
   "id": "c34be88d",
   "metadata": {},
   "outputs": [
    {
     "name": "stdout",
     "output_type": "stream",
     "text": [
      "[1, 4, 9, 16, 25]\n"
     ]
    }
   ],
   "source": [
    "numbers = [1, 2, 3, 4, 5]\n",
    "squared = list(map(lambda x: x ** 2, numbers))\n",
    "print(squared)  \n"
   ]
  },
  {
   "cell_type": "code",
   "execution_count": 11,
   "id": "637faf60",
   "metadata": {},
   "outputs": [
    {
     "name": "stdout",
     "output_type": "stream",
     "text": [
      "[2, 4, 6, 8, 10]\n"
     ]
    }
   ],
   "source": [
    "numbers = [1, 2, 3, 4, 5, 6, 7, 8, 9, 10]\n",
    "even_numbers = list(filter(lambda x: x % 2 == 0, numbers))\n",
    "print(even_numbers)  \n"
   ]
  },
  {
   "cell_type": "code",
   "execution_count": 12,
   "id": "b56e159a",
   "metadata": {},
   "outputs": [
    {
     "name": "stdout",
     "output_type": "stream",
     "text": [
      "120\n"
     ]
    }
   ],
   "source": [
    "from functools import reduce\n",
    "\n",
    "numbers = [1, 2, 3, 4, 5]\n",
    "product = reduce(lambda x, y: x * y, numbers)\n",
    "print(product) \n"
   ]
  },
  {
   "cell_type": "code",
   "execution_count": null,
   "id": "a1cc7775",
   "metadata": {},
   "outputs": [],
   "source": []
  }
 ],
 "metadata": {
  "kernelspec": {
   "display_name": "Python 3 (ipykernel)",
   "language": "python",
   "name": "python3"
  },
  "language_info": {
   "codemirror_mode": {
    "name": "ipython",
    "version": 3
   },
   "file_extension": ".py",
   "mimetype": "text/x-python",
   "name": "python",
   "nbconvert_exporter": "python",
   "pygments_lexer": "ipython3",
   "version": "3.11.3"
  }
 },
 "nbformat": 4,
 "nbformat_minor": 5
}
