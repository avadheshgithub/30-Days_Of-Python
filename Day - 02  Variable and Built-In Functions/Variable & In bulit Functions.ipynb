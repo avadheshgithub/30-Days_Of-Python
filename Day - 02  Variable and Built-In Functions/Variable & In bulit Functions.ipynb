{
 "cells": [
  {
   "cell_type": "markdown",
   "id": "437bfa6d",
   "metadata": {},
   "source": [
    "## Variables\n",
    "\n",
    "A variable is a name given to a memory location in a program."
   ]
  },
  {
   "cell_type": "code",
   "execution_count": 1,
   "id": "4d4d9565",
   "metadata": {},
   "outputs": [
    {
     "name": "stdout",
     "output_type": "stream",
     "text": [
      "avadhesh\n",
      "19\n"
     ]
    }
   ],
   "source": [
    "name = \"avadhesh\"\n",
    "age = 19\n",
    "\n",
    "print(name)\n",
    "print(age)"
   ]
  },
  {
   "cell_type": "code",
   "execution_count": 2,
   "id": "d905f36e",
   "metadata": {},
   "outputs": [
    {
     "name": "stdout",
     "output_type": "stream",
     "text": [
      "my name is : avadhesh\n"
     ]
    }
   ],
   "source": [
    "print(\"my name is :\",name)"
   ]
  },
  {
   "cell_type": "code",
   "execution_count": 3,
   "id": "7a32364a",
   "metadata": {},
   "outputs": [
    {
     "name": "stdout",
     "output_type": "stream",
     "text": [
      "my age is : 19\n"
     ]
    }
   ],
   "source": [
    "print(\"my age is :\",age)"
   ]
  },
  {
   "cell_type": "code",
   "execution_count": 5,
   "id": "f8a7c714",
   "metadata": {},
   "outputs": [
    {
     "name": "stdout",
     "output_type": "stream",
     "text": [
      "<class 'int'>\n"
     ]
    }
   ],
   "source": [
    "print(type(age))"
   ]
  },
  {
   "cell_type": "code",
   "execution_count": 6,
   "id": "2f73c19f",
   "metadata": {},
   "outputs": [
    {
     "name": "stdout",
     "output_type": "stream",
     "text": [
      "<class 'str'>\n"
     ]
    }
   ],
   "source": [
    "print(type(name))"
   ]
  },
  {
   "cell_type": "markdown",
   "id": "26e491c7",
   "metadata": {},
   "source": [
    "## Rules for Naming Python Identifiers\n",
    "It cannot be a reserved python keyword.\n",
    "\n",
    "It should not contain white space.\n",
    "\n",
    "It can be a combination of A-Z, a-z, 0-9, or underscore.\n",
    "\n",
    "It should start with an alphabet character or an underscore ( _ ).\n",
    "\n",
    "It should not contain any special character other than an underscore ( _ )."
   ]
  },
  {
   "cell_type": "markdown",
   "id": "9451553a",
   "metadata": {},
   "source": [
    "\n",
    "\n",
    "## Data Types\n",
    "\n",
    "Integers\n",
    "\n",
    "String\n",
    "\n",
    "Float\n",
    "\n",
    "Boolean\n",
    "\n",
    "None"
   ]
  },
  {
   "cell_type": "code",
   "execution_count": 8,
   "id": "8ec1b82d",
   "metadata": {},
   "outputs": [],
   "source": [
    "\n",
    "age = 23\n",
    "old = False\n",
    "a = None\n"
   ]
  },
  {
   "cell_type": "code",
   "execution_count": 9,
   "id": "e34bd8b6",
   "metadata": {},
   "outputs": [
    {
     "name": "stdout",
     "output_type": "stream",
     "text": [
      "<class 'int'>\n",
      "<class 'bool'>\n",
      "<class 'NoneType'>\n"
     ]
    }
   ],
   "source": [
    "print(type(age))\n",
    "print(type(old))\n",
    "print(type(a))"
   ]
  },
  {
   "cell_type": "markdown",
   "id": "92bce6ec",
   "metadata": {},
   "source": [
    "## Pythons Keywords\n",
    "\n",
    "keywors are reserved words in python"
   ]
  },
  {
   "cell_type": "code",
   "execution_count": 11,
   "id": "6bff87d4",
   "metadata": {},
   "outputs": [
    {
     "name": "stdout",
     "output_type": "stream",
     "text": [
      "The list of keywords is : \n",
      "['False', 'None', 'True', 'and', 'as', 'assert', 'async', 'await', 'break', 'class', 'continue', 'def', 'del', 'elif', 'else', 'except', 'finally', 'for', 'from', 'global', 'if', 'import', 'in', 'is', 'lambda', 'nonlocal', 'not', 'or', 'pass', 'raise', 'return', 'try', 'while', 'with', 'yield']\n"
     ]
    }
   ],
   "source": [
    "import keyword\n",
    "\n",
    "print(\"The list of keywords is : \")\n",
    "\n",
    "print(keyword.kwlist)\n"
   ]
  },
  {
   "cell_type": "markdown",
   "id": "901cec3f",
   "metadata": {},
   "source": [
    "## Comments in Python"
   ]
  },
  {
   "cell_type": "markdown",
   "id": "2adc6d24",
   "metadata": {},
   "source": [
    " #Single Line Comment\n",
    "\n",
    "\"\"\"\n",
    "\n",
    "Multi Line\n",
    "\n",
    "Comment\n",
    "\n",
    "\"\"\""
   ]
  },
  {
   "cell_type": "code",
   "execution_count": null,
   "id": "301b4aa1",
   "metadata": {},
   "outputs": [],
   "source": []
  },
  {
   "cell_type": "markdown",
   "id": "0f2eac49",
   "metadata": {},
   "source": [
    "## In bulit functions "
   ]
  },
  {
   "cell_type": "markdown",
   "id": "432054a5",
   "metadata": {},
   "source": [
    "#### Method\tDescription\n",
    "\n",
    "append()\tAdds an element at the end of the list\n",
    " \n",
    "clear()\t     Removes all the elements from the list\n",
    "\n",
    "copy()\t     Returns a copy of the list\n",
    "\n",
    "count()\tReturns the number of elements with the specified value\n",
    "\n",
    "extend()\tAdd the elements of a list (or any iterable), to the end of the current list\n",
    "\n",
    "index()\tReturns the index of the first element with the specified value\n",
    "\n",
    "insert()\tAdds an element at the specified position\n",
    "\n",
    "pop()\tRemoves the element at the specified position\n",
    "\n",
    "remove()\tRemoves the first item with the specified value\n",
    "\n",
    "reverse()\tReverses the order of the list\n",
    "\n",
    "sort()\tSorts the list"
   ]
  },
  {
   "cell_type": "code",
   "execution_count": null,
   "id": "a11f68eb",
   "metadata": {},
   "outputs": [],
   "source": []
  }
 ],
 "metadata": {
  "kernelspec": {
   "display_name": "Python 3 (ipykernel)",
   "language": "python",
   "name": "python3"
  },
  "language_info": {
   "codemirror_mode": {
    "name": "ipython",
    "version": 3
   },
   "file_extension": ".py",
   "mimetype": "text/x-python",
   "name": "python",
   "nbconvert_exporter": "python",
   "pygments_lexer": "ipython3",
   "version": "3.11.3"
  }
 },
 "nbformat": 4,
 "nbformat_minor": 5
}
